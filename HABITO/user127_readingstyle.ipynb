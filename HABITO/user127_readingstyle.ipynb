{
 "cells": [
  {
   "cell_type": "code",
   "execution_count": 3,
   "metadata": {},
   "outputs": [],
   "source": [
    "import numpy as np\n",
    "import pandas as pd \n",
    "import pylab as pl\n",
    "from matplotlib import pyplot as plt #画图\n",
    "from sklearn.cluster import KMeans \n",
    "plt.rcParams['figure.figsize'] = (16,9)\n",
    "plt.style.use('ggplot')\n",
    "\n",
    "from mpl_toolkits import mplot3d\n",
    "%matplotlib inline\n",
    "import numpy as np\n",
    "import matplotlib.pyplot as plt\n",
    "import pandas as pd\n",
    "# import pandas_datareader as datareader\n",
    "import matplotlib.pyplot as plt\n",
    "import datetime\n",
    "from mpl_finance import candlestick_ohlc\n",
    "# from mpl_finance import candlestick_ohlc\n",
    "import matplotlib.dates as mdates"
   ]
  },
  {
   "cell_type": "markdown",
   "metadata": {},
   "source": [
    "reading data from reading_scroll_features table and some data cleaning "
   ]
  },
  {
   "cell_type": "code",
   "execution_count": 4,
   "metadata": {},
   "outputs": [
    {
     "data": {
      "text/html": [
       "<div>\n",
       "<style scoped>\n",
       "    .dataframe tbody tr th:only-of-type {\n",
       "        vertical-align: middle;\n",
       "    }\n",
       "\n",
       "    .dataframe tbody tr th {\n",
       "        vertical-align: top;\n",
       "    }\n",
       "\n",
       "    .dataframe thead th {\n",
       "        text-align: right;\n",
       "    }\n",
       "</style>\n",
       "<table border=\"1\" class=\"dataframe\">\n",
       "  <thead>\n",
       "    <tr style=\"text-align: right;\">\n",
       "      <th></th>\n",
       "      <th>user_id</th>\n",
       "      <th>reading_session</th>\n",
       "      <th>article_id</th>\n",
       "      <th>scroll_range</th>\n",
       "      <th>max_offset</th>\n",
       "      <th>min_offset</th>\n",
       "      <th>offset_difference</th>\n",
       "      <th>relative_time</th>\n",
       "      <th>reading_duration</th>\n",
       "    </tr>\n",
       "  </thead>\n",
       "  <tbody>\n",
       "    <tr>\n",
       "      <th>0</th>\n",
       "      <td>111</td>\n",
       "      <td>00c29290-338e-42e9-8897-c475c799e1e5</td>\n",
       "      <td>30118783</td>\n",
       "      <td>7116</td>\n",
       "      <td>61</td>\n",
       "      <td>10</td>\n",
       "      <td>51</td>\n",
       "      <td>0</td>\n",
       "      <td>1</td>\n",
       "    </tr>\n",
       "    <tr>\n",
       "      <th>1</th>\n",
       "      <td>111</td>\n",
       "      <td>00c29290-338e-42e9-8897-c475c799e1e5</td>\n",
       "      <td>30118783</td>\n",
       "      <td>7116</td>\n",
       "      <td>0</td>\n",
       "      <td>0</td>\n",
       "      <td>0</td>\n",
       "      <td>1</td>\n",
       "      <td>1</td>\n",
       "    </tr>\n",
       "    <tr>\n",
       "      <th>2</th>\n",
       "      <td>111</td>\n",
       "      <td>2684b548-a936-46f8-90d7-3941bb9cd096</td>\n",
       "      <td>30345801</td>\n",
       "      <td>6830</td>\n",
       "      <td>203</td>\n",
       "      <td>5</td>\n",
       "      <td>198</td>\n",
       "      <td>0</td>\n",
       "      <td>1</td>\n",
       "    </tr>\n",
       "    <tr>\n",
       "      <th>3</th>\n",
       "      <td>111</td>\n",
       "      <td>2684b548-a936-46f8-90d7-3941bb9cd096</td>\n",
       "      <td>30345801</td>\n",
       "      <td>6830</td>\n",
       "      <td>336</td>\n",
       "      <td>0</td>\n",
       "      <td>-336</td>\n",
       "      <td>1</td>\n",
       "      <td>1</td>\n",
       "    </tr>\n",
       "    <tr>\n",
       "      <th>4</th>\n",
       "      <td>111</td>\n",
       "      <td>2684b548-a936-46f8-90d7-3941bb9cd096</td>\n",
       "      <td>30367210</td>\n",
       "      <td>5404</td>\n",
       "      <td>650</td>\n",
       "      <td>46</td>\n",
       "      <td>604</td>\n",
       "      <td>0</td>\n",
       "      <td>10</td>\n",
       "    </tr>\n",
       "  </tbody>\n",
       "</table>\n",
       "</div>"
      ],
      "text/plain": [
       "   user_id                       reading_session  article_id  scroll_range  \\\n",
       "0      111  00c29290-338e-42e9-8897-c475c799e1e5    30118783          7116   \n",
       "1      111  00c29290-338e-42e9-8897-c475c799e1e5    30118783          7116   \n",
       "2      111  2684b548-a936-46f8-90d7-3941bb9cd096    30345801          6830   \n",
       "3      111  2684b548-a936-46f8-90d7-3941bb9cd096    30345801          6830   \n",
       "4      111  2684b548-a936-46f8-90d7-3941bb9cd096    30367210          5404   \n",
       "\n",
       "   max_offset  min_offset  offset_difference  relative_time  reading_duration  \n",
       "0          61          10                 51              0                 1  \n",
       "1           0           0                  0              1                 1  \n",
       "2         203           5                198              0                 1  \n",
       "3         336           0               -336              1                 1  \n",
       "4         650          46                604              0                10  "
      ]
     },
     "execution_count": 4,
     "metadata": {},
     "output_type": "execute_result"
    }
   ],
   "source": [
    "data = pd.read_csv('data/tbl_reading_style.csv')\n",
    "data = data[data['relative_time'] < 2000]\n",
    "data.head()"
   ]
  },
  {
   "cell_type": "markdown",
   "metadata": {},
   "source": [
    "display how each user's reading relative time distributed. "
   ]
  },
  {
   "cell_type": "code",
   "execution_count": 5,
   "metadata": {},
   "outputs": [
    {
     "name": "stdout",
     "output_type": "stream",
     "text": [
      "(7593,)\n",
      "(7593,)\n",
      "(7593, 2)\n"
     ]
    },
    {
     "data": {
      "text/plain": [
       "<matplotlib.collections.PathCollection at 0x1a20e73e48>"
      ]
     },
     "execution_count": 5,
     "metadata": {},
     "output_type": "execute_result"
    },
    {
     "data": {
      "image/png": "[encoded data removed]",
      "text/plain": [
       "<Figure size 432x288 with 1 Axes>"
      ]
     },
     "metadata": {
      "needs_background": "light"
     },
     "output_type": "display_data"
    }
   ],
   "source": [
    "f1 = data['relative_time'].values\n",
    "print(f1.shape)\n",
    "f2= data['user_id'].values\n",
    "print(f2.shape)\n",
    "x = np.array(list(zip(f1,f2)))\n",
    "print(x.shape)\n",
    "plt.scatter(f1,f2, c='black', s=7)\n",
    "#filter data 1.filtered() 2.sql \n",
    "\n"
   ]
  },
  {
   "cell_type": "code",
   "execution_count": 6,
   "metadata": {},
   "outputs": [],
   "source": [
    "# for index, row in data.iterrows():\n",
    "#     if row['offset_difference'] < 0:\n",
    "#         temp = row['max_offset']\n",
    "#         row['max_offset'] = row['min_offset']\n",
    "#        row['min_offset'] = temp\n",
    "#         print(row['max_offset'],row['min_offset'],row['offset_difference'])\n",
    "#         np.append([row['max_offset'],row['min_offset'],row['offset_difference']],a)\n",
    "#     if row['offset_difference'] > 0:\n",
    "#         np.append([row['max_offset'],row['min_offset'],row['offset_difference']],a)\n",
    "#         print(row['max_offset'],row['min_offset'],row['offset_difference'])\n",
    "\n"
   ]
  },
  {
   "cell_type": "markdown",
   "metadata": {},
   "source": [
    "display reading style by users"
   ]
  },
  {
   "cell_type": "code",
   "execution_count": 7,
   "metadata": {},
   "outputs": [
    {
     "data": {
      "text/html": [
       "<div>\n",
       "<style scoped>\n",
       "    .dataframe tbody tr th:only-of-type {\n",
       "        vertical-align: middle;\n",
       "    }\n",
       "\n",
       "    .dataframe tbody tr th {\n",
       "        vertical-align: top;\n",
       "    }\n",
       "\n",
       "    .dataframe thead th {\n",
       "        text-align: right;\n",
       "    }\n",
       "</style>\n",
       "<table border=\"1\" class=\"dataframe\">\n",
       "  <thead>\n",
       "    <tr style=\"text-align: right;\">\n",
       "      <th></th>\n",
       "      <th>user_id</th>\n",
       "      <th>reading_session</th>\n",
       "      <th>article_id</th>\n",
       "      <th>scroll_range</th>\n",
       "      <th>max_offset</th>\n",
       "      <th>min_offset</th>\n",
       "      <th>offset_difference</th>\n",
       "      <th>relative_time</th>\n",
       "      <th>reading_duration</th>\n",
       "    </tr>\n",
       "  </thead>\n",
       "  <tbody>\n",
       "    <tr>\n",
       "      <th>185</th>\n",
       "      <td>127</td>\n",
       "      <td>bc630298-b14e-431e-a1ef-b39ec6cc385c</td>\n",
       "      <td>36572649</td>\n",
       "      <td>6411</td>\n",
       "      <td>528</td>\n",
       "      <td>4</td>\n",
       "      <td>524</td>\n",
       "      <td>0</td>\n",
       "      <td>17</td>\n",
       "    </tr>\n",
       "    <tr>\n",
       "      <th>186</th>\n",
       "      <td>127</td>\n",
       "      <td>bc630298-b14e-431e-a1ef-b39ec6cc385c</td>\n",
       "      <td>36572649</td>\n",
       "      <td>6411</td>\n",
       "      <td>603</td>\n",
       "      <td>538</td>\n",
       "      <td>65</td>\n",
       "      <td>1</td>\n",
       "      <td>17</td>\n",
       "    </tr>\n",
       "    <tr>\n",
       "      <th>187</th>\n",
       "      <td>127</td>\n",
       "      <td>bc630298-b14e-431e-a1ef-b39ec6cc385c</td>\n",
       "      <td>36572649</td>\n",
       "      <td>6411</td>\n",
       "      <td>818</td>\n",
       "      <td>605</td>\n",
       "      <td>213</td>\n",
       "      <td>8</td>\n",
       "      <td>17</td>\n",
       "    </tr>\n",
       "    <tr>\n",
       "      <th>188</th>\n",
       "      <td>127</td>\n",
       "      <td>bc630298-b14e-431e-a1ef-b39ec6cc385c</td>\n",
       "      <td>36572649</td>\n",
       "      <td>6411</td>\n",
       "      <td>1087</td>\n",
       "      <td>844</td>\n",
       "      <td>243</td>\n",
       "      <td>9</td>\n",
       "      <td>17</td>\n",
       "    </tr>\n",
       "    <tr>\n",
       "      <th>189</th>\n",
       "      <td>127</td>\n",
       "      <td>bc630298-b14e-431e-a1ef-b39ec6cc385c</td>\n",
       "      <td>36572649</td>\n",
       "      <td>6411</td>\n",
       "      <td>1467</td>\n",
       "      <td>1110</td>\n",
       "      <td>357</td>\n",
       "      <td>13</td>\n",
       "      <td>17</td>\n",
       "    </tr>\n",
       "  </tbody>\n",
       "</table>\n",
       "</div>"
      ],
      "text/plain": [
       "     user_id                       reading_session  article_id  scroll_range  \\\n",
       "185      127  bc630298-b14e-431e-a1ef-b39ec6cc385c    36572649          6411   \n",
       "186      127  bc630298-b14e-431e-a1ef-b39ec6cc385c    36572649          6411   \n",
       "187      127  bc630298-b14e-431e-a1ef-b39ec6cc385c    36572649          6411   \n",
       "188      127  bc630298-b14e-431e-a1ef-b39ec6cc385c    36572649          6411   \n",
       "189      127  bc630298-b14e-431e-a1ef-b39ec6cc385c    36572649          6411   \n",
       "\n",
       "     max_offset  min_offset  offset_difference  relative_time  \\\n",
       "185         528           4                524              0   \n",
       "186         603         538                 65              1   \n",
       "187         818         605                213              8   \n",
       "188        1087         844                243              9   \n",
       "189        1467        1110                357             13   \n",
       "\n",
       "     reading_duration  \n",
       "185                17  \n",
       "186                17  \n",
       "187                17  \n",
       "188                17  \n",
       "189                17  "
      ]
     },
     "execution_count": 7,
     "metadata": {},
     "output_type": "execute_result"
    }
   ],
   "source": [
    "pd.options.display.max_rows = 1000\n",
    "filtered_data =  data[(data['user_id'] == 127)]\n",
    "filtered_data.head()\n",
    "\n",
    "\n"
   ]
  },
  {
   "cell_type": "code",
   "execution_count": 7,
   "metadata": {},
   "outputs": [],
   "source": [
    "filtered_data1 = filtered_data[(filtered_data['article_id'] ==36572649 )]\n",
    "filtered_data2 = filtered_data[(filtered_data['article_id'] ==36596070 )]\n",
    "filtered_data3 = filtered_data[(filtered_data['article_id'] ==36672001 )]\n",
    "filtered_data4 = filtered_data[(filtered_data['article_id'] ==36744470 )]\n",
    "\n",
    "\n",
    "\n",
    "# + --------------- +\n",
    "# | article_id      |\n",
    "# + --------------- +\n",
    "# | 36572649        |\n",
    "# | 36596070        |\n",
    "# | 36672001        |\n",
    "# | 36744470        |\n",
    "# + --------------- +"
   ]
  },
  {
   "cell_type": "code",
   "execution_count": 8,
   "metadata": {},
   "outputs": [
    {
     "data": {
      "text/plain": [
       "([<matplotlib.lines.Line2D at 0x1a1afb59e8>,\n",
       "  <matplotlib.lines.Line2D at 0x1a1afb5fd0>,\n",
       "  <matplotlib.lines.Line2D at 0x1a1b0236d8>,\n",
       "  <matplotlib.lines.Line2D at 0x1a1b023d68>,\n",
       "  <matplotlib.lines.Line2D at 0x1a1b02d438>,\n",
       "  <matplotlib.lines.Line2D at 0x1a1b02dac8>,\n",
       "  <matplotlib.lines.Line2D at 0x1a1b037198>,\n",
       "  <matplotlib.lines.Line2D at 0x1a1b037828>,\n",
       "  <matplotlib.lines.Line2D at 0x1a1b037eb8>],\n",
       " [<matplotlib.patches.Rectangle at 0x1a1afb5b38>,\n",
       "  <matplotlib.patches.Rectangle at 0x1a1b023208>,\n",
       "  <matplotlib.patches.Rectangle at 0x1a1b023898>,\n",
       "  <matplotlib.patches.Rectangle at 0x1a1b023f28>,\n",
       "  <matplotlib.patches.Rectangle at 0x1a1b02d5f8>,\n",
       "  <matplotlib.patches.Rectangle at 0x1a1b02dc88>,\n",
       "  <matplotlib.patches.Rectangle at 0x1a1b037358>,\n",
       "  <matplotlib.patches.Rectangle at 0x1a1b0379e8>,\n",
       "  <matplotlib.patches.Rectangle at 0x1a1b0420b8>])"
      ]
     },
     "execution_count": 8,
     "metadata": {},
     "output_type": "execute_result"
    },
    {
     "data": {
      "image/png": "[encoded data removed]",
      "text/plain": [
       "<Figure size 1440x720 with 1 Axes>"
      ]
     },
     "metadata": {
      "needs_background": "light"
     },
     "output_type": "display_data"
    }
   ],
   "source": [
    "#for i in filtered_data: \n",
    "  #  if filtered_data['offset_difference'] > 0:\n",
    "  ##      ohlc= filtered_data[['relative_time', 'max_offset', 'max_offset', 'min_offset','min_offset']].copy()\n",
    " #   else:\n",
    "#        ohlc= filtered_data[['relative_time',  'min_offset','min_offset','max_offset', 'max_offset']].copy()\n",
    "        \n",
    "ohlc= filtered_data1[['relative_time', 'max_offset', 'max_offset', 'min_offset','min_offset']].copy()\n",
    "\n",
    "f1, ax = plt.subplots(figsize = (20,10))\n",
    "ax.set_xlabel('relative_time')\n",
    "ax.set_ylabel('scroll_offset')\n",
    "candlestick_ohlc(ax, ohlc.values, width=.6, colorup='green', colordown='red')\n",
    "\n",
    "\n"
   ]
  },
  {
   "cell_type": "code",
   "execution_count": 9,
   "metadata": {},
   "outputs": [
    {
     "data": {
      "text/plain": [
       "([<matplotlib.lines.Line2D at 0x1a1b4ab160>,\n",
       "  <matplotlib.lines.Line2D at 0x1a1b4ab780>,\n",
       "  <matplotlib.lines.Line2D at 0x1a1b4abe10>,\n",
       "  <matplotlib.lines.Line2D at 0x1a1b4b54e0>,\n",
       "  <matplotlib.lines.Line2D at 0x1a1b4b5b70>,\n",
       "  <matplotlib.lines.Line2D at 0x1a1b4c0240>,\n",
       "  <matplotlib.lines.Line2D at 0x1a1b4c08d0>,\n",
       "  <matplotlib.lines.Line2D at 0x1a1b4c0f60>,\n",
       "  <matplotlib.lines.Line2D at 0x1a1b4c9630>,\n",
       "  <matplotlib.lines.Line2D at 0x1a1b4c9cc0>,\n",
       "  <matplotlib.lines.Line2D at 0x1a1b4d1390>,\n",
       "  <matplotlib.lines.Line2D at 0x1a1b4d1a20>,\n",
       "  <matplotlib.lines.Line2D at 0x1a1b4db0f0>],\n",
       " [<matplotlib.patches.Rectangle at 0x1a1b4ab2b0>,\n",
       "  <matplotlib.patches.Rectangle at 0x1a1b4ab940>,\n",
       "  <matplotlib.patches.Rectangle at 0x1a1b4abfd0>,\n",
       "  <matplotlib.patches.Rectangle at 0x1a1b4b56a0>,\n",
       "  <matplotlib.patches.Rectangle at 0x1a1b4b5d30>,\n",
       "  <matplotlib.patches.Rectangle at 0x1a1b4c0400>,\n",
       "  <matplotlib.patches.Rectangle at 0x1a1b4c0a90>,\n",
       "  <matplotlib.patches.Rectangle at 0x1a1b4c9160>,\n",
       "  <matplotlib.patches.Rectangle at 0x1a1b4c97f0>,\n",
       "  <matplotlib.patches.Rectangle at 0x1a1b4c9e80>,\n",
       "  <matplotlib.patches.Rectangle at 0x1a1b4d1550>,\n",
       "  <matplotlib.patches.Rectangle at 0x1a1b4d1be0>,\n",
       "  <matplotlib.patches.Rectangle at 0x1a1b4db2b0>])"
      ]
     },
     "execution_count": 9,
     "metadata": {},
     "output_type": "execute_result"
    },
    {
     "data": {
      "image/png": "[encoded data removed]",
      "text/plain": [
       "<Figure size 1440x720 with 1 Axes>"
      ]
     },
     "metadata": {
      "needs_background": "light"
     },
     "output_type": "display_data"
    }
   ],
   "source": [
    "ohlc= filtered_data2[['relative_time', 'max_offset', 'max_offset', 'min_offset','min_offset']].copy()\n",
    "\n",
    "f1, ax = plt.subplots(figsize = (20,10))\n",
    "ax.set_xlabel('relative_time')\n",
    "ax.set_ylabel('scroll_offset')\n",
    "candlestick_ohlc(ax, ohlc.values, width=.6, colorup='green', colordown='red')\n",
    "\n",
    "\n",
    "\n"
   ]
  },
  {
   "cell_type": "code",
   "execution_count": 10,
   "metadata": {},
   "outputs": [
    {
     "data": {
      "text/plain": [
       "([<matplotlib.lines.Line2D at 0x1a1aa02630>,\n",
       "  <matplotlib.lines.Line2D at 0x1a1aa02c50>,\n",
       "  <matplotlib.lines.Line2D at 0x1a1a9f1320>,\n",
       "  <matplotlib.lines.Line2D at 0x1a1a9f19b0>,\n",
       "  <matplotlib.lines.Line2D at 0x1a1a9df080>,\n",
       "  <matplotlib.lines.Line2D at 0x1a1a9df710>,\n",
       "  <matplotlib.lines.Line2D at 0x1a1a9dfda0>,\n",
       "  <matplotlib.lines.Line2D at 0x1a1b559470>,\n",
       "  <matplotlib.lines.Line2D at 0x1a1b559b00>,\n",
       "  <matplotlib.lines.Line2D at 0x1a1b5621d0>,\n",
       "  <matplotlib.lines.Line2D at 0x1a1b562860>,\n",
       "  <matplotlib.lines.Line2D at 0x1a1b562ef0>,\n",
       "  <matplotlib.lines.Line2D at 0x1a1b56e5c0>],\n",
       " [<matplotlib.patches.Rectangle at 0x1a1aa02780>,\n",
       "  <matplotlib.patches.Rectangle at 0x1a1aa02e10>,\n",
       "  <matplotlib.patches.Rectangle at 0x1a1a9f14e0>,\n",
       "  <matplotlib.patches.Rectangle at 0x1a1a9f1b70>,\n",
       "  <matplotlib.patches.Rectangle at 0x1a1a9df240>,\n",
       "  <matplotlib.patches.Rectangle at 0x1a1a9df8d0>,\n",
       "  <matplotlib.patches.Rectangle at 0x1a1a9dff60>,\n",
       "  <matplotlib.patches.Rectangle at 0x1a1b559630>,\n",
       "  <matplotlib.patches.Rectangle at 0x1a1b559cc0>,\n",
       "  <matplotlib.patches.Rectangle at 0x1a1b562390>,\n",
       "  <matplotlib.patches.Rectangle at 0x1a1b562a20>,\n",
       "  <matplotlib.patches.Rectangle at 0x1a1b56e0f0>,\n",
       "  <matplotlib.patches.Rectangle at 0x1a1b56e780>])"
      ]
     },
     "execution_count": 10,
     "metadata": {},
     "output_type": "execute_result"
    },
    {
     "data": {
      "image/png": "[encoded data removed]",
      "text/plain": [
       "<Figure size 1440x720 with 1 Axes>"
      ]
     },
     "metadata": {
      "needs_background": "light"
     },
     "output_type": "display_data"
    }
   ],
   "source": [
    "ohlc= filtered_data3[['relative_time', 'max_offset', 'max_offset', 'min_offset','min_offset']].copy()\n",
    "\n",
    "f1, ax = plt.subplots(figsize = (20,10))\n",
    "ax.set_xlabel('relative_time')\n",
    "ax.set_ylabel('scroll_offset')\n",
    "candlestick_ohlc(ax, ohlc.values, width=.6, colorup='green', colordown='red')\n",
    "\n",
    "\n",
    "\n"
   ]
  },
  {
   "cell_type": "code",
   "execution_count": 13,
   "metadata": {},
   "outputs": [
    {
     "data": {
      "text/plain": [
       "([<matplotlib.lines.Line2D at 0x1a1b972e10>,\n",
       "  <matplotlib.lines.Line2D at 0x1a1b97b470>,\n",
       "  <matplotlib.lines.Line2D at 0x1a1b97bb00>,\n",
       "  <matplotlib.lines.Line2D at 0x1a1b9881d0>,\n",
       "  <matplotlib.lines.Line2D at 0x1a1b988860>,\n",
       "  <matplotlib.lines.Line2D at 0x1a1b988ef0>,\n",
       "  <matplotlib.lines.Line2D at 0x1a1b9915c0>,\n",
       "  <matplotlib.lines.Line2D at 0x1a1b991c50>,\n",
       "  <matplotlib.lines.Line2D at 0x1a1b99c320>,\n",
       "  <matplotlib.lines.Line2D at 0x1a1b99c9b0>,\n",
       "  <matplotlib.lines.Line2D at 0x1a1b9a5080>,\n",
       "  <matplotlib.lines.Line2D at 0x1a1b9a5710>,\n",
       "  <matplotlib.lines.Line2D at 0x1a1b9a5da0>,\n",
       "  <matplotlib.lines.Line2D at 0x1a1b9ad470>,\n",
       "  <matplotlib.lines.Line2D at 0x1a1b9adb00>,\n",
       "  <matplotlib.lines.Line2D at 0x1a1b9b61d0>,\n",
       "  <matplotlib.lines.Line2D at 0x1a1b9b6860>],\n",
       " [<matplotlib.patches.Rectangle at 0x1a1b972f60>,\n",
       "  <matplotlib.patches.Rectangle at 0x1a1b97b630>,\n",
       "  <matplotlib.patches.Rectangle at 0x1a1b97bcc0>,\n",
       "  <matplotlib.patches.Rectangle at 0x1a1b988390>,\n",
       "  <matplotlib.patches.Rectangle at 0x1a1b988a20>,\n",
       "  <matplotlib.patches.Rectangle at 0x1a1b9910f0>,\n",
       "  <matplotlib.patches.Rectangle at 0x1a1b991780>,\n",
       "  <matplotlib.patches.Rectangle at 0x1a1b991e10>,\n",
       "  <matplotlib.patches.Rectangle at 0x1a1b99c4e0>,\n",
       "  <matplotlib.patches.Rectangle at 0x1a1b99cb70>,\n",
       "  <matplotlib.patches.Rectangle at 0x1a1b9a5240>,\n",
       "  <matplotlib.patches.Rectangle at 0x1a1b9a58d0>,\n",
       "  <matplotlib.patches.Rectangle at 0x1a1b9a5f60>,\n",
       "  <matplotlib.patches.Rectangle at 0x1a1b9ad630>,\n",
       "  <matplotlib.patches.Rectangle at 0x1a1b9adcc0>,\n",
       "  <matplotlib.patches.Rectangle at 0x1a1b9b6390>,\n",
       "  <matplotlib.patches.Rectangle at 0x1a1b9b6a20>])"
      ]
     },
     "execution_count": 13,
     "metadata": {},
     "output_type": "execute_result"
    },
    {
     "data": {
      "image/png": "[encoded data removed]",
      "text/plain": [
       "<Figure size 1440x720 with 1 Axes>"
      ]
     },
     "metadata": {
      "needs_background": "light"
     },
     "output_type": "display_data"
    }
   ],
   "source": [
    "ohlc= filtered_data4[['relative_time', 'max_offset', 'max_offset', 'min_offset','min_offset']].copy()\n",
    "\n",
    "f1, ax = plt.subplots(figsize = (20,10))\n",
    "ax.set_xlabel('relative_time')\n",
    "ax.set_ylabel('scroll_offset')\n",
    "candlestick_ohlc(ax, ohlc.values, width=.6, colorup='green', colordown='red')\n",
    "\n",
    "\n",
    "\n",
    "\n"
   ]
  },
  {
   "cell_type": "code",
   "execution_count": null,
   "metadata": {},
   "outputs": [],
   "source": []
  }
 ],
 "metadata": {
  "kernelspec": {
   "display_name": "Python 3",
   "language": "python",
   "name": "python3"
  }
 },
 "nbformat": 4,
 "nbformat_minor": 2
}
