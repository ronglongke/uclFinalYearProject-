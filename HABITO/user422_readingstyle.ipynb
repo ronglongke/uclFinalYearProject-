{
 "cells": [
  {
   "cell_type": "code",
   "execution_count": 2,
   "metadata": {},
   "outputs": [],
   "source": [
    "import numpy as np\n",
    "import pandas as pd \n",
    "import pylab as pl\n",
    "from matplotlib import pyplot as plt #画图\n",
    "from sklearn.cluster import KMeans \n",
    "plt.rcParams['figure.figsize'] = (16,9)\n",
    "plt.style.use('ggplot')\n",
    "\n",
    "from mpl_toolkits import mplot3d\n",
    "%matplotlib inline\n",
    "import numpy as np\n",
    "import matplotlib.pyplot as plt\n",
    "import pandas as pd\n",
    "# import pandas_datareader as datareader\n",
    "import matplotlib.pyplot as plt\n",
    "import datetime\n",
    "from mpl_finance import candlestick_ohlc\n",
    "# from mpl_finance import candlestick_ohlc\n",
    "import matplotlib.dates as mdates"
   ]
  },
  {
   "cell_type": "markdown",
   "metadata": {},
   "source": [
    "reading data from reading_scroll_features table and some data cleaning "
   ]
  },
  {
   "cell_type": "code",
   "execution_count": 3,
   "metadata": {},
   "outputs": [],
   "source": [
    "data = pd.read_csv('dataa/reading_scroll_features.csv')\n",
    "data = data[data['relative_time'] < 2000]\n",
    "\n"
   ]
  },
  {
   "cell_type": "markdown",
   "metadata": {},
   "source": [
    "display how each user's reading relative time distributed. "
   ]
  },
  {
   "cell_type": "code",
   "execution_count": 205,
   "metadata": {},
   "outputs": [
    {
     "name": "stdout",
     "output_type": "stream",
     "text": [
      "(7692,)\n",
      "(7692,)\n",
      "(7692, 2)\n"
     ]
    },
    {
     "data": {
      "text/plain": [
       "<matplotlib.collections.PathCollection at 0x1a222fea58>"
      ]
     },
     "execution_count": 205,
     "metadata": {},
     "output_type": "execute_result"
    },
    {
     "data": {
      "image/png": "[encoded data removed]",
      "text/plain": [
       "<Figure size 432x288 with 1 Axes>"
      ]
     },
     "metadata": {
      "needs_background": "light"
     },
     "output_type": "display_data"
    }
   ],
   "source": [
    "f1 = data['relative_time'].values\n",
    "print(f1.shape)\n",
    "f2= data['user_id'].values\n",
    "print(f2.shape)\n",
    "x = np.array(list(zip(f1,f2)))\n",
    "print(x.shape)\n",
    "plt.scatter(f1,f2, c='black', s=7)\n",
    "#filter data 1.filtered() 2.sql \n",
    "\n"
   ]
  },
  {
   "cell_type": "code",
   "execution_count": 197,
   "metadata": {},
   "outputs": [],
   "source": [
    "# for index, row in data.iterrows():\n",
    "#     if row['offset_difference'] < 0:\n",
    "#         temp = row['max_offset']\n",
    "#         row['max_offset'] = row['min_offset']\n",
    "#        row['min_offset'] = temp\n",
    "#         print(row['max_offset'],row['min_offset'],row['offset_difference'])\n",
    "#         np.append([row['max_offset'],row['min_offset'],row['offset_difference']],a)\n",
    "#     if row['offset_difference'] > 0:\n",
    "#         np.append([row['max_offset'],row['min_offset'],row['offset_difference']],a)\n",
    "#         print(row['max_offset'],row['min_offset'],row['offset_difference'])\n",
    "\n"
   ]
  },
  {
   "cell_type": "markdown",
   "metadata": {},
   "source": [
    "display reading style by users"
   ]
  },
  {
   "cell_type": "code",
   "execution_count": 4,
   "metadata": {},
   "outputs": [
    {
     "data": {
      "text/html": [
       "<div>\n",
       "<style scoped>\n",
       "    .dataframe tbody tr th:only-of-type {\n",
       "        vertical-align: middle;\n",
       "    }\n",
       "\n",
       "    .dataframe tbody tr th {\n",
       "        vertical-align: top;\n",
       "    }\n",
       "\n",
       "    .dataframe thead th {\n",
       "        text-align: right;\n",
       "    }\n",
       "</style>\n",
       "<table border=\"1\" class=\"dataframe\">\n",
       "  <thead>\n",
       "    <tr style=\"text-align: right;\">\n",
       "      <th></th>\n",
       "      <th>user_id</th>\n",
       "      <th>reading_session</th>\n",
       "      <th>article_id</th>\n",
       "      <th>max_offset</th>\n",
       "      <th>min_offset</th>\n",
       "      <th>offset_difference</th>\n",
       "      <th>relative_time</th>\n",
       "    </tr>\n",
       "  </thead>\n",
       "  <tbody>\n",
       "    <tr>\n",
       "      <th>6361</th>\n",
       "      <td>422</td>\n",
       "      <td>d96a3326-9a4a-4185-9f06-c694ef7057f1</td>\n",
       "      <td>44134910</td>\n",
       "      <td>239</td>\n",
       "      <td>14</td>\n",
       "      <td>225</td>\n",
       "      <td>0</td>\n",
       "    </tr>\n",
       "    <tr>\n",
       "      <th>6362</th>\n",
       "      <td>422</td>\n",
       "      <td>d96a3326-9a4a-4185-9f06-c694ef7057f1</td>\n",
       "      <td>44134910</td>\n",
       "      <td>238</td>\n",
       "      <td>0</td>\n",
       "      <td>-238</td>\n",
       "      <td>1</td>\n",
       "    </tr>\n",
       "    <tr>\n",
       "      <th>6363</th>\n",
       "      <td>422</td>\n",
       "      <td>d96a3326-9a4a-4185-9f06-c694ef7057f1</td>\n",
       "      <td>44134910</td>\n",
       "      <td>174</td>\n",
       "      <td>0</td>\n",
       "      <td>-174</td>\n",
       "      <td>2</td>\n",
       "    </tr>\n",
       "    <tr>\n",
       "      <th>6364</th>\n",
       "      <td>422</td>\n",
       "      <td>d96a3326-9a4a-4185-9f06-c694ef7057f1</td>\n",
       "      <td>44134910</td>\n",
       "      <td>147</td>\n",
       "      <td>0</td>\n",
       "      <td>-147</td>\n",
       "      <td>5</td>\n",
       "    </tr>\n",
       "    <tr>\n",
       "      <th>6365</th>\n",
       "      <td>422</td>\n",
       "      <td>d96a3326-9a4a-4185-9f06-c694ef7057f1</td>\n",
       "      <td>44134910</td>\n",
       "      <td>53</td>\n",
       "      <td>6</td>\n",
       "      <td>47</td>\n",
       "      <td>12</td>\n",
       "    </tr>\n",
       "  </tbody>\n",
       "</table>\n",
       "</div>"
      ],
      "text/plain": [
       "      user_id                       reading_session  article_id  max_offset  \\\n",
       "6361      422  d96a3326-9a4a-4185-9f06-c694ef7057f1    44134910         239   \n",
       "6362      422  d96a3326-9a4a-4185-9f06-c694ef7057f1    44134910         238   \n",
       "6363      422  d96a3326-9a4a-4185-9f06-c694ef7057f1    44134910         174   \n",
       "6364      422  d96a3326-9a4a-4185-9f06-c694ef7057f1    44134910         147   \n",
       "6365      422  d96a3326-9a4a-4185-9f06-c694ef7057f1    44134910          53   \n",
       "\n",
       "      min_offset  offset_difference  relative_time  \n",
       "6361          14                225              0  \n",
       "6362           0               -238              1  \n",
       "6363           0               -174              2  \n",
       "6364           0               -147              5  \n",
       "6365           6                 47             12  "
      ]
     },
     "execution_count": 4,
     "metadata": {},
     "output_type": "execute_result"
    }
   ],
   "source": [
    "pd.options.display.max_rows = 1000\n",
    "filtered_data =  data[(data['user_id'] == 422)]\n",
    "filtered_data.head()\n",
    "\n",
    "\n"
   ]
  },
  {
   "cell_type": "code",
   "execution_count": 5,
   "metadata": {},
   "outputs": [],
   "source": [
    "filtered_data1 = filtered_data[(filtered_data['article_id'] ==44134910 )]\n",
    "filtered_data2 = filtered_data[(filtered_data['article_id'] ==44141603 )]\n",
    "filtered_data3 = filtered_data[(filtered_data['article_id'] ==44136258 )]\n",
    "filtered_data4 = filtered_data[(filtered_data['article_id'] ==44129386 )]\n",
    "filtered_data5 = filtered_data[(filtered_data['article_id'] ==44139459 )]\n",
    "filtered_data6 = filtered_data[(filtered_data['article_id'] ==44137354 )]\n",
    "filtered_data7 = filtered_data[(filtered_data['article_id'] ==44083625 )]\n",
    "filtered_data8 = filtered_data[(filtered_data['article_id'] ==44151239 )]\n",
    "filtered_data9 = filtered_data[(filtered_data['article_id'] ==44148285 )]\n",
    "filtered_data10 = filtered_data[(filtered_data['article_id'] ==44151302 )]\n",
    "filtered_data11 = filtered_data[(filtered_data['article_id'] ==44170122 )]\n",
    "filtered_data12 = filtered_data[(filtered_data['article_id'] ==44168602 )]\n",
    "filtered_data13 = filtered_data[(filtered_data['article_id'] ==44163727 )]\n",
    "filtered_data14 = filtered_data[(filtered_data['article_id'] ==44169350 )]\n",
    "filtered_data15 = filtered_data[(filtered_data['article_id'] ==44190742 )]\n"
   ]
  },
  {
   "cell_type": "code",
   "execution_count": 6,
   "metadata": {},
   "outputs": [
    {
     "data": {
      "text/plain": [
       "([<matplotlib.lines.Line2D at 0x110261eb8>,\n",
       "  <matplotlib.lines.Line2D at 0x10f82d668>,\n",
       "  <matplotlib.lines.Line2D at 0x10f82dcf8>,\n",
       "  <matplotlib.lines.Line2D at 0x10f83c3c8>,\n",
       "  <matplotlib.lines.Line2D at 0x10f83ca58>,\n",
       "  <matplotlib.lines.Line2D at 0x10f846128>,\n",
       "  <matplotlib.lines.Line2D at 0x10f8467b8>,\n",
       "  <matplotlib.lines.Line2D at 0x10f846e48>,\n",
       "  <matplotlib.lines.Line2D at 0x10f851518>,\n",
       "  <matplotlib.lines.Line2D at 0x10f851ba8>,\n",
       "  <matplotlib.lines.Line2D at 0x1a25240278>,\n",
       "  <matplotlib.lines.Line2D at 0x1a25240908>,\n",
       "  <matplotlib.lines.Line2D at 0x1a25240f98>,\n",
       "  <matplotlib.lines.Line2D at 0x1a25249668>,\n",
       "  <matplotlib.lines.Line2D at 0x1a25249cf8>,\n",
       "  <matplotlib.lines.Line2D at 0x1a252523c8>,\n",
       "  <matplotlib.lines.Line2D at 0x1a25252a58>,\n",
       "  <matplotlib.lines.Line2D at 0x1a2525c128>,\n",
       "  <matplotlib.lines.Line2D at 0x1a2525c7b8>,\n",
       "  <matplotlib.lines.Line2D at 0x1a2525ce48>,\n",
       "  <matplotlib.lines.Line2D at 0x1a25265518>,\n",
       "  <matplotlib.lines.Line2D at 0x1a25265ba8>,\n",
       "  <matplotlib.lines.Line2D at 0x1a2526e278>,\n",
       "  <matplotlib.lines.Line2D at 0x1a2526e908>,\n",
       "  <matplotlib.lines.Line2D at 0x1a2526ef98>,\n",
       "  <matplotlib.lines.Line2D at 0x1a25278668>,\n",
       "  <matplotlib.lines.Line2D at 0x1a25278cf8>,\n",
       "  <matplotlib.lines.Line2D at 0x1a2559b3c8>,\n",
       "  <matplotlib.lines.Line2D at 0x1a2559ba58>,\n",
       "  <matplotlib.lines.Line2D at 0x1a255a5128>,\n",
       "  <matplotlib.lines.Line2D at 0x1a255a57b8>,\n",
       "  <matplotlib.lines.Line2D at 0x1a255a5e48>,\n",
       "  <matplotlib.lines.Line2D at 0x1a255ae518>,\n",
       "  <matplotlib.lines.Line2D at 0x1a255aeba8>,\n",
       "  <matplotlib.lines.Line2D at 0x1a255b8278>,\n",
       "  <matplotlib.lines.Line2D at 0x1a255b8908>,\n",
       "  <matplotlib.lines.Line2D at 0x1a255b8f98>,\n",
       "  <matplotlib.lines.Line2D at 0x1a255c1668>,\n",
       "  <matplotlib.lines.Line2D at 0x1a255c1cf8>,\n",
       "  <matplotlib.lines.Line2D at 0x1a255c83c8>,\n",
       "  <matplotlib.lines.Line2D at 0x1a255c8a58>,\n",
       "  <matplotlib.lines.Line2D at 0x1a255d3128>,\n",
       "  <matplotlib.lines.Line2D at 0x1a255d37b8>,\n",
       "  <matplotlib.lines.Line2D at 0x1a255d3e48>,\n",
       "  <matplotlib.lines.Line2D at 0x1a255de518>,\n",
       "  <matplotlib.lines.Line2D at 0x1a255deba8>,\n",
       "  <matplotlib.lines.Line2D at 0x1a255e7278>,\n",
       "  <matplotlib.lines.Line2D at 0x1a255e7908>,\n",
       "  <matplotlib.lines.Line2D at 0x1a255e7f98>,\n",
       "  <matplotlib.lines.Line2D at 0x1a255f3668>,\n",
       "  <matplotlib.lines.Line2D at 0x1a255f3cf8>,\n",
       "  <matplotlib.lines.Line2D at 0x1a255fb3c8>,\n",
       "  <matplotlib.lines.Line2D at 0x1a255fba58>,\n",
       "  <matplotlib.lines.Line2D at 0x1a25605128>,\n",
       "  <matplotlib.lines.Line2D at 0x1a256057b8>,\n",
       "  <matplotlib.lines.Line2D at 0x1a25605e48>,\n",
       "  <matplotlib.lines.Line2D at 0x1a2560e518>,\n",
       "  <matplotlib.lines.Line2D at 0x1a2560eba8>,\n",
       "  <matplotlib.lines.Line2D at 0x1a25619278>,\n",
       "  <matplotlib.lines.Line2D at 0x1a25619908>,\n",
       "  <matplotlib.lines.Line2D at 0x1a25619f98>,\n",
       "  <matplotlib.lines.Line2D at 0x1a25622668>,\n",
       "  <matplotlib.lines.Line2D at 0x1a25622cf8>,\n",
       "  <matplotlib.lines.Line2D at 0x1a2562c3c8>,\n",
       "  <matplotlib.lines.Line2D at 0x1a2562ca58>,\n",
       "  <matplotlib.lines.Line2D at 0x1a25635128>,\n",
       "  <matplotlib.lines.Line2D at 0x1a256357b8>,\n",
       "  <matplotlib.lines.Line2D at 0x1a25635e48>,\n",
       "  <matplotlib.lines.Line2D at 0x1a25640518>,\n",
       "  <matplotlib.lines.Line2D at 0x1a25640ba8>,\n",
       "  <matplotlib.lines.Line2D at 0x1a2564c278>,\n",
       "  <matplotlib.lines.Line2D at 0x1a2564c908>,\n",
       "  <matplotlib.lines.Line2D at 0x1a2564cf98>,\n",
       "  <matplotlib.lines.Line2D at 0x1a25654668>,\n",
       "  <matplotlib.lines.Line2D at 0x1a25654cf8>,\n",
       "  <matplotlib.lines.Line2D at 0x1a256603c8>,\n",
       "  <matplotlib.lines.Line2D at 0x1a25660a58>],\n",
       " [<matplotlib.patches.Rectangle at 0x10f82d160>,\n",
       "  <matplotlib.patches.Rectangle at 0x10f82d828>,\n",
       "  <matplotlib.patches.Rectangle at 0x10f82deb8>,\n",
       "  <matplotlib.patches.Rectangle at 0x10f83c588>,\n",
       "  <matplotlib.patches.Rectangle at 0x10f83cc18>,\n",
       "  <matplotlib.patches.Rectangle at 0x10f8462e8>,\n",
       "  <matplotlib.patches.Rectangle at 0x10f846978>,\n",
       "  <matplotlib.patches.Rectangle at 0x10f851048>,\n",
       "  <matplotlib.patches.Rectangle at 0x10f8516d8>,\n",
       "  <matplotlib.patches.Rectangle at 0x10f851d68>,\n",
       "  <matplotlib.patches.Rectangle at 0x1a25240438>,\n",
       "  <matplotlib.patches.Rectangle at 0x1a25240ac8>,\n",
       "  <matplotlib.patches.Rectangle at 0x1a25249198>,\n",
       "  <matplotlib.patches.Rectangle at 0x1a25249828>,\n",
       "  <matplotlib.patches.Rectangle at 0x1a25249eb8>,\n",
       "  <matplotlib.patches.Rectangle at 0x1a25252588>,\n",
       "  <matplotlib.patches.Rectangle at 0x1a25252c18>,\n",
       "  <matplotlib.patches.Rectangle at 0x1a2525c2e8>,\n",
       "  <matplotlib.patches.Rectangle at 0x1a2525c978>,\n",
       "  <matplotlib.patches.Rectangle at 0x1a25265048>,\n",
       "  <matplotlib.patches.Rectangle at 0x1a252656d8>,\n",
       "  <matplotlib.patches.Rectangle at 0x1a25265d68>,\n",
       "  <matplotlib.patches.Rectangle at 0x1a2526e438>,\n",
       "  <matplotlib.patches.Rectangle at 0x1a2526eac8>,\n",
       "  <matplotlib.patches.Rectangle at 0x1a25278198>,\n",
       "  <matplotlib.patches.Rectangle at 0x1a25278828>,\n",
       "  <matplotlib.patches.Rectangle at 0x1a25278eb8>,\n",
       "  <matplotlib.patches.Rectangle at 0x1a2559b588>,\n",
       "  <matplotlib.patches.Rectangle at 0x1a2559bc18>,\n",
       "  <matplotlib.patches.Rectangle at 0x1a255a52e8>,\n",
       "  <matplotlib.patches.Rectangle at 0x1a255a5978>,\n",
       "  <matplotlib.patches.Rectangle at 0x1a255ae048>,\n",
       "  <matplotlib.patches.Rectangle at 0x1a255ae6d8>,\n",
       "  <matplotlib.patches.Rectangle at 0x1a255aed68>,\n",
       "  <matplotlib.patches.Rectangle at 0x1a255b8438>,\n",
       "  <matplotlib.patches.Rectangle at 0x1a255b8ac8>,\n",
       "  <matplotlib.patches.Rectangle at 0x1a255c1198>,\n",
       "  <matplotlib.patches.Rectangle at 0x1a255c1828>,\n",
       "  <matplotlib.patches.Rectangle at 0x1a255c1eb8>,\n",
       "  <matplotlib.patches.Rectangle at 0x1a255c8588>,\n",
       "  <matplotlib.patches.Rectangle at 0x1a255c8c18>,\n",
       "  <matplotlib.patches.Rectangle at 0x1a255d32e8>,\n",
       "  <matplotlib.patches.Rectangle at 0x1a255d3978>,\n",
       "  <matplotlib.patches.Rectangle at 0x1a255de048>,\n",
       "  <matplotlib.patches.Rectangle at 0x1a255de6d8>,\n",
       "  <matplotlib.patches.Rectangle at 0x1a255ded68>,\n",
       "  <matplotlib.patches.Rectangle at 0x1a255e7438>,\n",
       "  <matplotlib.patches.Rectangle at 0x1a255e7ac8>,\n",
       "  <matplotlib.patches.Rectangle at 0x1a255f3198>,\n",
       "  <matplotlib.patches.Rectangle at 0x1a255f3828>,\n",
       "  <matplotlib.patches.Rectangle at 0x1a255f3eb8>,\n",
       "  <matplotlib.patches.Rectangle at 0x1a255fb588>,\n",
       "  <matplotlib.patches.Rectangle at 0x1a255fbc18>,\n",
       "  <matplotlib.patches.Rectangle at 0x1a256052e8>,\n",
       "  <matplotlib.patches.Rectangle at 0x1a25605978>,\n",
       "  <matplotlib.patches.Rectangle at 0x1a2560e048>,\n",
       "  <matplotlib.patches.Rectangle at 0x1a2560e6d8>,\n",
       "  <matplotlib.patches.Rectangle at 0x1a2560ed68>,\n",
       "  <matplotlib.patches.Rectangle at 0x1a25619438>,\n",
       "  <matplotlib.patches.Rectangle at 0x1a25619ac8>,\n",
       "  <matplotlib.patches.Rectangle at 0x1a25622198>,\n",
       "  <matplotlib.patches.Rectangle at 0x1a25622828>,\n",
       "  <matplotlib.patches.Rectangle at 0x1a25622eb8>,\n",
       "  <matplotlib.patches.Rectangle at 0x1a2562c588>,\n",
       "  <matplotlib.patches.Rectangle at 0x1a2562cc18>,\n",
       "  <matplotlib.patches.Rectangle at 0x1a256352e8>,\n",
       "  <matplotlib.patches.Rectangle at 0x1a25635978>,\n",
       "  <matplotlib.patches.Rectangle at 0x1a25640048>,\n",
       "  <matplotlib.patches.Rectangle at 0x1a256406d8>,\n",
       "  <matplotlib.patches.Rectangle at 0x1a25640d68>,\n",
       "  <matplotlib.patches.Rectangle at 0x1a2564c438>,\n",
       "  <matplotlib.patches.Rectangle at 0x1a2564cac8>,\n",
       "  <matplotlib.patches.Rectangle at 0x1a25654198>,\n",
       "  <matplotlib.patches.Rectangle at 0x1a25654828>,\n",
       "  <matplotlib.patches.Rectangle at 0x1a25654eb8>,\n",
       "  <matplotlib.patches.Rectangle at 0x1a25660588>,\n",
       "  <matplotlib.patches.Rectangle at 0x1a25660c18>])"
      ]
     },
     "execution_count": 6,
     "metadata": {},
     "output_type": "execute_result"
    },
    {
     "data": {
      "image/png": "[encoded data removed]",
      "text/plain": [
       "<Figure size 1440x720 with 1 Axes>"
      ]
     },
     "metadata": {
      "needs_background": "light"
     },
     "output_type": "display_data"
    }
   ],
   "source": [
    "#for i in filtered_data: \n",
    "  #  if filtered_data['offset_difference'] > 0:\n",
    "  ##      ohlc= filtered_data[['relative_time', 'max_offset', 'max_offset', 'min_offset','min_offset']].copy()\n",
    " #   else:\n",
    "#        ohlc= filtered_data[['relative_time',  'min_offset','min_offset','max_offset', 'max_offset']].copy()\n",
    "        \n",
    "ohlc= filtered_data1[['relative_time', 'max_offset', 'max_offset', 'min_offset','min_offset']].copy()\n",
    "\n",
    "f1, ax = plt.subplots(figsize = (20,10))\n",
    "ax.set_xlabel('relative_time')\n",
    "ax.set_ylabel('scroll_offset')\n",
    "candlestick_ohlc(ax, ohlc.values, width=.6, colorup='green', colordown='red')\n",
    "\n",
    "\n"
   ]
  },
  {
   "cell_type": "code",
   "execution_count": 7,
   "metadata": {},
   "outputs": [
    {
     "data": {
      "text/plain": [
       "([<matplotlib.lines.Line2D at 0x1a25b10c50>,\n",
       "  <matplotlib.lines.Line2D at 0x1a25b172b0>,\n",
       "  <matplotlib.lines.Line2D at 0x1a25b17940>,\n",
       "  <matplotlib.lines.Line2D at 0x1a25b17fd0>,\n",
       "  <matplotlib.lines.Line2D at 0x1a25b1f6a0>,\n",
       "  <matplotlib.lines.Line2D at 0x1a25b1fd30>,\n",
       "  <matplotlib.lines.Line2D at 0x1a25b29400>,\n",
       "  <matplotlib.lines.Line2D at 0x1a25b29a90>,\n",
       "  <matplotlib.lines.Line2D at 0x1a25b32160>,\n",
       "  <matplotlib.lines.Line2D at 0x1a25b327f0>,\n",
       "  <matplotlib.lines.Line2D at 0x1a25b32e80>,\n",
       "  <matplotlib.lines.Line2D at 0x1a25b3c550>,\n",
       "  <matplotlib.lines.Line2D at 0x1a25b3cbe0>,\n",
       "  <matplotlib.lines.Line2D at 0x1a25b442b0>,\n",
       "  <matplotlib.lines.Line2D at 0x1a25b44940>,\n",
       "  <matplotlib.lines.Line2D at 0x1a25b44fd0>,\n",
       "  <matplotlib.lines.Line2D at 0x1a25b4f6a0>],\n",
       " [<matplotlib.patches.Rectangle at 0x1a25b10da0>,\n",
       "  <matplotlib.patches.Rectangle at 0x1a25b17470>,\n",
       "  <matplotlib.patches.Rectangle at 0x1a25b17b00>,\n",
       "  <matplotlib.patches.Rectangle at 0x1a25b1f1d0>,\n",
       "  <matplotlib.patches.Rectangle at 0x1a25b1f860>,\n",
       "  <matplotlib.patches.Rectangle at 0x1a25b1fef0>,\n",
       "  <matplotlib.patches.Rectangle at 0x1a25b295c0>,\n",
       "  <matplotlib.patches.Rectangle at 0x1a25b29c50>,\n",
       "  <matplotlib.patches.Rectangle at 0x1a25b32320>,\n",
       "  <matplotlib.patches.Rectangle at 0x1a25b329b0>,\n",
       "  <matplotlib.patches.Rectangle at 0x1a25b3c080>,\n",
       "  <matplotlib.patches.Rectangle at 0x1a25b3c710>,\n",
       "  <matplotlib.patches.Rectangle at 0x1a25b3cda0>,\n",
       "  <matplotlib.patches.Rectangle at 0x1a25b44470>,\n",
       "  <matplotlib.patches.Rectangle at 0x1a25b44b00>,\n",
       "  <matplotlib.patches.Rectangle at 0x1a25b4f1d0>,\n",
       "  <matplotlib.patches.Rectangle at 0x1a25b4f860>])"
      ]
     },
     "execution_count": 7,
     "metadata": {},
     "output_type": "execute_result"
    },
    {
     "data": {
      "image/png": "[encoded data removed]",
      "text/plain": [
       "<Figure size 1440x720 with 1 Axes>"
      ]
     },
     "metadata": {
      "needs_background": "light"
     },
     "output_type": "display_data"
    }
   ],
   "source": [
    "ohlc= filtered_data2[['relative_time', 'max_offset', 'max_offset', 'min_offset','min_offset']].copy()\n",
    "\n",
    "f1, ax = plt.subplots(figsize = (20,10))\n",
    "ax.set_xlabel('relative_time')\n",
    "ax.set_ylabel('scroll_offset')\n",
    "candlestick_ohlc(ax, ohlc.values, width=.6, colorup='green', colordown='red')\n",
    "\n",
    "\n",
    "\n"
   ]
  },
  {
   "cell_type": "code",
   "execution_count": 8,
   "metadata": {},
   "outputs": [
    {
     "data": {
      "text/plain": [
       "([<matplotlib.lines.Line2D at 0x1a25bc9a20>,\n",
       "  <matplotlib.lines.Line2D at 0x1a25bd3080>,\n",
       "  <matplotlib.lines.Line2D at 0x1a25bd3710>,\n",
       "  <matplotlib.lines.Line2D at 0x1a25bd3da0>,\n",
       "  <matplotlib.lines.Line2D at 0x1a25bdd470>,\n",
       "  <matplotlib.lines.Line2D at 0x1a25bddb00>,\n",
       "  <matplotlib.lines.Line2D at 0x1a25be61d0>,\n",
       "  <matplotlib.lines.Line2D at 0x1a25be6860>,\n",
       "  <matplotlib.lines.Line2D at 0x1a25be6ef0>,\n",
       "  <matplotlib.lines.Line2D at 0x1a25bf05c0>,\n",
       "  <matplotlib.lines.Line2D at 0x1a25bf0c50>,\n",
       "  <matplotlib.lines.Line2D at 0x1a25bf9320>,\n",
       "  <matplotlib.lines.Line2D at 0x1a25bf99b0>,\n",
       "  <matplotlib.lines.Line2D at 0x1a25c02080>,\n",
       "  <matplotlib.lines.Line2D at 0x1a25c02710>,\n",
       "  <matplotlib.lines.Line2D at 0x1a25c02da0>,\n",
       "  <matplotlib.lines.Line2D at 0x1a25c0d470>,\n",
       "  <matplotlib.lines.Line2D at 0x1a25c0db00>,\n",
       "  <matplotlib.lines.Line2D at 0x1a25c161d0>,\n",
       "  <matplotlib.lines.Line2D at 0x1a25c16860>,\n",
       "  <matplotlib.lines.Line2D at 0x1a25c16ef0>,\n",
       "  <matplotlib.lines.Line2D at 0x1a25c225c0>,\n",
       "  <matplotlib.lines.Line2D at 0x1a25c22c50>,\n",
       "  <matplotlib.lines.Line2D at 0x1a25c2b320>,\n",
       "  <matplotlib.lines.Line2D at 0x1a25c2b9b0>,\n",
       "  <matplotlib.lines.Line2D at 0x1a25c35080>,\n",
       "  <matplotlib.lines.Line2D at 0x1a25c35710>,\n",
       "  <matplotlib.lines.Line2D at 0x1a25c35da0>,\n",
       "  <matplotlib.lines.Line2D at 0x1a25c41470>,\n",
       "  <matplotlib.lines.Line2D at 0x1a25c41b00>,\n",
       "  <matplotlib.lines.Line2D at 0x1a25c4a1d0>,\n",
       "  <matplotlib.lines.Line2D at 0x1a25c4a860>,\n",
       "  <matplotlib.lines.Line2D at 0x1a25c4aef0>,\n",
       "  <matplotlib.lines.Line2D at 0x1a25c535c0>,\n",
       "  <matplotlib.lines.Line2D at 0x1a25c53c50>,\n",
       "  <matplotlib.lines.Line2D at 0x1a25c5e320>,\n",
       "  <matplotlib.lines.Line2D at 0x1a25c5e9b0>,\n",
       "  <matplotlib.lines.Line2D at 0x1a25c69080>,\n",
       "  <matplotlib.lines.Line2D at 0x1a25c69710>,\n",
       "  <matplotlib.lines.Line2D at 0x1a25c69da0>,\n",
       "  <matplotlib.lines.Line2D at 0x1a25c73470>,\n",
       "  <matplotlib.lines.Line2D at 0x1a25c73b00>,\n",
       "  <matplotlib.lines.Line2D at 0x1a25c7e1d0>,\n",
       "  <matplotlib.lines.Line2D at 0x1a25c7e860>],\n",
       " [<matplotlib.patches.Rectangle at 0x1a25bc9b70>,\n",
       "  <matplotlib.patches.Rectangle at 0x1a25bd3240>,\n",
       "  <matplotlib.patches.Rectangle at 0x1a25bd38d0>,\n",
       "  <matplotlib.patches.Rectangle at 0x1a25bd3f60>,\n",
       "  <matplotlib.patches.Rectangle at 0x1a25bdd630>,\n",
       "  <matplotlib.patches.Rectangle at 0x1a25bddcc0>,\n",
       "  <matplotlib.patches.Rectangle at 0x1a25be6390>,\n",
       "  <matplotlib.patches.Rectangle at 0x1a25be6a20>,\n",
       "  <matplotlib.patches.Rectangle at 0x1a25bf00f0>,\n",
       "  <matplotlib.patches.Rectangle at 0x1a25bf0780>,\n",
       "  <matplotlib.patches.Rectangle at 0x1a25bf0e10>,\n",
       "  <matplotlib.patches.Rectangle at 0x1a25bf94e0>,\n",
       "  <matplotlib.patches.Rectangle at 0x1a25bf9b70>,\n",
       "  <matplotlib.patches.Rectangle at 0x1a25c02240>,\n",
       "  <matplotlib.patches.Rectangle at 0x1a25c028d0>,\n",
       "  <matplotlib.patches.Rectangle at 0x1a25c02f60>,\n",
       "  <matplotlib.patches.Rectangle at 0x1a25c0d630>,\n",
       "  <matplotlib.patches.Rectangle at 0x1a25c0dcc0>,\n",
       "  <matplotlib.patches.Rectangle at 0x1a25c16390>,\n",
       "  <matplotlib.patches.Rectangle at 0x1a25c16a20>,\n",
       "  <matplotlib.patches.Rectangle at 0x1a25c220f0>,\n",
       "  <matplotlib.patches.Rectangle at 0x1a25c22780>,\n",
       "  <matplotlib.patches.Rectangle at 0x1a25c22e10>,\n",
       "  <matplotlib.patches.Rectangle at 0x1a25c2b4e0>,\n",
       "  <matplotlib.patches.Rectangle at 0x1a25c2bb70>,\n",
       "  <matplotlib.patches.Rectangle at 0x1a25c35240>,\n",
       "  <matplotlib.patches.Rectangle at 0x1a25c358d0>,\n",
       "  <matplotlib.patches.Rectangle at 0x1a25c35f60>,\n",
       "  <matplotlib.patches.Rectangle at 0x1a25c41630>,\n",
       "  <matplotlib.patches.Rectangle at 0x1a25c41cc0>,\n",
       "  <matplotlib.patches.Rectangle at 0x1a25c4a390>,\n",
       "  <matplotlib.patches.Rectangle at 0x1a25c4aa20>,\n",
       "  <matplotlib.patches.Rectangle at 0x1a25c530f0>,\n",
       "  <matplotlib.patches.Rectangle at 0x1a25c53780>,\n",
       "  <matplotlib.patches.Rectangle at 0x1a25c53e10>,\n",
       "  <matplotlib.patches.Rectangle at 0x1a25c5e4e0>,\n",
       "  <matplotlib.patches.Rectangle at 0x1a25c5eb70>,\n",
       "  <matplotlib.patches.Rectangle at 0x1a25c69240>,\n",
       "  <matplotlib.patches.Rectangle at 0x1a25c698d0>,\n",
       "  <matplotlib.patches.Rectangle at 0x1a25c69f60>,\n",
       "  <matplotlib.patches.Rectangle at 0x1a25c73630>,\n",
       "  <matplotlib.patches.Rectangle at 0x1a25c73cc0>,\n",
       "  <matplotlib.patches.Rectangle at 0x1a25c7e390>,\n",
       "  <matplotlib.patches.Rectangle at 0x1a25c7ea20>])"
      ]
     },
     "execution_count": 8,
     "metadata": {},
     "output_type": "execute_result"
    },
    {
     "data": {
      "image/png": "[encoded data removed]",
      "text/plain": [
       "<Figure size 1440x720 with 1 Axes>"
      ]
     },
     "metadata": {
      "needs_background": "light"
     },
     "output_type": "display_data"
    }
   ],
   "source": [
    "ohlc= filtered_data3[['relative_time', 'max_offset', 'max_offset', 'min_offset','min_offset']].copy()\n",
    "\n",
    "f1, ax = plt.subplots(figsize = (20,10))\n",
    "ax.set_xlabel('relative_time')\n",
    "ax.set_ylabel('scroll_offset')\n",
    "candlestick_ohlc(ax, ohlc.values, width=.6, colorup='green', colordown='red')\n",
    "\n",
    "\n",
    "\n"
   ]
  },
  {
   "cell_type": "code",
   "execution_count": 9,
   "metadata": {},
   "outputs": [
    {
     "data": {
      "text/plain": [
       "([<matplotlib.lines.Line2D at 0x1a25cf5898>,\n",
       "  <matplotlib.lines.Line2D at 0x1a25cf5eb8>,\n",
       "  <matplotlib.lines.Line2D at 0x1a25cfb588>,\n",
       "  <matplotlib.lines.Line2D at 0x1a25cfbc18>,\n",
       "  <matplotlib.lines.Line2D at 0x1a25d042e8>,\n",
       "  <matplotlib.lines.Line2D at 0x1a25d04978>,\n",
       "  <matplotlib.lines.Line2D at 0x1a25d04fd0>,\n",
       "  <matplotlib.lines.Line2D at 0x1a25d0f6d8>],\n",
       " [<matplotlib.patches.Rectangle at 0x1a25cf59e8>,\n",
       "  <matplotlib.patches.Rectangle at 0x1a25cfb0b8>,\n",
       "  <matplotlib.patches.Rectangle at 0x1a25cfb748>,\n",
       "  <matplotlib.patches.Rectangle at 0x1a25cfbdd8>,\n",
       "  <matplotlib.patches.Rectangle at 0x1a25d044a8>,\n",
       "  <matplotlib.patches.Rectangle at 0x1a25d04b38>,\n",
       "  <matplotlib.patches.Rectangle at 0x1a25d0f208>,\n",
       "  <matplotlib.patches.Rectangle at 0x1a25d0f898>])"
      ]
     },
     "execution_count": 9,
     "metadata": {},
     "output_type": "execute_result"
    },
    {
     "data": {
      "image/png": "[encoded data removed]",
      "text/plain": [
       "<Figure size 1440x720 with 1 Axes>"
      ]
     },
     "metadata": {
      "needs_background": "light"
     },
     "output_type": "display_data"
    }
   ],
   "source": [
    "ohlc= filtered_data4[['relative_time', 'max_offset', 'max_offset', 'min_offset','min_offset']].copy()\n",
    "\n",
    "f1, ax = plt.subplots(figsize = (20,10))\n",
    "ax.set_xlabel('relative_time')\n",
    "ax.set_ylabel('scroll_offset')\n",
    "candlestick_ohlc(ax, ohlc.values, width=.6, colorup='green', colordown='red')\n",
    "\n",
    "\n",
    "\n"
   ]
  },
  {
   "cell_type": "code",
   "execution_count": 10,
   "metadata": {},
   "outputs": [
    {
     "data": {
      "text/plain": [
       "([<matplotlib.lines.Line2D at 0x1a25d80780>,\n",
       "  <matplotlib.lines.Line2D at 0x1a25d80da0>,\n",
       "  <matplotlib.lines.Line2D at 0x1a26039470>,\n",
       "  <matplotlib.lines.Line2D at 0x1a26039b00>,\n",
       "  <matplotlib.lines.Line2D at 0x1a260451d0>,\n",
       "  <matplotlib.lines.Line2D at 0x1a26045860>,\n",
       "  <matplotlib.lines.Line2D at 0x1a26045ef0>,\n",
       "  <matplotlib.lines.Line2D at 0x1a2604d5c0>,\n",
       "  <matplotlib.lines.Line2D at 0x1a2604dc50>,\n",
       "  <matplotlib.lines.Line2D at 0x1a26056320>,\n",
       "  <matplotlib.lines.Line2D at 0x1a260569b0>,\n",
       "  <matplotlib.lines.Line2D at 0x1a2605f080>,\n",
       "  <matplotlib.lines.Line2D at 0x1a2605f710>,\n",
       "  <matplotlib.lines.Line2D at 0x1a2605fda0>,\n",
       "  <matplotlib.lines.Line2D at 0x1a26069470>,\n",
       "  <matplotlib.lines.Line2D at 0x1a26069b00>,\n",
       "  <matplotlib.lines.Line2D at 0x1a260741d0>,\n",
       "  <matplotlib.lines.Line2D at 0x1a26074860>,\n",
       "  <matplotlib.lines.Line2D at 0x1a26074ef0>,\n",
       "  <matplotlib.lines.Line2D at 0x1a2607f5c0>],\n",
       " [<matplotlib.patches.Rectangle at 0x1a25d808d0>,\n",
       "  <matplotlib.patches.Rectangle at 0x1a25d80f60>,\n",
       "  <matplotlib.patches.Rectangle at 0x1a26039630>,\n",
       "  <matplotlib.patches.Rectangle at 0x1a26039cc0>,\n",
       "  <matplotlib.patches.Rectangle at 0x1a26045390>,\n",
       "  <matplotlib.patches.Rectangle at 0x1a26045a20>,\n",
       "  <matplotlib.patches.Rectangle at 0x1a2604d0f0>,\n",
       "  <matplotlib.patches.Rectangle at 0x1a2604d780>,\n",
       "  <matplotlib.patches.Rectangle at 0x1a2604de10>,\n",
       "  <matplotlib.patches.Rectangle at 0x1a260564e0>,\n",
       "  <matplotlib.patches.Rectangle at 0x1a26056b70>,\n",
       "  <matplotlib.patches.Rectangle at 0x1a2605f240>,\n",
       "  <matplotlib.patches.Rectangle at 0x1a2605f8d0>,\n",
       "  <matplotlib.patches.Rectangle at 0x1a2605ff60>,\n",
       "  <matplotlib.patches.Rectangle at 0x1a26069630>,\n",
       "  <matplotlib.patches.Rectangle at 0x1a26069cc0>,\n",
       "  <matplotlib.patches.Rectangle at 0x1a26074390>,\n",
       "  <matplotlib.patches.Rectangle at 0x1a26074a20>,\n",
       "  <matplotlib.patches.Rectangle at 0x1a2607f0f0>,\n",
       "  <matplotlib.patches.Rectangle at 0x1a2607f780>])"
      ]
     },
     "execution_count": 10,
     "metadata": {},
     "output_type": "execute_result"
    },
    {
     "data": {
      "image/png": "[encoded data removed]",
      "text/plain": [
       "<Figure size 1440x720 with 1 Axes>"
      ]
     },
     "metadata": {
      "needs_background": "light"
     },
     "output_type": "display_data"
    }
   ],
   "source": [
    "ohlc= filtered_data5[['relative_time', 'max_offset', 'max_offset', 'min_offset','min_offset']].copy()\n",
    "\n",
    "f1, ax = plt.subplots(figsize = (20,10))\n",
    "ax.set_xlabel('relative_time')\n",
    "ax.set_ylabel('scroll_offset')\n",
    "candlestick_ohlc(ax, ohlc.values, width=.6, colorup='green', colordown='red')\n",
    "\n",
    "\n",
    "\n"
   ]
  },
  {
   "cell_type": "code",
   "execution_count": 11,
   "metadata": {},
   "outputs": [
    {
     "data": {
      "text/plain": [
       "([<matplotlib.lines.Line2D at 0x1a263aa240>,\n",
       "  <matplotlib.lines.Line2D at 0x1a263aa860>,\n",
       "  <matplotlib.lines.Line2D at 0x1a263aaef0>,\n",
       "  <matplotlib.lines.Line2D at 0x1a263b45c0>,\n",
       "  <matplotlib.lines.Line2D at 0x1a263b4c50>,\n",
       "  <matplotlib.lines.Line2D at 0x1a263bd320>,\n",
       "  <matplotlib.lines.Line2D at 0x1a263bd9b0>,\n",
       "  <matplotlib.lines.Line2D at 0x1a263c7080>,\n",
       "  <matplotlib.lines.Line2D at 0x1a263c7710>,\n",
       "  <matplotlib.lines.Line2D at 0x1a263c7da0>,\n",
       "  <matplotlib.lines.Line2D at 0x1a263d2470>,\n",
       "  <matplotlib.lines.Line2D at 0x1a263d2b00>,\n",
       "  <matplotlib.lines.Line2D at 0x1a263dc1d0>,\n",
       "  <matplotlib.lines.Line2D at 0x1a263dc860>,\n",
       "  <matplotlib.lines.Line2D at 0x1a263dcef0>,\n",
       "  <matplotlib.lines.Line2D at 0x1a263e65c0>,\n",
       "  <matplotlib.lines.Line2D at 0x1a263e6c50>,\n",
       "  <matplotlib.lines.Line2D at 0x1a263f1320>,\n",
       "  <matplotlib.lines.Line2D at 0x1a263f19b0>,\n",
       "  <matplotlib.lines.Line2D at 0x1a263fa080>,\n",
       "  <matplotlib.lines.Line2D at 0x1a263fa710>,\n",
       "  <matplotlib.lines.Line2D at 0x1a263fada0>,\n",
       "  <matplotlib.lines.Line2D at 0x1a26404470>,\n",
       "  <matplotlib.lines.Line2D at 0x1a26404b00>,\n",
       "  <matplotlib.lines.Line2D at 0x1a2640e1d0>,\n",
       "  <matplotlib.lines.Line2D at 0x1a2640e860>,\n",
       "  <matplotlib.lines.Line2D at 0x1a2640eef0>,\n",
       "  <matplotlib.lines.Line2D at 0x1a263ef5c0>,\n",
       "  <matplotlib.lines.Line2D at 0x1a263efc50>,\n",
       "  <matplotlib.lines.Line2D at 0x1a26422320>,\n",
       "  <matplotlib.lines.Line2D at 0x1a264229b0>,\n",
       "  <matplotlib.lines.Line2D at 0x1a2642d080>],\n",
       " [<matplotlib.patches.Rectangle at 0x1a263aa390>,\n",
       "  <matplotlib.patches.Rectangle at 0x1a263aaa20>,\n",
       "  <matplotlib.patches.Rectangle at 0x1a263b40f0>,\n",
       "  <matplotlib.patches.Rectangle at 0x1a263b4780>,\n",
       "  <matplotlib.patches.Rectangle at 0x1a263b4e10>,\n",
       "  <matplotlib.patches.Rectangle at 0x1a263bd4e0>,\n",
       "  <matplotlib.patches.Rectangle at 0x1a263bdb70>,\n",
       "  <matplotlib.patches.Rectangle at 0x1a263c7240>,\n",
       "  <matplotlib.patches.Rectangle at 0x1a263c78d0>,\n",
       "  <matplotlib.patches.Rectangle at 0x1a263c7f60>,\n",
       "  <matplotlib.patches.Rectangle at 0x1a263d2630>,\n",
       "  <matplotlib.patches.Rectangle at 0x1a263d2cc0>,\n",
       "  <matplotlib.patches.Rectangle at 0x1a263dc390>,\n",
       "  <matplotlib.patches.Rectangle at 0x1a263dca20>,\n",
       "  <matplotlib.patches.Rectangle at 0x1a263e60f0>,\n",
       "  <matplotlib.patches.Rectangle at 0x1a263e6780>,\n",
       "  <matplotlib.patches.Rectangle at 0x1a263e6e10>,\n",
       "  <matplotlib.patches.Rectangle at 0x1a263f14e0>,\n",
       "  <matplotlib.patches.Rectangle at 0x1a263f1b70>,\n",
       "  <matplotlib.patches.Rectangle at 0x1a263fa240>,\n",
       "  <matplotlib.patches.Rectangle at 0x1a263fa8d0>,\n",
       "  <matplotlib.patches.Rectangle at 0x1a263faf60>,\n",
       "  <matplotlib.patches.Rectangle at 0x1a26404630>,\n",
       "  <matplotlib.patches.Rectangle at 0x1a26404cc0>,\n",
       "  <matplotlib.patches.Rectangle at 0x1a2640e390>,\n",
       "  <matplotlib.patches.Rectangle at 0x1a2640ea20>,\n",
       "  <matplotlib.patches.Rectangle at 0x1a263ef0f0>,\n",
       "  <matplotlib.patches.Rectangle at 0x1a263ef780>,\n",
       "  <matplotlib.patches.Rectangle at 0x1a263efe10>,\n",
       "  <matplotlib.patches.Rectangle at 0x1a264224e0>,\n",
       "  <matplotlib.patches.Rectangle at 0x1a26422b70>,\n",
       "  <matplotlib.patches.Rectangle at 0x1a2642d240>])"
      ]
     },
     "execution_count": 11,
     "metadata": {},
     "output_type": "execute_result"
    },
    {
     "data": {
      "image/png": "[encoded data removed]",
      "text/plain": [
       "<Figure size 1440x720 with 1 Axes>"
      ]
     },
     "metadata": {
      "needs_background": "light"
     },
     "output_type": "display_data"
    }
   ],
   "source": [
    "ohlc= filtered_data6[['relative_time', 'max_offset', 'max_offset', 'min_offset','min_offset']].copy()\n",
    "\n",
    "f1, ax = plt.subplots(figsize = (20,10))\n",
    "ax.set_xlabel('relative_time')\n",
    "ax.set_ylabel('scroll_offset')\n",
    "candlestick_ohlc(ax, ohlc.values, width=.6, colorup='green', colordown='red')\n",
    "\n",
    "\n",
    "\n"
   ]
  },
  {
   "cell_type": "code",
   "execution_count": 12,
   "metadata": {},
   "outputs": [
    {
     "data": {
      "text/plain": [
       "([<matplotlib.lines.Line2D at 0x1a264a26d8>,\n",
       "  <matplotlib.lines.Line2D at 0x1a264a2cf8>,\n",
       "  <matplotlib.lines.Line2D at 0x1a2675c3c8>,\n",
       "  <matplotlib.lines.Line2D at 0x1a2675ca58>,\n",
       "  <matplotlib.lines.Line2D at 0x1a26765128>,\n",
       "  <matplotlib.lines.Line2D at 0x1a267657b8>,\n",
       "  <matplotlib.lines.Line2D at 0x1a26765e48>,\n",
       "  <matplotlib.lines.Line2D at 0x1a26770518>,\n",
       "  <matplotlib.lines.Line2D at 0x1a26770ba8>,\n",
       "  <matplotlib.lines.Line2D at 0x1a2677c278>,\n",
       "  <matplotlib.lines.Line2D at 0x1a2677c908>,\n",
       "  <matplotlib.lines.Line2D at 0x1a2677cf98>,\n",
       "  <matplotlib.lines.Line2D at 0x1a26785668>,\n",
       "  <matplotlib.lines.Line2D at 0x1a26785cf8>,\n",
       "  <matplotlib.lines.Line2D at 0x1a2678f3c8>,\n",
       "  <matplotlib.lines.Line2D at 0x1a2678fa58>,\n",
       "  <matplotlib.lines.Line2D at 0x1a26797128>,\n",
       "  <matplotlib.lines.Line2D at 0x1a267977b8>,\n",
       "  <matplotlib.lines.Line2D at 0x1a26797e48>,\n",
       "  <matplotlib.lines.Line2D at 0x1a267a3518>,\n",
       "  <matplotlib.lines.Line2D at 0x1a267a3ba8>,\n",
       "  <matplotlib.lines.Line2D at 0x1a267ad278>,\n",
       "  <matplotlib.lines.Line2D at 0x1a267ad908>,\n",
       "  <matplotlib.lines.Line2D at 0x1a267adf98>,\n",
       "  <matplotlib.lines.Line2D at 0x1a267b7668>,\n",
       "  <matplotlib.lines.Line2D at 0x1a267b7cf8>,\n",
       "  <matplotlib.lines.Line2D at 0x1a267c33c8>,\n",
       "  <matplotlib.lines.Line2D at 0x1a267c3a58>,\n",
       "  <matplotlib.lines.Line2D at 0x1a267cc128>,\n",
       "  <matplotlib.lines.Line2D at 0x1a267cc7b8>],\n",
       " [<matplotlib.patches.Rectangle at 0x1a264a2828>,\n",
       "  <matplotlib.patches.Rectangle at 0x1a264a2eb8>,\n",
       "  <matplotlib.patches.Rectangle at 0x1a2675c588>,\n",
       "  <matplotlib.patches.Rectangle at 0x1a2675cc18>,\n",
       "  <matplotlib.patches.Rectangle at 0x1a267652e8>,\n",
       "  <matplotlib.patches.Rectangle at 0x1a26765978>,\n",
       "  <matplotlib.patches.Rectangle at 0x1a26770048>,\n",
       "  <matplotlib.patches.Rectangle at 0x1a267706d8>,\n",
       "  <matplotlib.patches.Rectangle at 0x1a26770d68>,\n",
       "  <matplotlib.patches.Rectangle at 0x1a2677c438>,\n",
       "  <matplotlib.patches.Rectangle at 0x1a2677cac8>,\n",
       "  <matplotlib.patches.Rectangle at 0x1a26785198>,\n",
       "  <matplotlib.patches.Rectangle at 0x1a26785828>,\n",
       "  <matplotlib.patches.Rectangle at 0x1a26785eb8>,\n",
       "  <matplotlib.patches.Rectangle at 0x1a2678f588>,\n",
       "  <matplotlib.patches.Rectangle at 0x1a2678fc18>,\n",
       "  <matplotlib.patches.Rectangle at 0x1a267972e8>,\n",
       "  <matplotlib.patches.Rectangle at 0x1a26797978>,\n",
       "  <matplotlib.patches.Rectangle at 0x1a267a3048>,\n",
       "  <matplotlib.patches.Rectangle at 0x1a267a36d8>,\n",
       "  <matplotlib.patches.Rectangle at 0x1a267a3d68>,\n",
       "  <matplotlib.patches.Rectangle at 0x1a267ad438>,\n",
       "  <matplotlib.patches.Rectangle at 0x1a267adac8>,\n",
       "  <matplotlib.patches.Rectangle at 0x1a267b7198>,\n",
       "  <matplotlib.patches.Rectangle at 0x1a267b7828>,\n",
       "  <matplotlib.patches.Rectangle at 0x1a267b7eb8>,\n",
       "  <matplotlib.patches.Rectangle at 0x1a267c3588>,\n",
       "  <matplotlib.patches.Rectangle at 0x1a267c3c18>,\n",
       "  <matplotlib.patches.Rectangle at 0x1a267cc2e8>,\n",
       "  <matplotlib.patches.Rectangle at 0x1a267cc978>])"
      ]
     },
     "execution_count": 12,
     "metadata": {},
     "output_type": "execute_result"
    },
    {
     "data": {
      "image/png": "[encoded data removed]",
      "text/plain": [
       "<Figure size 1440x720 with 1 Axes>"
      ]
     },
     "metadata": {
      "needs_background": "light"
     },
     "output_type": "display_data"
    }
   ],
   "source": [
    "ohlc= filtered_data7[['relative_time', 'max_offset', 'max_offset', 'min_offset','min_offset']].copy()\n",
    "\n",
    "f1, ax = plt.subplots(figsize = (20,10))\n",
    "ax.set_xlabel('relative_time')\n",
    "ax.set_ylabel('scroll_offset')\n",
    "candlestick_ohlc(ax, ohlc.values, width=.6, colorup='green', colordown='red')\n",
    "\n",
    "\n",
    "\n"
   ]
  },
  {
   "cell_type": "code",
   "execution_count": 13,
   "metadata": {},
   "outputs": [
    {
     "data": {
      "text/plain": [
       "([<matplotlib.lines.Line2D at 0x1a2683e780>,\n",
       "  <matplotlib.lines.Line2D at 0x1a2683eda0>,\n",
       "  <matplotlib.lines.Line2D at 0x1a26849470>,\n",
       "  <matplotlib.lines.Line2D at 0x1a26849b00>,\n",
       "  <matplotlib.lines.Line2D at 0x1a26b051d0>,\n",
       "  <matplotlib.lines.Line2D at 0x1a26b05860>,\n",
       "  <matplotlib.lines.Line2D at 0x1a26b05ef0>,\n",
       "  <matplotlib.lines.Line2D at 0x1a26b105c0>,\n",
       "  <matplotlib.lines.Line2D at 0x1a26b10c50>,\n",
       "  <matplotlib.lines.Line2D at 0x1a26b19320>,\n",
       "  <matplotlib.lines.Line2D at 0x1a26b199b0>,\n",
       "  <matplotlib.lines.Line2D at 0x1a26b22080>,\n",
       "  <matplotlib.lines.Line2D at 0x1a26b22710>,\n",
       "  <matplotlib.lines.Line2D at 0x1a26b22da0>,\n",
       "  <matplotlib.lines.Line2D at 0x1a26b29470>,\n",
       "  <matplotlib.lines.Line2D at 0x1a26b29b00>,\n",
       "  <matplotlib.lines.Line2D at 0x1a26b341d0>,\n",
       "  <matplotlib.lines.Line2D at 0x1a26b34860>,\n",
       "  <matplotlib.lines.Line2D at 0x1a26b34ef0>,\n",
       "  <matplotlib.lines.Line2D at 0x1a26b405c0>,\n",
       "  <matplotlib.lines.Line2D at 0x1a26b40c50>,\n",
       "  <matplotlib.lines.Line2D at 0x1a26b4b320>,\n",
       "  <matplotlib.lines.Line2D at 0x1a26b4b9b0>,\n",
       "  <matplotlib.lines.Line2D at 0x1a26b55080>,\n",
       "  <matplotlib.lines.Line2D at 0x1a26b55710>,\n",
       "  <matplotlib.lines.Line2D at 0x1a26b55da0>,\n",
       "  <matplotlib.lines.Line2D at 0x1a26b60470>,\n",
       "  <matplotlib.lines.Line2D at 0x1a26b60b00>,\n",
       "  <matplotlib.lines.Line2D at 0x1a26b681d0>,\n",
       "  <matplotlib.lines.Line2D at 0x1a26b68860>,\n",
       "  <matplotlib.lines.Line2D at 0x1a26b68ef0>,\n",
       "  <matplotlib.lines.Line2D at 0x1a26b715c0>,\n",
       "  <matplotlib.lines.Line2D at 0x1a26b71c50>,\n",
       "  <matplotlib.lines.Line2D at 0x1a26b7e320>,\n",
       "  <matplotlib.lines.Line2D at 0x1a26b7e9b0>,\n",
       "  <matplotlib.lines.Line2D at 0x1a26b86080>,\n",
       "  <matplotlib.lines.Line2D at 0x1a26b86710>,\n",
       "  <matplotlib.lines.Line2D at 0x1a26b86da0>],\n",
       " [<matplotlib.patches.Rectangle at 0x1a2683e8d0>,\n",
       "  <matplotlib.patches.Rectangle at 0x1a2683ef60>,\n",
       "  <matplotlib.patches.Rectangle at 0x1a26849630>,\n",
       "  <matplotlib.patches.Rectangle at 0x1a26849cc0>,\n",
       "  <matplotlib.patches.Rectangle at 0x1a26b05390>,\n",
       "  <matplotlib.patches.Rectangle at 0x1a26b05a20>,\n",
       "  <matplotlib.patches.Rectangle at 0x1a26b100f0>,\n",
       "  <matplotlib.patches.Rectangle at 0x1a26b10780>,\n",
       "  <matplotlib.patches.Rectangle at 0x1a26b10e10>,\n",
       "  <matplotlib.patches.Rectangle at 0x1a26b194e0>,\n",
       "  <matplotlib.patches.Rectangle at 0x1a26b19b70>,\n",
       "  <matplotlib.patches.Rectangle at 0x1a26b22240>,\n",
       "  <matplotlib.patches.Rectangle at 0x1a26b228d0>,\n",
       "  <matplotlib.patches.Rectangle at 0x1a26b22f60>,\n",
       "  <matplotlib.patches.Rectangle at 0x1a26b29630>,\n",
       "  <matplotlib.patches.Rectangle at 0x1a26b29cc0>,\n",
       "  <matplotlib.patches.Rectangle at 0x1a26b34390>,\n",
       "  <matplotlib.patches.Rectangle at 0x1a26b34a20>,\n",
       "  <matplotlib.patches.Rectangle at 0x1a26b400f0>,\n",
       "  <matplotlib.patches.Rectangle at 0x1a26b40780>,\n",
       "  <matplotlib.patches.Rectangle at 0x1a26b40e10>,\n",
       "  <matplotlib.patches.Rectangle at 0x1a26b4b4e0>,\n",
       "  <matplotlib.patches.Rectangle at 0x1a26b4bb70>,\n",
       "  <matplotlib.patches.Rectangle at 0x1a26b55240>,\n",
       "  <matplotlib.patches.Rectangle at 0x1a26b558d0>,\n",
       "  <matplotlib.patches.Rectangle at 0x1a26b55f60>,\n",
       "  <matplotlib.patches.Rectangle at 0x1a26b60630>,\n",
       "  <matplotlib.patches.Rectangle at 0x1a26b60cc0>,\n",
       "  <matplotlib.patches.Rectangle at 0x1a26b68390>,\n",
       "  <matplotlib.patches.Rectangle at 0x1a26b68a20>,\n",
       "  <matplotlib.patches.Rectangle at 0x1a26b710f0>,\n",
       "  <matplotlib.patches.Rectangle at 0x1a26b71780>,\n",
       "  <matplotlib.patches.Rectangle at 0x1a26b71e10>,\n",
       "  <matplotlib.patches.Rectangle at 0x1a26b7e4e0>,\n",
       "  <matplotlib.patches.Rectangle at 0x1a26b7eb70>,\n",
       "  <matplotlib.patches.Rectangle at 0x1a26b86240>,\n",
       "  <matplotlib.patches.Rectangle at 0x1a26b868d0>,\n",
       "  <matplotlib.patches.Rectangle at 0x1a26b86f60>])"
      ]
     },
     "execution_count": 13,
     "metadata": {},
     "output_type": "execute_result"
    },
    {
     "data": {
      "image/png": "[encoded data removed]",
      "text/plain": [
       "<Figure size 1440x720 with 1 Axes>"
      ]
     },
     "metadata": {
      "needs_background": "light"
     },
     "output_type": "display_data"
    }
   ],
   "source": [
    "ohlc= filtered_data8[['relative_time', 'max_offset', 'max_offset', 'min_offset','min_offset']].copy()\n",
    "\n",
    "f1, ax = plt.subplots(figsize = (20,10))\n",
    "ax.set_xlabel('relative_time')\n",
    "ax.set_ylabel('scroll_offset')\n",
    "candlestick_ohlc(ax, ohlc.values, width=.6, colorup='green', colordown='red')\n",
    "\n",
    "\n",
    "\n"
   ]
  },
  {
   "cell_type": "code",
   "execution_count": 14,
   "metadata": {},
   "outputs": [
    {
     "data": {
      "text/plain": [
       "([<matplotlib.lines.Line2D at 0x1a26c10630>,\n",
       "  <matplotlib.lines.Line2D at 0x1a26c10c50>,\n",
       "  <matplotlib.lines.Line2D at 0x1a26c19320>,\n",
       "  <matplotlib.lines.Line2D at 0x1a26c199b0>,\n",
       "  <matplotlib.lines.Line2D at 0x1a26c26080>,\n",
       "  <matplotlib.lines.Line2D at 0x1a26c26710>,\n",
       "  <matplotlib.lines.Line2D at 0x1a26c26da0>,\n",
       "  <matplotlib.lines.Line2D at 0x1a26c2d470>,\n",
       "  <matplotlib.lines.Line2D at 0x1a26c2db00>,\n",
       "  <matplotlib.lines.Line2D at 0x1a26c361d0>,\n",
       "  <matplotlib.lines.Line2D at 0x1a26c36860>,\n",
       "  <matplotlib.lines.Line2D at 0x1a26c36ef0>,\n",
       "  <matplotlib.lines.Line2D at 0x1a26c3f5c0>,\n",
       "  <matplotlib.lines.Line2D at 0x1a26c3fc50>,\n",
       "  <matplotlib.lines.Line2D at 0x1a26efa320>,\n",
       "  <matplotlib.lines.Line2D at 0x1a26efa9b0>,\n",
       "  <matplotlib.lines.Line2D at 0x1a26f05080>,\n",
       "  <matplotlib.lines.Line2D at 0x1a26f05710>,\n",
       "  <matplotlib.lines.Line2D at 0x1a26f05da0>,\n",
       "  <matplotlib.lines.Line2D at 0x1a26f11470>,\n",
       "  <matplotlib.lines.Line2D at 0x1a26f11b00>,\n",
       "  <matplotlib.lines.Line2D at 0x1a26f1c1d0>],\n",
       " [<matplotlib.patches.Rectangle at 0x1a26c10780>,\n",
       "  <matplotlib.patches.Rectangle at 0x1a26c10e10>,\n",
       "  <matplotlib.patches.Rectangle at 0x1a26c194e0>,\n",
       "  <matplotlib.patches.Rectangle at 0x1a26c19b70>,\n",
       "  <matplotlib.patches.Rectangle at 0x1a26c26240>,\n",
       "  <matplotlib.patches.Rectangle at 0x1a26c268d0>,\n",
       "  <matplotlib.patches.Rectangle at 0x1a26c26f60>,\n",
       "  <matplotlib.patches.Rectangle at 0x1a26c2d630>,\n",
       "  <matplotlib.patches.Rectangle at 0x1a26c2dcc0>,\n",
       "  <matplotlib.patches.Rectangle at 0x1a26c36390>,\n",
       "  <matplotlib.patches.Rectangle at 0x1a26c36a20>,\n",
       "  <matplotlib.patches.Rectangle at 0x1a26c3f0f0>,\n",
       "  <matplotlib.patches.Rectangle at 0x1a26c3f780>,\n",
       "  <matplotlib.patches.Rectangle at 0x1a26c3fe10>,\n",
       "  <matplotlib.patches.Rectangle at 0x1a26efa4e0>,\n",
       "  <matplotlib.patches.Rectangle at 0x1a26efab70>,\n",
       "  <matplotlib.patches.Rectangle at 0x1a26f05240>,\n",
       "  <matplotlib.patches.Rectangle at 0x1a26f058d0>,\n",
       "  <matplotlib.patches.Rectangle at 0x1a26f05f60>,\n",
       "  <matplotlib.patches.Rectangle at 0x1a26f11630>,\n",
       "  <matplotlib.patches.Rectangle at 0x1a26f11cc0>,\n",
       "  <matplotlib.patches.Rectangle at 0x1a26f1c390>])"
      ]
     },
     "execution_count": 14,
     "metadata": {},
     "output_type": "execute_result"
    },
    {
     "data": {
      "image/png": "[encoded data removed]",
      "text/plain": [
       "<Figure size 1440x720 with 1 Axes>"
      ]
     },
     "metadata": {
      "needs_background": "light"
     },
     "output_type": "display_data"
    }
   ],
   "source": [
    "ohlc= filtered_data9[['relative_time', 'max_offset', 'max_offset', 'min_offset','min_offset']].copy()\n",
    "\n",
    "f1, ax = plt.subplots(figsize = (20,10))\n",
    "ax.set_xlabel('relative_time')\n",
    "ax.set_ylabel('scroll_offset')\n",
    "candlestick_ohlc(ax, ohlc.values, width=.6, colorup='green', colordown='red')\n",
    "\n",
    "\n",
    "\n"
   ]
  },
  {
   "cell_type": "code",
   "execution_count": 15,
   "metadata": {},
   "outputs": [
    {
     "data": {
      "text/plain": [
       "([<matplotlib.lines.Line2D at 0x1a26f865f8>],\n",
       " [<matplotlib.patches.Rectangle at 0x1a26f86748>])"
      ]
     },
     "execution_count": 15,
     "metadata": {},
     "output_type": "execute_result"
    },
    {
     "data": {
      "image/png": "[encoded data removed]",
      "text/plain": [
       "<Figure size 1440x720 with 1 Axes>"
      ]
     },
     "metadata": {
      "needs_background": "light"
     },
     "output_type": "display_data"
    }
   ],
   "source": [
    "ohlc= filtered_data10[['relative_time', 'max_offset', 'max_offset', 'min_offset','min_offset']].copy()\n",
    "\n",
    "f1, ax = plt.subplots(figsize = (20,10))\n",
    "ax.set_xlabel('relative_time')\n",
    "ax.set_ylabel('scroll_offset')\n",
    "candlestick_ohlc(ax, ohlc.values, width=.6, colorup='green', colordown='red')\n",
    "\n",
    "\n",
    "\n"
   ]
  },
  {
   "cell_type": "code",
   "execution_count": 16,
   "metadata": {},
   "outputs": [
    {
     "data": {
      "text/plain": [
       "([<matplotlib.lines.Line2D at 0x1a2754d358>,\n",
       "  <matplotlib.lines.Line2D at 0x1a2754d978>,\n",
       "  <matplotlib.lines.Line2D at 0x1a2754dfd0>,\n",
       "  <matplotlib.lines.Line2D at 0x1a275566d8>,\n",
       "  <matplotlib.lines.Line2D at 0x1a27556d68>,\n",
       "  <matplotlib.lines.Line2D at 0x1a27561438>,\n",
       "  <matplotlib.lines.Line2D at 0x1a27561ac8>,\n",
       "  <matplotlib.lines.Line2D at 0x1a2756d198>,\n",
       "  <matplotlib.lines.Line2D at 0x1a2756d828>,\n",
       "  <matplotlib.lines.Line2D at 0x1a2756deb8>,\n",
       "  <matplotlib.lines.Line2D at 0x1a27577588>,\n",
       "  <matplotlib.lines.Line2D at 0x1a27577c18>,\n",
       "  <matplotlib.lines.Line2D at 0x1a275802e8>,\n",
       "  <matplotlib.lines.Line2D at 0x1a27580978>,\n",
       "  <matplotlib.lines.Line2D at 0x1a27580fd0>,\n",
       "  <matplotlib.lines.Line2D at 0x1a2758a6d8>,\n",
       "  <matplotlib.lines.Line2D at 0x1a2758ad68>,\n",
       "  <matplotlib.lines.Line2D at 0x1a27592438>],\n",
       " [<matplotlib.patches.Rectangle at 0x1a2754d4a8>,\n",
       "  <matplotlib.patches.Rectangle at 0x1a2754db38>,\n",
       "  <matplotlib.patches.Rectangle at 0x1a27556208>,\n",
       "  <matplotlib.patches.Rectangle at 0x1a27556898>,\n",
       "  <matplotlib.patches.Rectangle at 0x1a27556f28>,\n",
       "  <matplotlib.patches.Rectangle at 0x1a275615f8>,\n",
       "  <matplotlib.patches.Rectangle at 0x1a27561c88>,\n",
       "  <matplotlib.patches.Rectangle at 0x1a2756d358>,\n",
       "  <matplotlib.patches.Rectangle at 0x1a2756d9e8>,\n",
       "  <matplotlib.patches.Rectangle at 0x1a275770b8>,\n",
       "  <matplotlib.patches.Rectangle at 0x1a27577748>,\n",
       "  <matplotlib.patches.Rectangle at 0x1a27577dd8>,\n",
       "  <matplotlib.patches.Rectangle at 0x1a275804a8>,\n",
       "  <matplotlib.patches.Rectangle at 0x1a27580b38>,\n",
       "  <matplotlib.patches.Rectangle at 0x1a2758a208>,\n",
       "  <matplotlib.patches.Rectangle at 0x1a2758a898>,\n",
       "  <matplotlib.patches.Rectangle at 0x1a2758af28>,\n",
       "  <matplotlib.patches.Rectangle at 0x1a275925f8>])"
      ]
     },
     "execution_count": 16,
     "metadata": {},
     "output_type": "execute_result"
    },
    {
     "data": {
      "image/png": "[encoded data removed]",
      "text/plain": [
       "<Figure size 1440x720 with 1 Axes>"
      ]
     },
     "metadata": {
      "needs_background": "light"
     },
     "output_type": "display_data"
    }
   ],
   "source": [
    "ohlc= filtered_data11[['relative_time', 'max_offset', 'max_offset', 'min_offset','min_offset']].copy()\n",
    "\n",
    "f1, ax = plt.subplots(figsize = (20,10))\n",
    "ax.set_xlabel('relative_time')\n",
    "ax.set_ylabel('scroll_offset')\n",
    "candlestick_ohlc(ax, ohlc.values, width=.6, colorup='green', colordown='red')\n",
    "\n",
    "\n",
    "\n",
    "\n"
   ]
  },
  {
   "cell_type": "code",
   "execution_count": 17,
   "metadata": {},
   "outputs": [
    {
     "data": {
      "text/plain": [
       "([<matplotlib.lines.Line2D at 0x1a276060f0>,\n",
       "  <matplotlib.lines.Line2D at 0x1a27606710>,\n",
       "  <matplotlib.lines.Line2D at 0x1a27606da0>,\n",
       "  <matplotlib.lines.Line2D at 0x1a278c1470>,\n",
       "  <matplotlib.lines.Line2D at 0x1a278c1b00>,\n",
       "  <matplotlib.lines.Line2D at 0x1a278ca1d0>,\n",
       "  <matplotlib.lines.Line2D at 0x1a278ca860>,\n",
       "  <matplotlib.lines.Line2D at 0x1a278caef0>,\n",
       "  <matplotlib.lines.Line2D at 0x1a278d45c0>,\n",
       "  <matplotlib.lines.Line2D at 0x1a278d4c50>,\n",
       "  <matplotlib.lines.Line2D at 0x1a278e0320>,\n",
       "  <matplotlib.lines.Line2D at 0x1a278e09b0>,\n",
       "  <matplotlib.lines.Line2D at 0x1a278e8080>,\n",
       "  <matplotlib.lines.Line2D at 0x1a278e8710>,\n",
       "  <matplotlib.lines.Line2D at 0x1a278e8da0>,\n",
       "  <matplotlib.lines.Line2D at 0x1a278f2470>],\n",
       " [<matplotlib.patches.Rectangle at 0x1a27606240>,\n",
       "  <matplotlib.patches.Rectangle at 0x1a276068d0>,\n",
       "  <matplotlib.patches.Rectangle at 0x1a27606f60>,\n",
       "  <matplotlib.patches.Rectangle at 0x1a278c1630>,\n",
       "  <matplotlib.patches.Rectangle at 0x1a278c1cc0>,\n",
       "  <matplotlib.patches.Rectangle at 0x1a278ca390>,\n",
       "  <matplotlib.patches.Rectangle at 0x1a278caa20>,\n",
       "  <matplotlib.patches.Rectangle at 0x1a278d40f0>,\n",
       "  <matplotlib.patches.Rectangle at 0x1a278d4780>,\n",
       "  <matplotlib.patches.Rectangle at 0x1a278d4e10>,\n",
       "  <matplotlib.patches.Rectangle at 0x1a278e04e0>,\n",
       "  <matplotlib.patches.Rectangle at 0x1a278e0b70>,\n",
       "  <matplotlib.patches.Rectangle at 0x1a278e8240>,\n",
       "  <matplotlib.patches.Rectangle at 0x1a278e88d0>,\n",
       "  <matplotlib.patches.Rectangle at 0x1a278e8f60>,\n",
       "  <matplotlib.patches.Rectangle at 0x1a278f2630>])"
      ]
     },
     "execution_count": 17,
     "metadata": {},
     "output_type": "execute_result"
    },
    {
     "data": {
      "image/png": "[encoded data removed]",
      "text/plain": [
       "<Figure size 1440x720 with 1 Axes>"
      ]
     },
     "metadata": {
      "needs_background": "light"
     },
     "output_type": "display_data"
    }
   ],
   "source": [
    "ohlc= filtered_data12[['relative_time', 'max_offset', 'max_offset', 'min_offset','min_offset']].copy()\n",
    "\n",
    "f1, ax = plt.subplots(figsize = (20,10))\n",
    "ax.set_xlabel('relative_time')\n",
    "ax.set_ylabel('scroll_offset')\n",
    "candlestick_ohlc(ax, ohlc.values, width=.6, colorup='green', colordown='red')\n",
    "\n",
    "\n",
    "\n",
    "\n",
    "\n"
   ]
  },
  {
   "cell_type": "code",
   "execution_count": 18,
   "metadata": {},
   "outputs": [
    {
     "data": {
      "text/plain": [
       "([<matplotlib.lines.Line2D at 0x1a2795b4a8>,\n",
       "  <matplotlib.lines.Line2D at 0x1a2795bac8>,\n",
       "  <matplotlib.lines.Line2D at 0x1a27963198>,\n",
       "  <matplotlib.lines.Line2D at 0x1a27963828>,\n",
       "  <matplotlib.lines.Line2D at 0x1a27963eb8>,\n",
       "  <matplotlib.lines.Line2D at 0x1a27970588>,\n",
       "  <matplotlib.lines.Line2D at 0x1a27970c18>,\n",
       "  <matplotlib.lines.Line2D at 0x1a279782e8>,\n",
       "  <matplotlib.lines.Line2D at 0x1a27978978>,\n",
       "  <matplotlib.lines.Line2D at 0x1a27978fd0>,\n",
       "  <matplotlib.lines.Line2D at 0x1a27c326d8>,\n",
       "  <matplotlib.lines.Line2D at 0x1a27c32d68>,\n",
       "  <matplotlib.lines.Line2D at 0x1a27c3c438>,\n",
       "  <matplotlib.lines.Line2D at 0x1a27c3cac8>,\n",
       "  <matplotlib.lines.Line2D at 0x1a27c45198>,\n",
       "  <matplotlib.lines.Line2D at 0x1a27c45828>,\n",
       "  <matplotlib.lines.Line2D at 0x1a27c45eb8>,\n",
       "  <matplotlib.lines.Line2D at 0x1a27c51588>,\n",
       "  <matplotlib.lines.Line2D at 0x1a27c51c18>,\n",
       "  <matplotlib.lines.Line2D at 0x1a27c5b2e8>,\n",
       "  <matplotlib.lines.Line2D at 0x1a27c5b978>,\n",
       "  <matplotlib.lines.Line2D at 0x1a27c5bfd0>,\n",
       "  <matplotlib.lines.Line2D at 0x1a27c646d8>,\n",
       "  <matplotlib.lines.Line2D at 0x1a27c64d68>,\n",
       "  <matplotlib.lines.Line2D at 0x1a27c6f438>,\n",
       "  <matplotlib.lines.Line2D at 0x1a27c6fac8>,\n",
       "  <matplotlib.lines.Line2D at 0x1a27c78198>,\n",
       "  <matplotlib.lines.Line2D at 0x1a27c78828>,\n",
       "  <matplotlib.lines.Line2D at 0x1a27c78eb8>,\n",
       "  <matplotlib.lines.Line2D at 0x1a27c84588>,\n",
       "  <matplotlib.lines.Line2D at 0x1a27c84c18>,\n",
       "  <matplotlib.lines.Line2D at 0x1a27c8d2e8>,\n",
       "  <matplotlib.lines.Line2D at 0x1a27c8d978>,\n",
       "  <matplotlib.lines.Line2D at 0x1a27c8dfd0>,\n",
       "  <matplotlib.lines.Line2D at 0x1a27c9b6d8>,\n",
       "  <matplotlib.lines.Line2D at 0x1a27c9bd68>,\n",
       "  <matplotlib.lines.Line2D at 0x1a27ca2438>,\n",
       "  <matplotlib.lines.Line2D at 0x1a27ca2ac8>,\n",
       "  <matplotlib.lines.Line2D at 0x1a27cad198>,\n",
       "  <matplotlib.lines.Line2D at 0x1a27cad828>,\n",
       "  <matplotlib.lines.Line2D at 0x1a27cadeb8>,\n",
       "  <matplotlib.lines.Line2D at 0x1a27cb6588>,\n",
       "  <matplotlib.lines.Line2D at 0x1a27cb6c18>],\n",
       " [<matplotlib.patches.Rectangle at 0x1a2795b5f8>,\n",
       "  <matplotlib.patches.Rectangle at 0x1a2795bc88>,\n",
       "  <matplotlib.patches.Rectangle at 0x1a27963358>,\n",
       "  <matplotlib.patches.Rectangle at 0x1a279639e8>,\n",
       "  <matplotlib.patches.Rectangle at 0x1a279700b8>,\n",
       "  <matplotlib.patches.Rectangle at 0x1a27970748>,\n",
       "  <matplotlib.patches.Rectangle at 0x1a27970dd8>,\n",
       "  <matplotlib.patches.Rectangle at 0x1a279784a8>,\n",
       "  <matplotlib.patches.Rectangle at 0x1a27978b38>,\n",
       "  <matplotlib.patches.Rectangle at 0x1a27c32208>,\n",
       "  <matplotlib.patches.Rectangle at 0x1a27c32898>,\n",
       "  <matplotlib.patches.Rectangle at 0x1a27c32f28>,\n",
       "  <matplotlib.patches.Rectangle at 0x1a27c3c5f8>,\n",
       "  <matplotlib.patches.Rectangle at 0x1a27c3cc88>,\n",
       "  <matplotlib.patches.Rectangle at 0x1a27c45358>,\n",
       "  <matplotlib.patches.Rectangle at 0x1a27c459e8>,\n",
       "  <matplotlib.patches.Rectangle at 0x1a27c510b8>,\n",
       "  <matplotlib.patches.Rectangle at 0x1a27c51748>,\n",
       "  <matplotlib.patches.Rectangle at 0x1a27c51dd8>,\n",
       "  <matplotlib.patches.Rectangle at 0x1a27c5b4a8>,\n",
       "  <matplotlib.patches.Rectangle at 0x1a27c5bb38>,\n",
       "  <matplotlib.patches.Rectangle at 0x1a27c64208>,\n",
       "  <matplotlib.patches.Rectangle at 0x1a27c64898>,\n",
       "  <matplotlib.patches.Rectangle at 0x1a27c64f28>,\n",
       "  <matplotlib.patches.Rectangle at 0x1a27c6f5f8>,\n",
       "  <matplotlib.patches.Rectangle at 0x1a27c6fc88>,\n",
       "  <matplotlib.patches.Rectangle at 0x1a27c78358>,\n",
       "  <matplotlib.patches.Rectangle at 0x1a27c789e8>,\n",
       "  <matplotlib.patches.Rectangle at 0x1a27c840b8>,\n",
       "  <matplotlib.patches.Rectangle at 0x1a27c84748>,\n",
       "  <matplotlib.patches.Rectangle at 0x1a27c84dd8>,\n",
       "  <matplotlib.patches.Rectangle at 0x1a27c8d4a8>,\n",
       "  <matplotlib.patches.Rectangle at 0x1a27c8db38>,\n",
       "  <matplotlib.patches.Rectangle at 0x1a27c9b208>,\n",
       "  <matplotlib.patches.Rectangle at 0x1a27c9b898>,\n",
       "  <matplotlib.patches.Rectangle at 0x1a27c9bf28>,\n",
       "  <matplotlib.patches.Rectangle at 0x1a27ca25f8>,\n",
       "  <matplotlib.patches.Rectangle at 0x1a27ca2c88>,\n",
       "  <matplotlib.patches.Rectangle at 0x1a27cad358>,\n",
       "  <matplotlib.patches.Rectangle at 0x1a27cad9e8>,\n",
       "  <matplotlib.patches.Rectangle at 0x1a27cb60b8>,\n",
       "  <matplotlib.patches.Rectangle at 0x1a27cb6748>,\n",
       "  <matplotlib.patches.Rectangle at 0x1a27cb6dd8>])"
      ]
     },
     "execution_count": 18,
     "metadata": {},
     "output_type": "execute_result"
    },
    {
     "data": {
      "image/png": "[encoded data removed]",
      "text/plain": [
       "<Figure size 1440x720 with 1 Axes>"
      ]
     },
     "metadata": {
      "needs_background": "light"
     },
     "output_type": "display_data"
    }
   ],
   "source": [
    "ohlc= filtered_data13[['relative_time', 'max_offset', 'max_offset', 'min_offset','min_offset']].copy()\n",
    "\n",
    "f1, ax = plt.subplots(figsize = (20,10))\n",
    "ax.set_xlabel('relative_time')\n",
    "ax.set_ylabel('scroll_offset')\n",
    "candlestick_ohlc(ax, ohlc.values, width=.6, colorup='green', colordown='red')\n",
    "\n",
    "\n",
    "\n",
    "\n",
    "\n"
   ]
  },
  {
   "cell_type": "code",
   "execution_count": 19,
   "metadata": {},
   "outputs": [
    {
     "data": {
      "text/plain": [
       "([<matplotlib.lines.Line2D at 0x1a27fddb70>,\n",
       "  <matplotlib.lines.Line2D at 0x1a27fe61d0>,\n",
       "  <matplotlib.lines.Line2D at 0x1a27fe6860>,\n",
       "  <matplotlib.lines.Line2D at 0x1a27fe6ef0>,\n",
       "  <matplotlib.lines.Line2D at 0x1a27ff05c0>,\n",
       "  <matplotlib.lines.Line2D at 0x1a27ff0c50>,\n",
       "  <matplotlib.lines.Line2D at 0x1a27ffa320>,\n",
       "  <matplotlib.lines.Line2D at 0x1a27ffa9b0>,\n",
       "  <matplotlib.lines.Line2D at 0x1a28002080>,\n",
       "  <matplotlib.lines.Line2D at 0x1a28002710>,\n",
       "  <matplotlib.lines.Line2D at 0x1a28002da0>,\n",
       "  <matplotlib.lines.Line2D at 0x1a2800c470>,\n",
       "  <matplotlib.lines.Line2D at 0x1a2800cb00>,\n",
       "  <matplotlib.lines.Line2D at 0x1a280161d0>,\n",
       "  <matplotlib.lines.Line2D at 0x1a28016860>,\n",
       "  <matplotlib.lines.Line2D at 0x1a28016ef0>,\n",
       "  <matplotlib.lines.Line2D at 0x1a280215c0>,\n",
       "  <matplotlib.lines.Line2D at 0x1a28021c50>,\n",
       "  <matplotlib.lines.Line2D at 0x1a2802b320>,\n",
       "  <matplotlib.lines.Line2D at 0x1a2802b9b0>,\n",
       "  <matplotlib.lines.Line2D at 0x1a28038080>,\n",
       "  <matplotlib.lines.Line2D at 0x1a28038710>,\n",
       "  <matplotlib.lines.Line2D at 0x1a28038da0>,\n",
       "  <matplotlib.lines.Line2D at 0x1a28040470>,\n",
       "  <matplotlib.lines.Line2D at 0x1a28040b00>],\n",
       " [<matplotlib.patches.Rectangle at 0x1a27fddcc0>,\n",
       "  <matplotlib.patches.Rectangle at 0x1a27fe6390>,\n",
       "  <matplotlib.patches.Rectangle at 0x1a27fe6a20>,\n",
       "  <matplotlib.patches.Rectangle at 0x1a27ff00f0>,\n",
       "  <matplotlib.patches.Rectangle at 0x1a27ff0780>,\n",
       "  <matplotlib.patches.Rectangle at 0x1a27ff0e10>,\n",
       "  <matplotlib.patches.Rectangle at 0x1a27ffa4e0>,\n",
       "  <matplotlib.patches.Rectangle at 0x1a27ffab70>,\n",
       "  <matplotlib.patches.Rectangle at 0x1a28002240>,\n",
       "  <matplotlib.patches.Rectangle at 0x1a280028d0>,\n",
       "  <matplotlib.patches.Rectangle at 0x1a28002f60>,\n",
       "  <matplotlib.patches.Rectangle at 0x1a2800c630>,\n",
       "  <matplotlib.patches.Rectangle at 0x1a2800ccc0>,\n",
       "  <matplotlib.patches.Rectangle at 0x1a28016390>,\n",
       "  <matplotlib.patches.Rectangle at 0x1a28016a20>,\n",
       "  <matplotlib.patches.Rectangle at 0x1a280210f0>,\n",
       "  <matplotlib.patches.Rectangle at 0x1a28021780>,\n",
       "  <matplotlib.patches.Rectangle at 0x1a28021e10>,\n",
       "  <matplotlib.patches.Rectangle at 0x1a2802b4e0>,\n",
       "  <matplotlib.patches.Rectangle at 0x1a2802bb70>,\n",
       "  <matplotlib.patches.Rectangle at 0x1a28038240>,\n",
       "  <matplotlib.patches.Rectangle at 0x1a280388d0>,\n",
       "  <matplotlib.patches.Rectangle at 0x1a28038f60>,\n",
       "  <matplotlib.patches.Rectangle at 0x1a28040630>,\n",
       "  <matplotlib.patches.Rectangle at 0x1a28040cc0>])"
      ]
     },
     "execution_count": 19,
     "metadata": {},
     "output_type": "execute_result"
    },
    {
     "data": {
      "image/png": "[encoded data removed]",
      "text/plain": [
       "<Figure size 1440x720 with 1 Axes>"
      ]
     },
     "metadata": {
      "needs_background": "light"
     },
     "output_type": "display_data"
    }
   ],
   "source": [
    "ohlc= filtered_data14[['relative_time', 'max_offset', 'max_offset', 'min_offset','min_offset']].copy()\n",
    "\n",
    "f1, ax = plt.subplots(figsize = (20,10))\n",
    "ax.set_xlabel('relative_time')\n",
    "ax.set_ylabel('scroll_offset')\n",
    "candlestick_ohlc(ax, ohlc.values, width=.6, colorup='green', colordown='red')\n",
    "\n",
    "\n",
    "\n",
    "\n",
    "\n"
   ]
  },
  {
   "cell_type": "code",
   "execution_count": 20,
   "metadata": {},
   "outputs": [
    {
     "data": {
      "text/plain": [
       "([<matplotlib.lines.Line2D at 0x1a280b9c50>,\n",
       "  <matplotlib.lines.Line2D at 0x1a280c22b0>,\n",
       "  <matplotlib.lines.Line2D at 0x1a280c2940>,\n",
       "  <matplotlib.lines.Line2D at 0x1a280c2fd0>,\n",
       "  <matplotlib.lines.Line2D at 0x1a280ce6a0>,\n",
       "  <matplotlib.lines.Line2D at 0x1a280ced30>,\n",
       "  <matplotlib.lines.Line2D at 0x1a280d5400>,\n",
       "  <matplotlib.lines.Line2D at 0x1a280d5a90>,\n",
       "  <matplotlib.lines.Line2D at 0x1a28392160>,\n",
       "  <matplotlib.lines.Line2D at 0x1a283927f0>,\n",
       "  <matplotlib.lines.Line2D at 0x1a28392e80>,\n",
       "  <matplotlib.lines.Line2D at 0x1a2839b550>,\n",
       "  <matplotlib.lines.Line2D at 0x1a2839bbe0>,\n",
       "  <matplotlib.lines.Line2D at 0x1a283a42b0>,\n",
       "  <matplotlib.lines.Line2D at 0x1a283a4940>,\n",
       "  <matplotlib.lines.Line2D at 0x1a283a4fd0>,\n",
       "  <matplotlib.lines.Line2D at 0x1a283ad6a0>,\n",
       "  <matplotlib.lines.Line2D at 0x1a283add30>,\n",
       "  <matplotlib.lines.Line2D at 0x1a283b9400>,\n",
       "  <matplotlib.lines.Line2D at 0x1a283b9a90>,\n",
       "  <matplotlib.lines.Line2D at 0x1a283c2160>,\n",
       "  <matplotlib.lines.Line2D at 0x1a283c27f0>,\n",
       "  <matplotlib.lines.Line2D at 0x1a283c2e80>,\n",
       "  <matplotlib.lines.Line2D at 0x1a283cb550>,\n",
       "  <matplotlib.lines.Line2D at 0x1a283cbbe0>,\n",
       "  <matplotlib.lines.Line2D at 0x1a283d52b0>,\n",
       "  <matplotlib.lines.Line2D at 0x1a283d5940>,\n",
       "  <matplotlib.lines.Line2D at 0x1a283d5fd0>,\n",
       "  <matplotlib.lines.Line2D at 0x1a283e16a0>,\n",
       "  <matplotlib.lines.Line2D at 0x1a283e1d30>,\n",
       "  <matplotlib.lines.Line2D at 0x1a283ed400>,\n",
       "  <matplotlib.lines.Line2D at 0x1a283eda90>,\n",
       "  <matplotlib.lines.Line2D at 0x1a283f6160>,\n",
       "  <matplotlib.lines.Line2D at 0x1a283f67f0>,\n",
       "  <matplotlib.lines.Line2D at 0x1a283f6e80>,\n",
       "  <matplotlib.lines.Line2D at 0x1a28400550>,\n",
       "  <matplotlib.lines.Line2D at 0x1a28400be0>,\n",
       "  <matplotlib.lines.Line2D at 0x1a284092b0>,\n",
       "  <matplotlib.lines.Line2D at 0x1a28409940>,\n",
       "  <matplotlib.lines.Line2D at 0x1a28409fd0>,\n",
       "  <matplotlib.lines.Line2D at 0x1a284146a0>,\n",
       "  <matplotlib.lines.Line2D at 0x1a28414d30>,\n",
       "  <matplotlib.lines.Line2D at 0x1a2841b400>,\n",
       "  <matplotlib.lines.Line2D at 0x1a2841ba90>,\n",
       "  <matplotlib.lines.Line2D at 0x1a2842b160>,\n",
       "  <matplotlib.lines.Line2D at 0x1a2842b7f0>,\n",
       "  <matplotlib.lines.Line2D at 0x1a2842be80>,\n",
       "  <matplotlib.lines.Line2D at 0x1a28433550>,\n",
       "  <matplotlib.lines.Line2D at 0x1a28433be0>,\n",
       "  <matplotlib.lines.Line2D at 0x1a2843f2b0>,\n",
       "  <matplotlib.lines.Line2D at 0x1a2843f940>,\n",
       "  <matplotlib.lines.Line2D at 0x1a2843ffd0>,\n",
       "  <matplotlib.lines.Line2D at 0x1a284486a0>,\n",
       "  <matplotlib.lines.Line2D at 0x1a28448d30>,\n",
       "  <matplotlib.lines.Line2D at 0x1a28452400>,\n",
       "  <matplotlib.lines.Line2D at 0x1a28452a90>,\n",
       "  <matplotlib.lines.Line2D at 0x1a2845b160>],\n",
       " [<matplotlib.patches.Rectangle at 0x1a280b9da0>,\n",
       "  <matplotlib.patches.Rectangle at 0x1a280c2470>,\n",
       "  <matplotlib.patches.Rectangle at 0x1a280c2b00>,\n",
       "  <matplotlib.patches.Rectangle at 0x1a280ce1d0>,\n",
       "  <matplotlib.patches.Rectangle at 0x1a280ce860>,\n",
       "  <matplotlib.patches.Rectangle at 0x1a280ceef0>,\n",
       "  <matplotlib.patches.Rectangle at 0x1a280d55c0>,\n",
       "  <matplotlib.patches.Rectangle at 0x1a280d5c50>,\n",
       "  <matplotlib.patches.Rectangle at 0x1a28392320>,\n",
       "  <matplotlib.patches.Rectangle at 0x1a283929b0>,\n",
       "  <matplotlib.patches.Rectangle at 0x1a2839b080>,\n",
       "  <matplotlib.patches.Rectangle at 0x1a2839b710>,\n",
       "  <matplotlib.patches.Rectangle at 0x1a2839bda0>,\n",
       "  <matplotlib.patches.Rectangle at 0x1a283a4470>,\n",
       "  <matplotlib.patches.Rectangle at 0x1a283a4b00>,\n",
       "  <matplotlib.patches.Rectangle at 0x1a283ad1d0>,\n",
       "  <matplotlib.patches.Rectangle at 0x1a283ad860>,\n",
       "  <matplotlib.patches.Rectangle at 0x1a283adef0>,\n",
       "  <matplotlib.patches.Rectangle at 0x1a283b95c0>,\n",
       "  <matplotlib.patches.Rectangle at 0x1a283b9c50>,\n",
       "  <matplotlib.patches.Rectangle at 0x1a283c2320>,\n",
       "  <matplotlib.patches.Rectangle at 0x1a283c29b0>,\n",
       "  <matplotlib.patches.Rectangle at 0x1a283cb080>,\n",
       "  <matplotlib.patches.Rectangle at 0x1a283cb710>,\n",
       "  <matplotlib.patches.Rectangle at 0x1a283cbda0>,\n",
       "  <matplotlib.patches.Rectangle at 0x1a283d5470>,\n",
       "  <matplotlib.patches.Rectangle at 0x1a283d5b00>,\n",
       "  <matplotlib.patches.Rectangle at 0x1a283e11d0>,\n",
       "  <matplotlib.patches.Rectangle at 0x1a283e1860>,\n",
       "  <matplotlib.patches.Rectangle at 0x1a283e1ef0>,\n",
       "  <matplotlib.patches.Rectangle at 0x1a283ed5c0>,\n",
       "  <matplotlib.patches.Rectangle at 0x1a283edc50>,\n",
       "  <matplotlib.patches.Rectangle at 0x1a283f6320>,\n",
       "  <matplotlib.patches.Rectangle at 0x1a283f69b0>,\n",
       "  <matplotlib.patches.Rectangle at 0x1a28400080>,\n",
       "  <matplotlib.patches.Rectangle at 0x1a28400710>,\n",
       "  <matplotlib.patches.Rectangle at 0x1a28400da0>,\n",
       "  <matplotlib.patches.Rectangle at 0x1a28409470>,\n",
       "  <matplotlib.patches.Rectangle at 0x1a28409b00>,\n",
       "  <matplotlib.patches.Rectangle at 0x1a284141d0>,\n",
       "  <matplotlib.patches.Rectangle at 0x1a28414860>,\n",
       "  <matplotlib.patches.Rectangle at 0x1a28414ef0>,\n",
       "  <matplotlib.patches.Rectangle at 0x1a2841b5c0>,\n",
       "  <matplotlib.patches.Rectangle at 0x1a2841bc50>,\n",
       "  <matplotlib.patches.Rectangle at 0x1a2842b320>,\n",
       "  <matplotlib.patches.Rectangle at 0x1a2842b9b0>,\n",
       "  <matplotlib.patches.Rectangle at 0x1a28433080>,\n",
       "  <matplotlib.patches.Rectangle at 0x1a28433710>,\n",
       "  <matplotlib.patches.Rectangle at 0x1a28433da0>,\n",
       "  <matplotlib.patches.Rectangle at 0x1a2843f470>,\n",
       "  <matplotlib.patches.Rectangle at 0x1a2843fb00>,\n",
       "  <matplotlib.patches.Rectangle at 0x1a284481d0>,\n",
       "  <matplotlib.patches.Rectangle at 0x1a28448860>,\n",
       "  <matplotlib.patches.Rectangle at 0x1a28448ef0>,\n",
       "  <matplotlib.patches.Rectangle at 0x1a284525c0>,\n",
       "  <matplotlib.patches.Rectangle at 0x1a28452c50>,\n",
       "  <matplotlib.patches.Rectangle at 0x1a2845b320>])"
      ]
     },
     "execution_count": 20,
     "metadata": {},
     "output_type": "execute_result"
    },
    {
     "data": {
      "image/png": "[encoded data removed]",
      "text/plain": [
       "<Figure size 1440x720 with 1 Axes>"
      ]
     },
     "metadata": {
      "needs_background": "light"
     },
     "output_type": "display_data"
    }
   ],
   "source": [
    "ohlc= filtered_data15[['relative_time', 'max_offset', 'max_offset', 'min_offset','min_offset']].copy()\n",
    "\n",
    "f1, ax = plt.subplots(figsize = (20,10))\n",
    "ax.set_xlabel('relative_time')\n",
    "ax.set_ylabel('scroll_offset')\n",
    "candlestick_ohlc(ax, ohlc.values, width=.6, colorup='green', colordown='red')\n",
    "\n",
    "\n",
    "\n",
    "\n",
    "\n"
   ]
  }
 ],
 "metadata": {
  "kernelspec": {
   "display_name": "Python 3",
   "language": "python",
   "name": "python3"
  },
  "language_info": {
   "codemirror_mode": {
    "name": "ipython",
    "version": 3
   },
   "file_extension": ".py",
   "mimetype": "text/x-python",
   "name": "python",
   "nbconvert_exporter": "python",
   "pygments_lexer": "ipython3",
   "version": "3.6.6"
  }
 },
 "nbformat": 4,
 "nbformat_minor": 2
}
