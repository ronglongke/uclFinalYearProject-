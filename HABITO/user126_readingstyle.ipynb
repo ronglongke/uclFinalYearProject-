{
 "cells": [
  {
   "cell_type": "code",
   "execution_count": 1,
   "metadata": {},
   "outputs": [],
   "source": [
    "import numpy as np\n",
    "import pandas as pd \n",
    "import pylab as pl\n",
    "from matplotlib import pyplot as plt #画图\n",
    "from sklearn.cluster import KMeans \n",
    "plt.rcParams['figure.figsize'] = (16,9)\n",
    "plt.style.use('ggplot')\n",
    "\n",
    "from mpl_toolkits import mplot3d\n",
    "%matplotlib inline\n",
    "import numpy as np\n",
    "import matplotlib.pyplot as plt\n",
    "import pandas as pd\n",
    "# import pandas_datareader as datareader\n",
    "import matplotlib.pyplot as plt\n",
    "import datetime\n",
    "from mpl_finance import candlestick_ohlc\n",
    "# from mpl_finance import candlestick_ohlc\n",
    "import matplotlib.dates as mdates"
   ]
  },
  {
   "cell_type": "markdown",
   "metadata": {},
   "source": [
    "reading data from reading_scroll_features table and some data cleaning "
   ]
  },
  {
   "cell_type": "code",
   "execution_count": 2,
   "metadata": {},
   "outputs": [
    {
     "data": {
      "text/html": [
       "<div>\n",
       "<style scoped>\n",
       "    .dataframe tbody tr th:only-of-type {\n",
       "        vertical-align: middle;\n",
       "    }\n",
       "\n",
       "    .dataframe tbody tr th {\n",
       "        vertical-align: top;\n",
       "    }\n",
       "\n",
       "    .dataframe thead th {\n",
       "        text-align: right;\n",
       "    }\n",
       "</style>\n",
       "<table border=\"1\" class=\"dataframe\">\n",
       "  <thead>\n",
       "    <tr style=\"text-align: right;\">\n",
       "      <th></th>\n",
       "      <th>user_id</th>\n",
       "      <th>reading_session</th>\n",
       "      <th>article_id</th>\n",
       "      <th>scroll_range</th>\n",
       "      <th>max_offset</th>\n",
       "      <th>min_offset</th>\n",
       "      <th>offset_difference</th>\n",
       "      <th>relative_time</th>\n",
       "      <th>reading_duration</th>\n",
       "    </tr>\n",
       "  </thead>\n",
       "  <tbody>\n",
       "    <tr>\n",
       "      <th>0</th>\n",
       "      <td>111</td>\n",
       "      <td>00c29290-338e-42e9-8897-c475c799e1e5</td>\n",
       "      <td>30118783</td>\n",
       "      <td>7116</td>\n",
       "      <td>61</td>\n",
       "      <td>10</td>\n",
       "      <td>51</td>\n",
       "      <td>0</td>\n",
       "      <td>1</td>\n",
       "    </tr>\n",
       "    <tr>\n",
       "      <th>1</th>\n",
       "      <td>111</td>\n",
       "      <td>00c29290-338e-42e9-8897-c475c799e1e5</td>\n",
       "      <td>30118783</td>\n",
       "      <td>7116</td>\n",
       "      <td>0</td>\n",
       "      <td>0</td>\n",
       "      <td>0</td>\n",
       "      <td>1</td>\n",
       "      <td>1</td>\n",
       "    </tr>\n",
       "    <tr>\n",
       "      <th>2</th>\n",
       "      <td>111</td>\n",
       "      <td>2684b548-a936-46f8-90d7-3941bb9cd096</td>\n",
       "      <td>30345801</td>\n",
       "      <td>6830</td>\n",
       "      <td>203</td>\n",
       "      <td>5</td>\n",
       "      <td>198</td>\n",
       "      <td>0</td>\n",
       "      <td>1</td>\n",
       "    </tr>\n",
       "    <tr>\n",
       "      <th>3</th>\n",
       "      <td>111</td>\n",
       "      <td>2684b548-a936-46f8-90d7-3941bb9cd096</td>\n",
       "      <td>30345801</td>\n",
       "      <td>6830</td>\n",
       "      <td>336</td>\n",
       "      <td>0</td>\n",
       "      <td>-336</td>\n",
       "      <td>1</td>\n",
       "      <td>1</td>\n",
       "    </tr>\n",
       "    <tr>\n",
       "      <th>4</th>\n",
       "      <td>111</td>\n",
       "      <td>2684b548-a936-46f8-90d7-3941bb9cd096</td>\n",
       "      <td>30367210</td>\n",
       "      <td>5404</td>\n",
       "      <td>650</td>\n",
       "      <td>46</td>\n",
       "      <td>604</td>\n",
       "      <td>0</td>\n",
       "      <td>10</td>\n",
       "    </tr>\n",
       "  </tbody>\n",
       "</table>\n",
       "</div>"
      ],
      "text/plain": [
       "   user_id                       reading_session  article_id  scroll_range  \\\n",
       "0      111  00c29290-338e-42e9-8897-c475c799e1e5    30118783          7116   \n",
       "1      111  00c29290-338e-42e9-8897-c475c799e1e5    30118783          7116   \n",
       "2      111  2684b548-a936-46f8-90d7-3941bb9cd096    30345801          6830   \n",
       "3      111  2684b548-a936-46f8-90d7-3941bb9cd096    30345801          6830   \n",
       "4      111  2684b548-a936-46f8-90d7-3941bb9cd096    30367210          5404   \n",
       "\n",
       "   max_offset  min_offset  offset_difference  relative_time  reading_duration  \n",
       "0          61          10                 51              0                 1  \n",
       "1           0           0                  0              1                 1  \n",
       "2         203           5                198              0                 1  \n",
       "3         336           0               -336              1                 1  \n",
       "4         650          46                604              0                10  "
      ]
     },
     "execution_count": 2,
     "metadata": {},
     "output_type": "execute_result"
    }
   ],
   "source": [
    "data = pd.read_csv('data/tbl_reading_style.csv')\n",
    "data = data[data['relative_time'] < 2000]\n",
    "data.head()"
   ]
  },
  {
   "cell_type": "markdown",
   "metadata": {},
   "source": [
    "display how each user's reading relative time distributed. "
   ]
  },
  {
   "cell_type": "code",
   "execution_count": 3,
   "metadata": {},
   "outputs": [
    {
     "name": "stdout",
     "output_type": "stream",
     "text": [
      "(7593,)\n",
      "(7593,)\n",
      "(7593, 2)\n"
     ]
    },
    {
     "data": {
      "text/plain": [
       "<matplotlib.collections.PathCollection at 0x1a225ed278>"
      ]
     },
     "execution_count": 3,
     "metadata": {},
     "output_type": "execute_result"
    },
    {
     "data": {
      "image/png": "[encoded data removed]",
      "text/plain": [
       "<Figure size 432x288 with 1 Axes>"
      ]
     },
     "metadata": {
      "needs_background": "light"
     },
     "output_type": "display_data"
    }
   ],
   "source": [
    "f1 = data['relative_time'].values\n",
    "print(f1.shape)\n",
    "f2= data['user_id'].values\n",
    "print(f2.shape)\n",
    "x = np.array(list(zip(f1,f2)))\n",
    "print(x.shape)\n",
    "plt.scatter(f1,f2, c='black', s=7)\n",
    "#filter data 1.filtered() 2.sql \n",
    "\n"
   ]
  },
  {
   "cell_type": "code",
   "execution_count": 4,
   "metadata": {},
   "outputs": [],
   "source": [
    "# for index, row in data.iterrows():\n",
    "#     if row['offset_difference'] < 0:\n",
    "#         temp = row['max_offset']\n",
    "#         row['max_offset'] = row['min_offset']\n",
    "#        row['min_offset'] = temp\n",
    "#         print(row['max_offset'],row['min_offset'],row['offset_difference'])\n",
    "#         np.append([row['max_offset'],row['min_offset'],row['offset_difference']],a)\n",
    "#     if row['offset_difference'] > 0:\n",
    "#         np.append([row['max_offset'],row['min_offset'],row['offset_difference']],a)\n",
    "#         print(row['max_offset'],row['min_offset'],row['offset_difference'])\n",
    "\n"
   ]
  },
  {
   "cell_type": "markdown",
   "metadata": {},
   "source": [
    "display reading style by users"
   ]
  },
  {
   "cell_type": "code",
   "execution_count": 5,
   "metadata": {},
   "outputs": [
    {
     "data": {
      "text/html": [
       "<div>\n",
       "<style scoped>\n",
       "    .dataframe tbody tr th:only-of-type {\n",
       "        vertical-align: middle;\n",
       "    }\n",
       "\n",
       "    .dataframe tbody tr th {\n",
       "        vertical-align: top;\n",
       "    }\n",
       "\n",
       "    .dataframe thead th {\n",
       "        text-align: right;\n",
       "    }\n",
       "</style>\n",
       "<table border=\"1\" class=\"dataframe\">\n",
       "  <thead>\n",
       "    <tr style=\"text-align: right;\">\n",
       "      <th></th>\n",
       "      <th>user_id</th>\n",
       "      <th>reading_session</th>\n",
       "      <th>article_id</th>\n",
       "      <th>scroll_range</th>\n",
       "      <th>max_offset</th>\n",
       "      <th>min_offset</th>\n",
       "      <th>offset_difference</th>\n",
       "      <th>relative_time</th>\n",
       "      <th>reading_duration</th>\n",
       "    </tr>\n",
       "  </thead>\n",
       "  <tbody>\n",
       "    <tr>\n",
       "      <th>216</th>\n",
       "      <td>126</td>\n",
       "      <td>1d9adefa-660e-4ef1-ba52-35804f55c520</td>\n",
       "      <td>36590824</td>\n",
       "      <td>4296</td>\n",
       "      <td>24</td>\n",
       "      <td>2</td>\n",
       "      <td>22</td>\n",
       "      <td>0</td>\n",
       "      <td>5</td>\n",
       "    </tr>\n",
       "    <tr>\n",
       "      <th>217</th>\n",
       "      <td>126</td>\n",
       "      <td>1d9adefa-660e-4ef1-ba52-35804f55c520</td>\n",
       "      <td>36590824</td>\n",
       "      <td>4296</td>\n",
       "      <td>32</td>\n",
       "      <td>26</td>\n",
       "      <td>6</td>\n",
       "      <td>1</td>\n",
       "      <td>5</td>\n",
       "    </tr>\n",
       "    <tr>\n",
       "      <th>218</th>\n",
       "      <td>126</td>\n",
       "      <td>1d9adefa-660e-4ef1-ba52-35804f55c520</td>\n",
       "      <td>36590824</td>\n",
       "      <td>4296</td>\n",
       "      <td>47</td>\n",
       "      <td>33</td>\n",
       "      <td>14</td>\n",
       "      <td>2</td>\n",
       "      <td>5</td>\n",
       "    </tr>\n",
       "    <tr>\n",
       "      <th>219</th>\n",
       "      <td>126</td>\n",
       "      <td>1d9adefa-660e-4ef1-ba52-35804f55c520</td>\n",
       "      <td>36590824</td>\n",
       "      <td>4296</td>\n",
       "      <td>45</td>\n",
       "      <td>14</td>\n",
       "      <td>-31</td>\n",
       "      <td>3</td>\n",
       "      <td>5</td>\n",
       "    </tr>\n",
       "    <tr>\n",
       "      <th>220</th>\n",
       "      <td>126</td>\n",
       "      <td>1d9adefa-660e-4ef1-ba52-35804f55c520</td>\n",
       "      <td>36590824</td>\n",
       "      <td>4296</td>\n",
       "      <td>808</td>\n",
       "      <td>53</td>\n",
       "      <td>755</td>\n",
       "      <td>4</td>\n",
       "      <td>5</td>\n",
       "    </tr>\n",
       "  </tbody>\n",
       "</table>\n",
       "</div>"
      ],
      "text/plain": [
       "     user_id                       reading_session  article_id  scroll_range  \\\n",
       "216      126  1d9adefa-660e-4ef1-ba52-35804f55c520    36590824          4296   \n",
       "217      126  1d9adefa-660e-4ef1-ba52-35804f55c520    36590824          4296   \n",
       "218      126  1d9adefa-660e-4ef1-ba52-35804f55c520    36590824          4296   \n",
       "219      126  1d9adefa-660e-4ef1-ba52-35804f55c520    36590824          4296   \n",
       "220      126  1d9adefa-660e-4ef1-ba52-35804f55c520    36590824          4296   \n",
       "\n",
       "     max_offset  min_offset  offset_difference  relative_time  \\\n",
       "216          24           2                 22              0   \n",
       "217          32          26                  6              1   \n",
       "218          47          33                 14              2   \n",
       "219          45          14                -31              3   \n",
       "220         808          53                755              4   \n",
       "\n",
       "     reading_duration  \n",
       "216                 5  \n",
       "217                 5  \n",
       "218                 5  \n",
       "219                 5  \n",
       "220                 5  "
      ]
     },
     "execution_count": 5,
     "metadata": {},
     "output_type": "execute_result"
    }
   ],
   "source": [
    "pd.options.display.max_rows = 1000\n",
    "filtered_data =  data[(data['user_id'] == 126)]\n",
    "filtered_data.head()\n",
    "\n",
    "\n"
   ]
  },
  {
   "cell_type": "code",
   "execution_count": 6,
   "metadata": {},
   "outputs": [],
   "source": [
    "filtered_data1 = filtered_data[(filtered_data['article_id'] ==36590824 )]\n",
    "filtered_data2 = filtered_data[(filtered_data['article_id'] ==36524213 )]\n",
    "filtered_data3 = filtered_data[(filtered_data['article_id'] ==36524212 )]\n",
    "filtered_data4 = filtered_data[(filtered_data['article_id'] ==36586021 )]\n",
    "filtered_data5 = filtered_data[(filtered_data['article_id'] ==36579125 )]\n",
    "filtered_data6 = filtered_data[(filtered_data['article_id'] ==36663127 )]\n",
    "filtered_data7 = filtered_data[(filtered_data['article_id'] ==36710828 )]\n",
    "filtered_data8 = filtered_data[(filtered_data['article_id'] ==36809083 )]\n",
    "\n",
    "# + --------------- +\n",
    "# | article_id      |\n",
    "# + --------------- +\n",
    "# | 36590824        |\n",
    "# | 36524213        |\n",
    "# | 36524212        |\n",
    "# | 36586021        |\n",
    "# | 36579125        |\n",
    "# | 36663127        |\n",
    "# | 36710828        |\n",
    "# | 36809083        |\n",
    "# + --------------- +"
   ]
  },
  {
   "cell_type": "code",
   "execution_count": 7,
   "metadata": {},
   "outputs": [
    {
     "data": {
      "text/plain": [
       "([<matplotlib.lines.Line2D at 0x1a2337a550>,\n",
       "  <matplotlib.lines.Line2D at 0x1a2337ab70>,\n",
       "  <matplotlib.lines.Line2D at 0x1a23388240>,\n",
       "  <matplotlib.lines.Line2D at 0x1a233888d0>,\n",
       "  <matplotlib.lines.Line2D at 0x1a23388f60>,\n",
       "  <matplotlib.lines.Line2D at 0x1a23393630>],\n",
       " [<matplotlib.patches.Rectangle at 0x1a2337a6a0>,\n",
       "  <matplotlib.patches.Rectangle at 0x1a2337ad30>,\n",
       "  <matplotlib.patches.Rectangle at 0x1a23388400>,\n",
       "  <matplotlib.patches.Rectangle at 0x1a23388a90>,\n",
       "  <matplotlib.patches.Rectangle at 0x1a23393160>,\n",
       "  <matplotlib.patches.Rectangle at 0x1a233937f0>])"
      ]
     },
     "execution_count": 7,
     "metadata": {},
     "output_type": "execute_result"
    },
    {
     "data": {
      "image/png": "[encoded data removed]",
      "text/plain": [
       "<Figure size 1440x720 with 1 Axes>"
      ]
     },
     "metadata": {
      "needs_background": "light"
     },
     "output_type": "display_data"
    }
   ],
   "source": [
    "#for i in filtered_data: \n",
    "  #  if filtered_data['offset_difference'] > 0:\n",
    "  ##      ohlc= filtered_data[['relative_time', 'max_offset', 'max_offset', 'min_offset','min_offset']].copy()\n",
    " #   else:\n",
    "#        ohlc= filtered_data[['relative_time',  'min_offset','min_offset','max_offset', 'max_offset']].copy()\n",
    "        \n",
    "ohlc= filtered_data1[['relative_time', 'max_offset', 'max_offset', 'min_offset','min_offset']].copy()\n",
    "\n",
    "f1, ax = plt.subplots(figsize = (20,10))\n",
    "ax.set_xlabel('relative_time')\n",
    "ax.set_ylabel('scroll_offset')\n",
    "candlestick_ohlc(ax, ohlc.values, width=.6, colorup='green', colordown='red')\n",
    "\n",
    "\n"
   ]
  },
  {
   "cell_type": "code",
   "execution_count": 8,
   "metadata": {},
   "outputs": [
    {
     "data": {
      "text/plain": [
       "([<matplotlib.lines.Line2D at 0x1a237f2a20>,\n",
       "  <matplotlib.lines.Line2D at 0x1a237fb080>,\n",
       "  <matplotlib.lines.Line2D at 0x1a237fb710>,\n",
       "  <matplotlib.lines.Line2D at 0x1a237fbda0>,\n",
       "  <matplotlib.lines.Line2D at 0x1a23805470>,\n",
       "  <matplotlib.lines.Line2D at 0x1a23805b00>,\n",
       "  <matplotlib.lines.Line2D at 0x1a2380f1d0>,\n",
       "  <matplotlib.lines.Line2D at 0x1a2380f860>,\n",
       "  <matplotlib.lines.Line2D at 0x1a2380fef0>,\n",
       "  <matplotlib.lines.Line2D at 0x1a2381b5c0>,\n",
       "  <matplotlib.lines.Line2D at 0x1a2381bc50>,\n",
       "  <matplotlib.lines.Line2D at 0x1a23825320>,\n",
       "  <matplotlib.lines.Line2D at 0x1a238259b0>,\n",
       "  <matplotlib.lines.Line2D at 0x1a2382d080>,\n",
       "  <matplotlib.lines.Line2D at 0x1a2382d710>,\n",
       "  <matplotlib.lines.Line2D at 0x1a2382dda0>,\n",
       "  <matplotlib.lines.Line2D at 0x1a23838470>],\n",
       " [<matplotlib.patches.Rectangle at 0x1a237f2b70>,\n",
       "  <matplotlib.patches.Rectangle at 0x1a237fb240>,\n",
       "  <matplotlib.patches.Rectangle at 0x1a237fb8d0>,\n",
       "  <matplotlib.patches.Rectangle at 0x1a237fbf60>,\n",
       "  <matplotlib.patches.Rectangle at 0x1a23805630>,\n",
       "  <matplotlib.patches.Rectangle at 0x1a23805cc0>,\n",
       "  <matplotlib.patches.Rectangle at 0x1a2380f390>,\n",
       "  <matplotlib.patches.Rectangle at 0x1a2380fa20>,\n",
       "  <matplotlib.patches.Rectangle at 0x1a2381b0f0>,\n",
       "  <matplotlib.patches.Rectangle at 0x1a2381b780>,\n",
       "  <matplotlib.patches.Rectangle at 0x1a2381be10>,\n",
       "  <matplotlib.patches.Rectangle at 0x1a238254e0>,\n",
       "  <matplotlib.patches.Rectangle at 0x1a23825b70>,\n",
       "  <matplotlib.patches.Rectangle at 0x1a2382d240>,\n",
       "  <matplotlib.patches.Rectangle at 0x1a2382d8d0>,\n",
       "  <matplotlib.patches.Rectangle at 0x1a2382df60>,\n",
       "  <matplotlib.patches.Rectangle at 0x1a23838630>])"
      ]
     },
     "execution_count": 8,
     "metadata": {},
     "output_type": "execute_result"
    },
    {
     "data": {
      "image/png": "[encoded data removed]",
      "text/plain": [
       "<Figure size 1440x720 with 1 Axes>"
      ]
     },
     "metadata": {
      "needs_background": "light"
     },
     "output_type": "display_data"
    }
   ],
   "source": [
    "ohlc= filtered_data2[['relative_time', 'max_offset', 'max_offset', 'min_offset','min_offset']].copy()\n",
    "\n",
    "f1, ax = plt.subplots(figsize = (20,10))\n",
    "ax.set_xlabel('relative_time')\n",
    "ax.set_ylabel('scroll_offset')\n",
    "candlestick_ohlc(ax, ohlc.values, width=.6, colorup='green', colordown='red')\n",
    "\n",
    "\n",
    "\n"
   ]
  },
  {
   "cell_type": "code",
   "execution_count": 9,
   "metadata": {},
   "outputs": [
    {
     "data": {
      "text/plain": [
       "([<matplotlib.lines.Line2D at 0x1a22d4a470>,\n",
       "  <matplotlib.lines.Line2D at 0x1a22d4aa90>,\n",
       "  <matplotlib.lines.Line2D at 0x1a22d3a160>,\n",
       "  <matplotlib.lines.Line2D at 0x1a22d3a7f0>,\n",
       "  <matplotlib.lines.Line2D at 0x1a22d3ae80>,\n",
       "  <matplotlib.lines.Line2D at 0x1a238a2550>,\n",
       "  <matplotlib.lines.Line2D at 0x1a238a2be0>,\n",
       "  <matplotlib.lines.Line2D at 0x1a238aa2b0>],\n",
       " [<matplotlib.patches.Rectangle at 0x1a22d4a5c0>,\n",
       "  <matplotlib.patches.Rectangle at 0x1a22d4ac50>,\n",
       "  <matplotlib.patches.Rectangle at 0x1a22d3a320>,\n",
       "  <matplotlib.patches.Rectangle at 0x1a22d3a9b0>,\n",
       "  <matplotlib.patches.Rectangle at 0x1a238a2080>,\n",
       "  <matplotlib.patches.Rectangle at 0x1a238a2710>,\n",
       "  <matplotlib.patches.Rectangle at 0x1a238a2da0>,\n",
       "  <matplotlib.patches.Rectangle at 0x1a238aa470>])"
      ]
     },
     "execution_count": 9,
     "metadata": {},
     "output_type": "execute_result"
    },
    {
     "data": {
      "image/png": "[encoded data removed]",
      "text/plain": [
       "<Figure size 1440x720 with 1 Axes>"
      ]
     },
     "metadata": {
      "needs_background": "light"
     },
     "output_type": "display_data"
    }
   ],
   "source": [
    "ohlc= filtered_data3[['relative_time', 'max_offset', 'max_offset', 'min_offset','min_offset']].copy()\n",
    "\n",
    "f1, ax = plt.subplots(figsize = (20,10))\n",
    "ax.set_xlabel('relative_time')\n",
    "ax.set_ylabel('scroll_offset')\n",
    "candlestick_ohlc(ax, ohlc.values, width=.6, colorup='green', colordown='red')\n",
    "\n",
    "\n",
    "\n"
   ]
  },
  {
   "cell_type": "code",
   "execution_count": 10,
   "metadata": {},
   "outputs": [
    {
     "data": {
      "text/plain": [
       "([<matplotlib.lines.Line2D at 0x1a2390b6a0>,\n",
       "  <matplotlib.lines.Line2D at 0x1a2390bcc0>,\n",
       "  <matplotlib.lines.Line2D at 0x1a23912390>,\n",
       "  <matplotlib.lines.Line2D at 0x1a23912a20>,\n",
       "  <matplotlib.lines.Line2D at 0x1a2391d0f0>,\n",
       "  <matplotlib.lines.Line2D at 0x1a2391d780>,\n",
       "  <matplotlib.lines.Line2D at 0x1a2391de10>,\n",
       "  <matplotlib.lines.Line2D at 0x1a239274e0>,\n",
       "  <matplotlib.lines.Line2D at 0x1a23927b70>,\n",
       "  <matplotlib.lines.Line2D at 0x1a23931240>,\n",
       "  <matplotlib.lines.Line2D at 0x1a239318d0>,\n",
       "  <matplotlib.lines.Line2D at 0x1a23931f60>,\n",
       "  <matplotlib.lines.Line2D at 0x1a2393a630>,\n",
       "  <matplotlib.lines.Line2D at 0x1a2393acc0>,\n",
       "  <matplotlib.lines.Line2D at 0x1a23944390>,\n",
       "  <matplotlib.lines.Line2D at 0x1a23944a20>],\n",
       " [<matplotlib.patches.Rectangle at 0x1a2390b7f0>,\n",
       "  <matplotlib.patches.Rectangle at 0x1a2390be80>,\n",
       "  <matplotlib.patches.Rectangle at 0x1a23912550>,\n",
       "  <matplotlib.patches.Rectangle at 0x1a23912be0>,\n",
       "  <matplotlib.patches.Rectangle at 0x1a2391d2b0>,\n",
       "  <matplotlib.patches.Rectangle at 0x1a2391d940>,\n",
       "  <matplotlib.patches.Rectangle at 0x1a2391dfd0>,\n",
       "  <matplotlib.patches.Rectangle at 0x1a239276a0>,\n",
       "  <matplotlib.patches.Rectangle at 0x1a23927d30>,\n",
       "  <matplotlib.patches.Rectangle at 0x1a23931400>,\n",
       "  <matplotlib.patches.Rectangle at 0x1a23931a90>,\n",
       "  <matplotlib.patches.Rectangle at 0x1a2393a160>,\n",
       "  <matplotlib.patches.Rectangle at 0x1a2393a7f0>,\n",
       "  <matplotlib.patches.Rectangle at 0x1a2393ae80>,\n",
       "  <matplotlib.patches.Rectangle at 0x1a23944550>,\n",
       "  <matplotlib.patches.Rectangle at 0x1a23944be0>])"
      ]
     },
     "execution_count": 10,
     "metadata": {},
     "output_type": "execute_result"
    },
    {
     "data": {
      "image/png": "[encoded data removed]",
      "text/plain": [
       "<Figure size 1440x720 with 1 Axes>"
      ]
     },
     "metadata": {
      "needs_background": "light"
     },
     "output_type": "display_data"
    }
   ],
   "source": [
    "ohlc= filtered_data4[['relative_time', 'max_offset', 'max_offset', 'min_offset','min_offset']].copy()\n",
    "\n",
    "f1, ax = plt.subplots(figsize = (20,10))\n",
    "ax.set_xlabel('relative_time')\n",
    "ax.set_ylabel('scroll_offset')\n",
    "candlestick_ohlc(ax, ohlc.values, width=.6, colorup='green', colordown='red')\n",
    "\n",
    "\n",
    "\n"
   ]
  },
  {
   "cell_type": "code",
   "execution_count": 11,
   "metadata": {},
   "outputs": [
    {
     "data": {
      "text/plain": [
       "([<matplotlib.lines.Line2D at 0x1a239b7438>,\n",
       "  <matplotlib.lines.Line2D at 0x1a239b7a58>,\n",
       "  <matplotlib.lines.Line2D at 0x1a239c1128>,\n",
       "  <matplotlib.lines.Line2D at 0x1a239c17b8>,\n",
       "  <matplotlib.lines.Line2D at 0x1a239c1e48>,\n",
       "  <matplotlib.lines.Line2D at 0x1a239ca518>,\n",
       "  <matplotlib.lines.Line2D at 0x1a239caba8>,\n",
       "  <matplotlib.lines.Line2D at 0x1a23c85278>,\n",
       "  <matplotlib.lines.Line2D at 0x1a23c85908>,\n",
       "  <matplotlib.lines.Line2D at 0x1a23c85f98>,\n",
       "  <matplotlib.lines.Line2D at 0x1a23c8e668>,\n",
       "  <matplotlib.lines.Line2D at 0x1a23c8ecf8>,\n",
       "  <matplotlib.lines.Line2D at 0x1a23c983c8>,\n",
       "  <matplotlib.lines.Line2D at 0x1a23c98a58>,\n",
       "  <matplotlib.lines.Line2D at 0x1a23ca2128>,\n",
       "  <matplotlib.lines.Line2D at 0x1a23ca27b8>,\n",
       "  <matplotlib.lines.Line2D at 0x1a23ca2e48>,\n",
       "  <matplotlib.lines.Line2D at 0x1a23cae518>,\n",
       "  <matplotlib.lines.Line2D at 0x1a23caeba8>,\n",
       "  <matplotlib.lines.Line2D at 0x1a23cb6278>,\n",
       "  <matplotlib.lines.Line2D at 0x1a23cb6908>],\n",
       " [<matplotlib.patches.Rectangle at 0x1a239b7588>,\n",
       "  <matplotlib.patches.Rectangle at 0x1a239b7c18>,\n",
       "  <matplotlib.patches.Rectangle at 0x1a239c12e8>,\n",
       "  <matplotlib.patches.Rectangle at 0x1a239c1978>,\n",
       "  <matplotlib.patches.Rectangle at 0x1a239ca048>,\n",
       "  <matplotlib.patches.Rectangle at 0x1a239ca6d8>,\n",
       "  <matplotlib.patches.Rectangle at 0x1a239cad68>,\n",
       "  <matplotlib.patches.Rectangle at 0x1a23c85438>,\n",
       "  <matplotlib.patches.Rectangle at 0x1a23c85ac8>,\n",
       "  <matplotlib.patches.Rectangle at 0x1a23c8e198>,\n",
       "  <matplotlib.patches.Rectangle at 0x1a23c8e828>,\n",
       "  <matplotlib.patches.Rectangle at 0x1a23c8eeb8>,\n",
       "  <matplotlib.patches.Rectangle at 0x1a23c98588>,\n",
       "  <matplotlib.patches.Rectangle at 0x1a23c98c18>,\n",
       "  <matplotlib.patches.Rectangle at 0x1a23ca22e8>,\n",
       "  <matplotlib.patches.Rectangle at 0x1a23ca2978>,\n",
       "  <matplotlib.patches.Rectangle at 0x1a23cae048>,\n",
       "  <matplotlib.patches.Rectangle at 0x1a23cae6d8>,\n",
       "  <matplotlib.patches.Rectangle at 0x1a23caed68>,\n",
       "  <matplotlib.patches.Rectangle at 0x1a23cb6438>,\n",
       "  <matplotlib.patches.Rectangle at 0x1a23cb6ac8>])"
      ]
     },
     "execution_count": 11,
     "metadata": {},
     "output_type": "execute_result"
    },
    {
     "data": {
      "image/png": "[encoded data removed]",
      "text/plain": [
       "<Figure size 1440x720 with 1 Axes>"
      ]
     },
     "metadata": {
      "needs_background": "light"
     },
     "output_type": "display_data"
    }
   ],
   "source": [
    "ohlc= filtered_data5[['relative_time', 'max_offset', 'max_offset', 'min_offset','min_offset']].copy()\n",
    "\n",
    "f1, ax = plt.subplots(figsize = (20,10))\n",
    "ax.set_xlabel('relative_time')\n",
    "ax.set_ylabel('scroll_offset')\n",
    "candlestick_ohlc(ax, ohlc.values, width=.6, colorup='green', colordown='red')\n",
    "\n",
    "\n",
    "\n"
   ]
  },
  {
   "cell_type": "code",
   "execution_count": 12,
   "metadata": {},
   "outputs": [
    {
     "data": {
      "text/plain": [
       "([<matplotlib.lines.Line2D at 0x1a23d28cf8>,\n",
       "  <matplotlib.lines.Line2D at 0x1a23d31358>,\n",
       "  <matplotlib.lines.Line2D at 0x1a23d319e8>,\n",
       "  <matplotlib.lines.Line2D at 0x1a23d3b0b8>,\n",
       "  <matplotlib.lines.Line2D at 0x1a23d3b748>,\n",
       "  <matplotlib.lines.Line2D at 0x1a23d3bdd8>,\n",
       "  <matplotlib.lines.Line2D at 0x1a23ff54a8>,\n",
       "  <matplotlib.lines.Line2D at 0x1a23ff5b38>,\n",
       "  <matplotlib.lines.Line2D at 0x1a23fff208>,\n",
       "  <matplotlib.lines.Line2D at 0x1a23fff898>,\n",
       "  <matplotlib.lines.Line2D at 0x1a23ffff28>,\n",
       "  <matplotlib.lines.Line2D at 0x1a240085f8>,\n",
       "  <matplotlib.lines.Line2D at 0x1a24008c88>,\n",
       "  <matplotlib.lines.Line2D at 0x1a24012358>,\n",
       "  <matplotlib.lines.Line2D at 0x1a240129e8>,\n",
       "  <matplotlib.lines.Line2D at 0x1a2401d0b8>,\n",
       "  <matplotlib.lines.Line2D at 0x1a2401d748>],\n",
       " [<matplotlib.patches.Rectangle at 0x1a23d28e48>,\n",
       "  <matplotlib.patches.Rectangle at 0x1a23d31518>,\n",
       "  <matplotlib.patches.Rectangle at 0x1a23d31ba8>,\n",
       "  <matplotlib.patches.Rectangle at 0x1a23d3b278>,\n",
       "  <matplotlib.patches.Rectangle at 0x1a23d3b908>,\n",
       "  <matplotlib.patches.Rectangle at 0x1a23d3bf98>,\n",
       "  <matplotlib.patches.Rectangle at 0x1a23ff5668>,\n",
       "  <matplotlib.patches.Rectangle at 0x1a23ff5cf8>,\n",
       "  <matplotlib.patches.Rectangle at 0x1a23fff3c8>,\n",
       "  <matplotlib.patches.Rectangle at 0x1a23fffa58>,\n",
       "  <matplotlib.patches.Rectangle at 0x1a24008128>,\n",
       "  <matplotlib.patches.Rectangle at 0x1a240087b8>,\n",
       "  <matplotlib.patches.Rectangle at 0x1a24008e48>,\n",
       "  <matplotlib.patches.Rectangle at 0x1a24012518>,\n",
       "  <matplotlib.patches.Rectangle at 0x1a24012ba8>,\n",
       "  <matplotlib.patches.Rectangle at 0x1a2401d278>,\n",
       "  <matplotlib.patches.Rectangle at 0x1a2401d908>])"
      ]
     },
     "execution_count": 12,
     "metadata": {},
     "output_type": "execute_result"
    },
    {
     "data": {
      "image/png": "[encoded data removed]",
      "text/plain": [
       "<Figure size 1440x720 with 1 Axes>"
      ]
     },
     "metadata": {
      "needs_background": "light"
     },
     "output_type": "display_data"
    }
   ],
   "source": [
    "ohlc= filtered_data6[['relative_time', 'max_offset', 'max_offset', 'min_offset','min_offset']].copy()\n",
    "\n",
    "f1, ax = plt.subplots(figsize = (20,10))\n",
    "ax.set_xlabel('relative_time')\n",
    "ax.set_ylabel('scroll_offset')\n",
    "candlestick_ohlc(ax, ohlc.values, width=.6, colorup='green', colordown='red')\n",
    "\n",
    "\n",
    "\n"
   ]
  },
  {
   "cell_type": "code",
   "execution_count": 13,
   "metadata": {},
   "outputs": [
    {
     "data": {
      "text/plain": [
       "([<matplotlib.lines.Line2D at 0x1a240878d0>,\n",
       "  <matplotlib.lines.Line2D at 0x1a24087ef0>,\n",
       "  <matplotlib.lines.Line2D at 0x1a240915c0>,\n",
       "  <matplotlib.lines.Line2D at 0x1a24091c50>,\n",
       "  <matplotlib.lines.Line2D at 0x1a2409b320>,\n",
       "  <matplotlib.lines.Line2D at 0x1a2409b9b0>,\n",
       "  <matplotlib.lines.Line2D at 0x1a240a4080>,\n",
       "  <matplotlib.lines.Line2D at 0x1a240a4710>],\n",
       " [<matplotlib.patches.Rectangle at 0x1a24087a20>,\n",
       "  <matplotlib.patches.Rectangle at 0x1a240910f0>,\n",
       "  <matplotlib.patches.Rectangle at 0x1a24091780>,\n",
       "  <matplotlib.patches.Rectangle at 0x1a24091e10>,\n",
       "  <matplotlib.patches.Rectangle at 0x1a2409b4e0>,\n",
       "  <matplotlib.patches.Rectangle at 0x1a2409bb70>,\n",
       "  <matplotlib.patches.Rectangle at 0x1a240a4240>,\n",
       "  <matplotlib.patches.Rectangle at 0x1a240a48d0>])"
      ]
     },
     "execution_count": 13,
     "metadata": {},
     "output_type": "execute_result"
    },
    {
     "data": {
      "image/png": "[encoded data removed]",
      "text/plain": [
       "<Figure size 1440x720 with 1 Axes>"
      ]
     },
     "metadata": {
      "needs_background": "light"
     },
     "output_type": "display_data"
    }
   ],
   "source": [
    "ohlc= filtered_data7[['relative_time', 'max_offset', 'max_offset', 'min_offset','min_offset']].copy()\n",
    "\n",
    "f1, ax = plt.subplots(figsize = (20,10))\n",
    "ax.set_xlabel('relative_time')\n",
    "ax.set_ylabel('scroll_offset')\n",
    "candlestick_ohlc(ax, ohlc.values, width=.6, colorup='green', colordown='red')\n",
    "\n",
    "\n",
    "\n"
   ]
  },
  {
   "cell_type": "code",
   "execution_count": 14,
   "metadata": {},
   "outputs": [
    {
     "data": {
      "text/plain": [
       "([<matplotlib.lines.Line2D at 0x1a243bdc50>,\n",
       "  <matplotlib.lines.Line2D at 0x1a243c82b0>,\n",
       "  <matplotlib.lines.Line2D at 0x1a243c8940>,\n",
       "  <matplotlib.lines.Line2D at 0x1a243c8fd0>,\n",
       "  <matplotlib.lines.Line2D at 0x1a243d36a0>,\n",
       "  <matplotlib.lines.Line2D at 0x1a243d3d30>,\n",
       "  <matplotlib.lines.Line2D at 0x1a243dd400>,\n",
       "  <matplotlib.lines.Line2D at 0x1a243dda90>,\n",
       "  <matplotlib.lines.Line2D at 0x1a24692160>,\n",
       "  <matplotlib.lines.Line2D at 0x1a246927f0>,\n",
       "  <matplotlib.lines.Line2D at 0x1a24692e80>,\n",
       "  <matplotlib.lines.Line2D at 0x1a2469b550>,\n",
       "  <matplotlib.lines.Line2D at 0x1a2469bbe0>,\n",
       "  <matplotlib.lines.Line2D at 0x1a246a32b0>,\n",
       "  <matplotlib.lines.Line2D at 0x1a246a3940>,\n",
       "  <matplotlib.lines.Line2D at 0x1a246a3fd0>,\n",
       "  <matplotlib.lines.Line2D at 0x1a246ae6a0>],\n",
       " [<matplotlib.patches.Rectangle at 0x1a243bdda0>,\n",
       "  <matplotlib.patches.Rectangle at 0x1a243c8470>,\n",
       "  <matplotlib.patches.Rectangle at 0x1a243c8b00>,\n",
       "  <matplotlib.patches.Rectangle at 0x1a243d31d0>,\n",
       "  <matplotlib.patches.Rectangle at 0x1a243d3860>,\n",
       "  <matplotlib.patches.Rectangle at 0x1a243d3ef0>,\n",
       "  <matplotlib.patches.Rectangle at 0x1a243dd5c0>,\n",
       "  <matplotlib.patches.Rectangle at 0x1a243ddc50>,\n",
       "  <matplotlib.patches.Rectangle at 0x1a24692320>,\n",
       "  <matplotlib.patches.Rectangle at 0x1a246929b0>,\n",
       "  <matplotlib.patches.Rectangle at 0x1a2469b080>,\n",
       "  <matplotlib.patches.Rectangle at 0x1a2469b710>,\n",
       "  <matplotlib.patches.Rectangle at 0x1a2469bda0>,\n",
       "  <matplotlib.patches.Rectangle at 0x1a246a3470>,\n",
       "  <matplotlib.patches.Rectangle at 0x1a246a3b00>,\n",
       "  <matplotlib.patches.Rectangle at 0x1a246ae1d0>,\n",
       "  <matplotlib.patches.Rectangle at 0x1a246ae860>])"
      ]
     },
     "execution_count": 14,
     "metadata": {},
     "output_type": "execute_result"
    },
    {
     "data": {
      "image/png": "[encoded data removed]",
      "text/plain": [
       "<Figure size 1440x720 with 1 Axes>"
      ]
     },
     "metadata": {
      "needs_background": "light"
     },
     "output_type": "display_data"
    }
   ],
   "source": [
    "ohlc= filtered_data8[['relative_time', 'max_offset', 'max_offset', 'min_offset','min_offset']].copy()\n",
    "\n",
    "f1, ax = plt.subplots(figsize = (20,10))\n",
    "ax.set_xlabel('relative_time')\n",
    "ax.set_ylabel('scroll_offset')\n",
    "candlestick_ohlc(ax, ohlc.values, width=.6, colorup='green', colordown='red')\n",
    "\n",
    "\n",
    "\n"
   ]
  },
  {
   "cell_type": "code",
   "execution_count": null,
   "metadata": {},
   "outputs": [],
   "source": []
  },
  {
   "cell_type": "code",
   "execution_count": null,
   "metadata": {},
   "outputs": [],
   "source": []
  },
  {
   "cell_type": "code",
   "execution_count": null,
   "metadata": {},
   "outputs": [],
   "source": []
  },
  {
   "cell_type": "code",
   "execution_count": null,
   "metadata": {},
   "outputs": [],
   "source": []
  },
  {
   "cell_type": "code",
   "execution_count": null,
   "metadata": {},
   "outputs": [],
   "source": []
  },
  {
   "cell_type": "code",
   "execution_count": null,
   "metadata": {},
   "outputs": [],
   "source": []
  },
  {
   "cell_type": "code",
   "execution_count": null,
   "metadata": {},
   "outputs": [],
   "source": []
  }
 ],
 "metadata": {
  "kernelspec": {
   "display_name": "Python 3",
   "language": "python",
   "name": "python3"
  },
  "language_info": {
   "codemirror_mode": {
    "name": "ipython",
    "version": 3
   },
   "file_extension": ".py",
   "mimetype": "text/x-python",
   "name": "python",
   "nbconvert_exporter": "python",
   "pygments_lexer": "ipython3",
   "version": "3.6.6"
  }
 },
 "nbformat": 4,
 "nbformat_minor": 2
}
