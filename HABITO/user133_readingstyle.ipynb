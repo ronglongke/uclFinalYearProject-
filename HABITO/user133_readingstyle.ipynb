{
 "cells": [
  {
   "cell_type": "code",
   "execution_count": 1,
   "metadata": {},
   "outputs": [],
   "source": [
    "import numpy as np\n",
    "import pandas as pd \n",
    "import pylab as pl\n",
    "from matplotlib import pyplot as plt #画图\n",
    "from sklearn.cluster import KMeans \n",
    "plt.rcParams['figure.figsize'] = (16,9)\n",
    "plt.style.use('ggplot')\n",
    "\n",
    "from mpl_toolkits import mplot3d\n",
    "%matplotlib inline\n",
    "import numpy as np\n",
    "import matplotlib.pyplot as plt\n",
    "import pandas as pd\n",
    "# import pandas_datareader as datareader\n",
    "import matplotlib.pyplot as plt\n",
    "import datetime\n",
    "from mpl_finance import candlestick_ohlc\n",
    "# from mpl_finance import candlestick_ohlc\n",
    "import matplotlib.dates as mdates"
   ]
  },
  {
   "cell_type": "markdown",
   "metadata": {},
   "source": [
    "reading data from reading_scroll_features table and some data cleaning "
   ]
  },
  {
   "cell_type": "code",
   "execution_count": 2,
   "metadata": {},
   "outputs": [
    {
     "data": {
      "text/html": [
       "<div>\n",
       "<style scoped>\n",
       "    .dataframe tbody tr th:only-of-type {\n",
       "        vertical-align: middle;\n",
       "    }\n",
       "\n",
       "    .dataframe tbody tr th {\n",
       "        vertical-align: top;\n",
       "    }\n",
       "\n",
       "    .dataframe thead th {\n",
       "        text-align: right;\n",
       "    }\n",
       "</style>\n",
       "<table border=\"1\" class=\"dataframe\">\n",
       "  <thead>\n",
       "    <tr style=\"text-align: right;\">\n",
       "      <th></th>\n",
       "      <th>user_id</th>\n",
       "      <th>reading_session</th>\n",
       "      <th>article_id</th>\n",
       "      <th>scroll_range</th>\n",
       "      <th>max_offset</th>\n",
       "      <th>min_offset</th>\n",
       "      <th>offset_difference</th>\n",
       "      <th>relative_time</th>\n",
       "      <th>reading_duration</th>\n",
       "    </tr>\n",
       "  </thead>\n",
       "  <tbody>\n",
       "    <tr>\n",
       "      <th>0</th>\n",
       "      <td>111</td>\n",
       "      <td>00c29290-338e-42e9-8897-c475c799e1e5</td>\n",
       "      <td>30118783</td>\n",
       "      <td>7116</td>\n",
       "      <td>61</td>\n",
       "      <td>10</td>\n",
       "      <td>51</td>\n",
       "      <td>0</td>\n",
       "      <td>1</td>\n",
       "    </tr>\n",
       "    <tr>\n",
       "      <th>1</th>\n",
       "      <td>111</td>\n",
       "      <td>00c29290-338e-42e9-8897-c475c799e1e5</td>\n",
       "      <td>30118783</td>\n",
       "      <td>7116</td>\n",
       "      <td>0</td>\n",
       "      <td>0</td>\n",
       "      <td>0</td>\n",
       "      <td>1</td>\n",
       "      <td>1</td>\n",
       "    </tr>\n",
       "    <tr>\n",
       "      <th>2</th>\n",
       "      <td>111</td>\n",
       "      <td>2684b548-a936-46f8-90d7-3941bb9cd096</td>\n",
       "      <td>30345801</td>\n",
       "      <td>6830</td>\n",
       "      <td>203</td>\n",
       "      <td>5</td>\n",
       "      <td>198</td>\n",
       "      <td>0</td>\n",
       "      <td>1</td>\n",
       "    </tr>\n",
       "    <tr>\n",
       "      <th>3</th>\n",
       "      <td>111</td>\n",
       "      <td>2684b548-a936-46f8-90d7-3941bb9cd096</td>\n",
       "      <td>30345801</td>\n",
       "      <td>6830</td>\n",
       "      <td>336</td>\n",
       "      <td>0</td>\n",
       "      <td>-336</td>\n",
       "      <td>1</td>\n",
       "      <td>1</td>\n",
       "    </tr>\n",
       "    <tr>\n",
       "      <th>4</th>\n",
       "      <td>111</td>\n",
       "      <td>2684b548-a936-46f8-90d7-3941bb9cd096</td>\n",
       "      <td>30367210</td>\n",
       "      <td>5404</td>\n",
       "      <td>650</td>\n",
       "      <td>46</td>\n",
       "      <td>604</td>\n",
       "      <td>0</td>\n",
       "      <td>10</td>\n",
       "    </tr>\n",
       "  </tbody>\n",
       "</table>\n",
       "</div>"
      ],
      "text/plain": [
       "   user_id                       reading_session  article_id  scroll_range  \\\n",
       "0      111  00c29290-338e-42e9-8897-c475c799e1e5    30118783          7116   \n",
       "1      111  00c29290-338e-42e9-8897-c475c799e1e5    30118783          7116   \n",
       "2      111  2684b548-a936-46f8-90d7-3941bb9cd096    30345801          6830   \n",
       "3      111  2684b548-a936-46f8-90d7-3941bb9cd096    30345801          6830   \n",
       "4      111  2684b548-a936-46f8-90d7-3941bb9cd096    30367210          5404   \n",
       "\n",
       "   max_offset  min_offset  offset_difference  relative_time  reading_duration  \n",
       "0          61          10                 51              0                 1  \n",
       "1           0           0                  0              1                 1  \n",
       "2         203           5                198              0                 1  \n",
       "3         336           0               -336              1                 1  \n",
       "4         650          46                604              0                10  "
      ]
     },
     "execution_count": 2,
     "metadata": {},
     "output_type": "execute_result"
    }
   ],
   "source": [
    "data = pd.read_csv('data/tbl_reading_style.csv')\n",
    "data = data[data['relative_time'] < 2000]\n",
    "data.head()"
   ]
  },
  {
   "cell_type": "markdown",
   "metadata": {},
   "source": [
    "display how each user's reading relative time distributed. "
   ]
  },
  {
   "cell_type": "code",
   "execution_count": 3,
   "metadata": {},
   "outputs": [
    {
     "name": "stdout",
     "output_type": "stream",
     "text": [
      "(7593,)\n",
      "(7593,)\n",
      "(7593, 2)\n"
     ]
    },
    {
     "data": {
      "text/plain": [
       "<matplotlib.collections.PathCollection at 0x1a21ada208>"
      ]
     },
     "execution_count": 3,
     "metadata": {},
     "output_type": "execute_result"
    },
    {
     "data": {
      "image/png": "[encoded data removed]",
      "text/plain": [
       "<Figure size 432x288 with 1 Axes>"
      ]
     },
     "metadata": {
      "needs_background": "light"
     },
     "output_type": "display_data"
    }
   ],
   "source": [
    "f1 = data['relative_time'].values\n",
    "print(f1.shape)\n",
    "f2= data['user_id'].values\n",
    "print(f2.shape)\n",
    "x = np.array(list(zip(f1,f2)))\n",
    "print(x.shape)\n",
    "plt.scatter(f1,f2, c='black', s=7)\n",
    "#filter data 1.filtered() 2.sql \n",
    "\n"
   ]
  },
  {
   "cell_type": "code",
   "execution_count": 4,
   "metadata": {},
   "outputs": [],
   "source": [
    "# for index, row in data.iterrows():\n",
    "#     if row['offset_difference'] < 0:\n",
    "#         temp = row['max_offset']\n",
    "#         row['max_offset'] = row['min_offset']\n",
    "#        row['min_offset'] = temp\n",
    "#         print(row['max_offset'],row['min_offset'],row['offset_difference'])\n",
    "#         np.append([row['max_offset'],row['min_offset'],row['offset_difference']],a)\n",
    "#     if row['offset_difference'] > 0:\n",
    "#         np.append([row['max_offset'],row['min_offset'],row['offset_difference']],a)\n",
    "#         print(row['max_offset'],row['min_offset'],row['offset_difference'])\n",
    "\n"
   ]
  },
  {
   "cell_type": "markdown",
   "metadata": {},
   "source": [
    "display reading style by users"
   ]
  },
  {
   "cell_type": "code",
   "execution_count": 5,
   "metadata": {},
   "outputs": [
    {
     "data": {
      "text/html": [
       "<div>\n",
       "<style scoped>\n",
       "    .dataframe tbody tr th:only-of-type {\n",
       "        vertical-align: middle;\n",
       "    }\n",
       "\n",
       "    .dataframe tbody tr th {\n",
       "        vertical-align: top;\n",
       "    }\n",
       "\n",
       "    .dataframe thead th {\n",
       "        text-align: right;\n",
       "    }\n",
       "</style>\n",
       "<table border=\"1\" class=\"dataframe\">\n",
       "  <thead>\n",
       "    <tr style=\"text-align: right;\">\n",
       "      <th></th>\n",
       "      <th>user_id</th>\n",
       "      <th>reading_session</th>\n",
       "      <th>article_id</th>\n",
       "      <th>scroll_range</th>\n",
       "      <th>max_offset</th>\n",
       "      <th>min_offset</th>\n",
       "      <th>offset_difference</th>\n",
       "      <th>relative_time</th>\n",
       "      <th>reading_duration</th>\n",
       "    </tr>\n",
       "  </thead>\n",
       "  <tbody>\n",
       "    <tr>\n",
       "      <th>264</th>\n",
       "      <td>133</td>\n",
       "      <td>994c6021-ae57-4531-ace8-4c2ee91bf920</td>\n",
       "      <td>36524212</td>\n",
       "      <td>12330</td>\n",
       "      <td>27</td>\n",
       "      <td>27</td>\n",
       "      <td>0</td>\n",
       "      <td>0</td>\n",
       "      <td>13</td>\n",
       "    </tr>\n",
       "    <tr>\n",
       "      <th>265</th>\n",
       "      <td>133</td>\n",
       "      <td>994c6021-ae57-4531-ace8-4c2ee91bf920</td>\n",
       "      <td>36524212</td>\n",
       "      <td>12330</td>\n",
       "      <td>1122</td>\n",
       "      <td>64</td>\n",
       "      <td>1058</td>\n",
       "      <td>1</td>\n",
       "      <td>13</td>\n",
       "    </tr>\n",
       "    <tr>\n",
       "      <th>266</th>\n",
       "      <td>133</td>\n",
       "      <td>994c6021-ae57-4531-ace8-4c2ee91bf920</td>\n",
       "      <td>36524212</td>\n",
       "      <td>12330</td>\n",
       "      <td>1130</td>\n",
       "      <td>1124</td>\n",
       "      <td>6</td>\n",
       "      <td>2</td>\n",
       "      <td>13</td>\n",
       "    </tr>\n",
       "    <tr>\n",
       "      <th>267</th>\n",
       "      <td>133</td>\n",
       "      <td>994c6021-ae57-4531-ace8-4c2ee91bf920</td>\n",
       "      <td>36524212</td>\n",
       "      <td>12330</td>\n",
       "      <td>1086</td>\n",
       "      <td>403</td>\n",
       "      <td>-683</td>\n",
       "      <td>3</td>\n",
       "      <td>13</td>\n",
       "    </tr>\n",
       "    <tr>\n",
       "      <th>268</th>\n",
       "      <td>133</td>\n",
       "      <td>994c6021-ae57-4531-ace8-4c2ee91bf920</td>\n",
       "      <td>36524212</td>\n",
       "      <td>12330</td>\n",
       "      <td>402</td>\n",
       "      <td>0</td>\n",
       "      <td>-402</td>\n",
       "      <td>4</td>\n",
       "      <td>13</td>\n",
       "    </tr>\n",
       "  </tbody>\n",
       "</table>\n",
       "</div>"
      ],
      "text/plain": [
       "     user_id                       reading_session  article_id  scroll_range  \\\n",
       "264      133  994c6021-ae57-4531-ace8-4c2ee91bf920    36524212         12330   \n",
       "265      133  994c6021-ae57-4531-ace8-4c2ee91bf920    36524212         12330   \n",
       "266      133  994c6021-ae57-4531-ace8-4c2ee91bf920    36524212         12330   \n",
       "267      133  994c6021-ae57-4531-ace8-4c2ee91bf920    36524212         12330   \n",
       "268      133  994c6021-ae57-4531-ace8-4c2ee91bf920    36524212         12330   \n",
       "\n",
       "     max_offset  min_offset  offset_difference  relative_time  \\\n",
       "264          27          27                  0              0   \n",
       "265        1122          64               1058              1   \n",
       "266        1130        1124                  6              2   \n",
       "267        1086         403               -683              3   \n",
       "268         402           0               -402              4   \n",
       "\n",
       "     reading_duration  \n",
       "264                13  \n",
       "265                13  \n",
       "266                13  \n",
       "267                13  \n",
       "268                13  "
      ]
     },
     "execution_count": 5,
     "metadata": {},
     "output_type": "execute_result"
    }
   ],
   "source": [
    "pd.options.display.max_rows = 1000\n",
    "filtered_data =  data[(data['user_id'] == 133)]\n",
    "filtered_data.head()\n",
    "\n",
    "\n"
   ]
  },
  {
   "cell_type": "code",
   "execution_count": 6,
   "metadata": {},
   "outputs": [],
   "source": [
    "filtered_data1 = filtered_data[(filtered_data['article_id'] ==36524212 )]\n",
    "filtered_data2 = filtered_data[(filtered_data['article_id'] ==36579430 )]\n",
    "filtered_data3 = filtered_data[(filtered_data['article_id'] ==36615028 )]\n",
    "filtered_data4 = filtered_data[(filtered_data['article_id'] ==36608269 )]\n",
    "filtered_data5 = filtered_data[(filtered_data['article_id'] ==36574299 )]\n",
    "filtered_data6 = filtered_data[(filtered_data['article_id'] ==36662684 )]\n",
    "filtered_data7 = filtered_data[(filtered_data['article_id'] ==36638178 )]\n",
    "filtered_data8 = filtered_data[(filtered_data['article_id'] ==36661402 )]\n",
    "\n",
    "# + --------------- +\n",
    "# | article_id      |\n",
    "# + --------------- +\n",
    "# | 36524212        |\n",
    "# | 36579430        |\n",
    "# | 36615028        |\n",
    "# | 36608269        |\n",
    "# | 36574299        |\n",
    "# | 36662684        |\n",
    "# | 36638178        |\n",
    "# | 36661402        |\n",
    "# + --------------- +"
   ]
  },
  {
   "cell_type": "code",
   "execution_count": 7,
   "metadata": {},
   "outputs": [
    {
     "data": {
      "text/plain": [
       "([<matplotlib.lines.Line2D at 0x1a2287f630>,\n",
       "  <matplotlib.lines.Line2D at 0x1a2287fc50>,\n",
       "  <matplotlib.lines.Line2D at 0x1a2288a320>,\n",
       "  <matplotlib.lines.Line2D at 0x1a2288a9b0>,\n",
       "  <matplotlib.lines.Line2D at 0x1a22896080>,\n",
       "  <matplotlib.lines.Line2D at 0x1a22896710>,\n",
       "  <matplotlib.lines.Line2D at 0x1a22896da0>,\n",
       "  <matplotlib.lines.Line2D at 0x1a2289f470>,\n",
       "  <matplotlib.lines.Line2D at 0x1a2289fb00>,\n",
       "  <matplotlib.lines.Line2D at 0x1a228a81d0>,\n",
       "  <matplotlib.lines.Line2D at 0x1a228a8860>,\n",
       "  <matplotlib.lines.Line2D at 0x1a228a8ef0>],\n",
       " [<matplotlib.patches.Rectangle at 0x1a2287f780>,\n",
       "  <matplotlib.patches.Rectangle at 0x1a2287fe10>,\n",
       "  <matplotlib.patches.Rectangle at 0x1a2288a4e0>,\n",
       "  <matplotlib.patches.Rectangle at 0x1a2288ab70>,\n",
       "  <matplotlib.patches.Rectangle at 0x1a22896240>,\n",
       "  <matplotlib.patches.Rectangle at 0x1a228968d0>,\n",
       "  <matplotlib.patches.Rectangle at 0x1a22896f60>,\n",
       "  <matplotlib.patches.Rectangle at 0x1a2289f630>,\n",
       "  <matplotlib.patches.Rectangle at 0x1a2289fcc0>,\n",
       "  <matplotlib.patches.Rectangle at 0x1a228a8390>,\n",
       "  <matplotlib.patches.Rectangle at 0x1a228a8a20>,\n",
       "  <matplotlib.patches.Rectangle at 0x1a228b20f0>])"
      ]
     },
     "execution_count": 7,
     "metadata": {},
     "output_type": "execute_result"
    },
    {
     "data": {
      "image/png": "[encoded data removed]",
      "text/plain": [
       "<Figure size 1440x720 with 1 Axes>"
      ]
     },
     "metadata": {
      "needs_background": "light"
     },
     "output_type": "display_data"
    }
   ],
   "source": [
    "#for i in filtered_data: \n",
    "  #  if filtered_data['offset_difference'] > 0:\n",
    "  ##      ohlc= filtered_data[['relative_time', 'max_offset', 'max_offset', 'min_offset','min_offset']].copy()\n",
    " #   else:\n",
    "#        ohlc= filtered_data[['relative_time',  'min_offset','min_offset','max_offset', 'max_offset']].copy()\n",
    "        \n",
    "ohlc =pd.DataFrame(columns=['date', 'open', 'high', 'low', 'close'])\n",
    "for index, row in filtered_data1.iterrows():\n",
    "    if int(row['offset_difference'])>0:\n",
    "        ohlc.loc[index]=[row['relative_time'], row['min_offset'], row['max_offset'], row['min_offset'],row['max_offset']]\n",
    "    else :\n",
    "        ohlc.loc[index]=[row['relative_time'], row['max_offset'], row['max_offset'], row['min_offset'],row['min_offset']]\n",
    "f1, ax = plt.subplots(figsize = (20,10))\n",
    "ax.set_xlabel('relative_time')\n",
    "ax.set_ylabel('scroll_offset')\n",
    "candlestick_ohlc(ax, ohlc.values, width=.6, colorup='green', colordown='red')\n",
    "\n",
    "\n"
   ]
  },
  {
   "cell_type": "code",
   "execution_count": 8,
   "metadata": {},
   "outputs": [
    {
     "data": {
      "text/plain": [
       "([<matplotlib.lines.Line2D at 0x1a22d19cf8>,\n",
       "  <matplotlib.lines.Line2D at 0x1a22d22358>,\n",
       "  <matplotlib.lines.Line2D at 0x1a22d229e8>,\n",
       "  <matplotlib.lines.Line2D at 0x1a22d2c0b8>,\n",
       "  <matplotlib.lines.Line2D at 0x1a22d2c748>,\n",
       "  <matplotlib.lines.Line2D at 0x1a22d2cdd8>,\n",
       "  <matplotlib.lines.Line2D at 0x1a22d354a8>,\n",
       "  <matplotlib.lines.Line2D at 0x1a22d35b38>,\n",
       "  <matplotlib.lines.Line2D at 0x1a22d3f208>,\n",
       "  <matplotlib.lines.Line2D at 0x1a22d3f898>,\n",
       "  <matplotlib.lines.Line2D at 0x1a22d3ff28>,\n",
       "  <matplotlib.lines.Line2D at 0x1a22d495f8>,\n",
       "  <matplotlib.lines.Line2D at 0x1a22d49c88>,\n",
       "  <matplotlib.lines.Line2D at 0x1a22d52358>,\n",
       "  <matplotlib.lines.Line2D at 0x1a22d529e8>,\n",
       "  <matplotlib.lines.Line2D at 0x1a22d5c0b8>,\n",
       "  <matplotlib.lines.Line2D at 0x1a22d5c748>,\n",
       "  <matplotlib.lines.Line2D at 0x1a22d5cdd8>,\n",
       "  <matplotlib.lines.Line2D at 0x1a22d654a8>,\n",
       "  <matplotlib.lines.Line2D at 0x1a22d65b38>],\n",
       " [<matplotlib.patches.Rectangle at 0x1a22d19e48>,\n",
       "  <matplotlib.patches.Rectangle at 0x1a22d22518>,\n",
       "  <matplotlib.patches.Rectangle at 0x1a22d22ba8>,\n",
       "  <matplotlib.patches.Rectangle at 0x1a22d2c278>,\n",
       "  <matplotlib.patches.Rectangle at 0x1a22d2c908>,\n",
       "  <matplotlib.patches.Rectangle at 0x1a22d2cf98>,\n",
       "  <matplotlib.patches.Rectangle at 0x1a22d35668>,\n",
       "  <matplotlib.patches.Rectangle at 0x1a22d35cf8>,\n",
       "  <matplotlib.patches.Rectangle at 0x1a22d3f3c8>,\n",
       "  <matplotlib.patches.Rectangle at 0x1a22d3fa58>,\n",
       "  <matplotlib.patches.Rectangle at 0x1a22d49128>,\n",
       "  <matplotlib.patches.Rectangle at 0x1a22d497b8>,\n",
       "  <matplotlib.patches.Rectangle at 0x1a22d49e48>,\n",
       "  <matplotlib.patches.Rectangle at 0x1a22d52518>,\n",
       "  <matplotlib.patches.Rectangle at 0x1a22d52ba8>,\n",
       "  <matplotlib.patches.Rectangle at 0x1a22d5c278>,\n",
       "  <matplotlib.patches.Rectangle at 0x1a22d5c908>,\n",
       "  <matplotlib.patches.Rectangle at 0x1a22d5cf98>,\n",
       "  <matplotlib.patches.Rectangle at 0x1a22d65668>,\n",
       "  <matplotlib.patches.Rectangle at 0x1a22d65cf8>])"
      ]
     },
     "execution_count": 8,
     "metadata": {},
     "output_type": "execute_result"
    },
    {
     "data": {
      "image/png": "[encoded data removed]",
      "text/plain": [
       "<Figure size 1440x720 with 1 Axes>"
      ]
     },
     "metadata": {
      "needs_background": "light"
     },
     "output_type": "display_data"
    }
   ],
   "source": [
    "ohlc =pd.DataFrame(columns=['date', 'open', 'high', 'low', 'close'])\n",
    "for index, row in filtered_data2.iterrows():\n",
    "    if int(row['offset_difference'])>0:\n",
    "        ohlc.loc[index]=[row['relative_time'], row['min_offset'], row['max_offset'], row['min_offset'],row['max_offset']]\n",
    "    else :\n",
    "        ohlc.loc[index]=[row['relative_time'], row['max_offset'], row['max_offset'], row['min_offset'],row['min_offset']]\n",
    "\n",
    "f1, ax = plt.subplots(figsize = (20,10))\n",
    "ax.set_xlabel('relative_time')\n",
    "ax.set_ylabel('scroll_offset')\n",
    "candlestick_ohlc(ax, ohlc.values, width=.6, colorup='green', colordown='red')\n",
    "\n",
    "\n",
    "\n"
   ]
  },
  {
   "cell_type": "code",
   "execution_count": 9,
   "metadata": {},
   "outputs": [
    {
     "data": {
      "text/plain": [
       "([<matplotlib.lines.Line2D at 0x1a2223bcc0>,\n",
       "  <matplotlib.lines.Line2D at 0x1a2222b320>,\n",
       "  <matplotlib.lines.Line2D at 0x1a2222b9b0>,\n",
       "  <matplotlib.lines.Line2D at 0x1a22dbd080>,\n",
       "  <matplotlib.lines.Line2D at 0x1a22dbd710>,\n",
       "  <matplotlib.lines.Line2D at 0x1a22dbdda0>],\n",
       " [<matplotlib.patches.Rectangle at 0x1a2223be10>,\n",
       "  <matplotlib.patches.Rectangle at 0x1a2222b4e0>,\n",
       "  <matplotlib.patches.Rectangle at 0x1a2222bb70>,\n",
       "  <matplotlib.patches.Rectangle at 0x1a22dbd240>,\n",
       "  <matplotlib.patches.Rectangle at 0x1a22dbd8d0>,\n",
       "  <matplotlib.patches.Rectangle at 0x1a22dbdf60>])"
      ]
     },
     "execution_count": 9,
     "metadata": {},
     "output_type": "execute_result"
    },
    {
     "data": {
      "image/png": "[encoded data removed]",
      "text/plain": [
       "<Figure size 1440x720 with 1 Axes>"
      ]
     },
     "metadata": {
      "needs_background": "light"
     },
     "output_type": "display_data"
    }
   ],
   "source": [
    "ohlc =pd.DataFrame(columns=['date', 'open', 'high', 'low', 'close'])\n",
    "for index, row in filtered_data3.iterrows():\n",
    "    if int(row['offset_difference'])>0:\n",
    "        ohlc.loc[index]=[row['relative_time'], row['min_offset'], row['max_offset'], row['min_offset'],row['max_offset']]\n",
    "    else :\n",
    "        ohlc.loc[index]=[row['relative_time'], row['max_offset'], row['max_offset'], row['min_offset'],row['min_offset']]\n",
    "f1, ax = plt.subplots(figsize = (20,10))\n",
    "ax.set_xlabel('relative_time')\n",
    "ax.set_ylabel('scroll_offset')\n",
    "candlestick_ohlc(ax, ohlc.values, width=.6, colorup='green', colordown='red')\n",
    "\n",
    "\n",
    "\n"
   ]
  },
  {
   "cell_type": "code",
   "execution_count": 10,
   "metadata": {},
   "outputs": [
    {
     "data": {
      "text/plain": [
       "([<matplotlib.lines.Line2D at 0x1a22e41eb8>,\n",
       "  <matplotlib.lines.Line2D at 0x1a22e4a518>,\n",
       "  <matplotlib.lines.Line2D at 0x1a22e4aba8>,\n",
       "  <matplotlib.lines.Line2D at 0x1a22e54278>,\n",
       "  <matplotlib.lines.Line2D at 0x1a22e54908>,\n",
       "  <matplotlib.lines.Line2D at 0x1a22e54f98>,\n",
       "  <matplotlib.lines.Line2D at 0x1a22e5c668>,\n",
       "  <matplotlib.lines.Line2D at 0x1a22e5ccf8>,\n",
       "  <matplotlib.lines.Line2D at 0x1a22e653c8>,\n",
       "  <matplotlib.lines.Line2D at 0x1a22e65a58>,\n",
       "  <matplotlib.lines.Line2D at 0x1a22e72128>],\n",
       " [<matplotlib.patches.Rectangle at 0x1a22e4a048>,\n",
       "  <matplotlib.patches.Rectangle at 0x1a22e4a6d8>,\n",
       "  <matplotlib.patches.Rectangle at 0x1a22e4ad68>,\n",
       "  <matplotlib.patches.Rectangle at 0x1a22e54438>,\n",
       "  <matplotlib.patches.Rectangle at 0x1a22e54ac8>,\n",
       "  <matplotlib.patches.Rectangle at 0x1a22e5c198>,\n",
       "  <matplotlib.patches.Rectangle at 0x1a22e5c828>,\n",
       "  <matplotlib.patches.Rectangle at 0x1a22e5ceb8>,\n",
       "  <matplotlib.patches.Rectangle at 0x1a22e65588>,\n",
       "  <matplotlib.patches.Rectangle at 0x1a22e65c18>,\n",
       "  <matplotlib.patches.Rectangle at 0x1a22e722e8>])"
      ]
     },
     "execution_count": 10,
     "metadata": {},
     "output_type": "execute_result"
    },
    {
     "data": {
      "image/png": "[encoded data removed]",
      "text/plain": [
       "<Figure size 1440x720 with 1 Axes>"
      ]
     },
     "metadata": {
      "needs_background": "light"
     },
     "output_type": "display_data"
    }
   ],
   "source": [
    "ohlc =pd.DataFrame(columns=['date', 'open', 'high', 'low', 'close'])\n",
    "for index, row in filtered_data4.iterrows():\n",
    "    if int(row['offset_difference'])>0:\n",
    "        ohlc.loc[index]=[row['relative_time'], row['min_offset'], row['max_offset'], row['min_offset'],row['max_offset']]\n",
    "    else :\n",
    "        ohlc.loc[index]=[row['relative_time'], row['max_offset'], row['max_offset'], row['min_offset'],row['min_offset']]\n",
    "f1, ax = plt.subplots(figsize = (20,10))\n",
    "ax.set_xlabel('relative_time')\n",
    "ax.set_ylabel('scroll_offset')\n",
    "candlestick_ohlc(ax, ohlc.values, width=.6, colorup='green', colordown='red')\n",
    "\n",
    "\n",
    "\n"
   ]
  },
  {
   "cell_type": "code",
   "execution_count": 12,
   "metadata": {},
   "outputs": [
    {
     "data": {
      "text/plain": [
       "([<matplotlib.lines.Line2D at 0x1a22ee2390>,\n",
       "  <matplotlib.lines.Line2D at 0x1a22ee29b0>,\n",
       "  <matplotlib.lines.Line2D at 0x1a22eed080>,\n",
       "  <matplotlib.lines.Line2D at 0x1a22eed710>,\n",
       "  <matplotlib.lines.Line2D at 0x1a22eedda0>,\n",
       "  <matplotlib.lines.Line2D at 0x1a22ef6470>,\n",
       "  <matplotlib.lines.Line2D at 0x1a22ef6b00>,\n",
       "  <matplotlib.lines.Line2D at 0x1a231af1d0>,\n",
       "  <matplotlib.lines.Line2D at 0x1a231af860>,\n",
       "  <matplotlib.lines.Line2D at 0x1a231afef0>,\n",
       "  <matplotlib.lines.Line2D at 0x1a231b85c0>,\n",
       "  <matplotlib.lines.Line2D at 0x1a231b8c50>,\n",
       "  <matplotlib.lines.Line2D at 0x1a231c3320>,\n",
       "  <matplotlib.lines.Line2D at 0x1a231c39b0>,\n",
       "  <matplotlib.lines.Line2D at 0x1a231ce080>],\n",
       " [<matplotlib.patches.Rectangle at 0x1a22ee24e0>,\n",
       "  <matplotlib.patches.Rectangle at 0x1a22ee2b70>,\n",
       "  <matplotlib.patches.Rectangle at 0x1a22eed240>,\n",
       "  <matplotlib.patches.Rectangle at 0x1a22eed8d0>,\n",
       "  <matplotlib.patches.Rectangle at 0x1a22eedf60>,\n",
       "  <matplotlib.patches.Rectangle at 0x1a22ef6630>,\n",
       "  <matplotlib.patches.Rectangle at 0x1a22ef6cc0>,\n",
       "  <matplotlib.patches.Rectangle at 0x1a231af390>,\n",
       "  <matplotlib.patches.Rectangle at 0x1a231afa20>,\n",
       "  <matplotlib.patches.Rectangle at 0x1a231b80f0>,\n",
       "  <matplotlib.patches.Rectangle at 0x1a231b8780>,\n",
       "  <matplotlib.patches.Rectangle at 0x1a231b8e10>,\n",
       "  <matplotlib.patches.Rectangle at 0x1a231c34e0>,\n",
       "  <matplotlib.patches.Rectangle at 0x1a231c3b70>,\n",
       "  <matplotlib.patches.Rectangle at 0x1a231ce240>])"
      ]
     },
     "execution_count": 12,
     "metadata": {},
     "output_type": "execute_result"
    },
    {
     "data": {
      "image/png": "[encoded data removed]",
      "text/plain": [
       "<Figure size 1440x720 with 1 Axes>"
      ]
     },
     "metadata": {
      "needs_background": "light"
     },
     "output_type": "display_data"
    }
   ],
   "source": [
    "ohlc =pd.DataFrame(columns=['date', 'open', 'high', 'low', 'close'])\n",
    "for index, row in filtered_data6.iterrows():\n",
    "    if int(row['offset_difference'])>0:\n",
    "        ohlc.loc[index]=[row['relative_time'], row['min_offset'], row['max_offset'], row['min_offset'],row['max_offset']]\n",
    "    else :\n",
    "        ohlc.loc[index]=[row['relative_time'], row['max_offset'], row['max_offset'], row['min_offset'],row['min_offset']]\n",
    "f1, ax = plt.subplots(figsize = (20,10))\n",
    "ax.set_xlabel('relative_time')\n",
    "ax.set_ylabel('scroll_offset')\n",
    "candlestick_ohlc(ax, ohlc.values, width=.6, colorup='green', colordown='red')\n",
    "\n",
    "\n",
    "\n"
   ]
  },
  {
   "cell_type": "code",
   "execution_count": 13,
   "metadata": {},
   "outputs": [
    {
     "data": {
      "text/plain": [
       "([<matplotlib.lines.Line2D at 0x1a234de7b8>,\n",
       "  <matplotlib.lines.Line2D at 0x1a234dedd8>,\n",
       "  <matplotlib.lines.Line2D at 0x1a234e74a8>,\n",
       "  <matplotlib.lines.Line2D at 0x1a234e7b38>,\n",
       "  <matplotlib.lines.Line2D at 0x1a234ef208>,\n",
       "  <matplotlib.lines.Line2D at 0x1a234ef898>,\n",
       "  <matplotlib.lines.Line2D at 0x1a234eff28>,\n",
       "  <matplotlib.lines.Line2D at 0x1a234f95f8>,\n",
       "  <matplotlib.lines.Line2D at 0x1a234f9c88>,\n",
       "  <matplotlib.lines.Line2D at 0x1a23504358>],\n",
       " [<matplotlib.patches.Rectangle at 0x1a234de908>,\n",
       "  <matplotlib.patches.Rectangle at 0x1a234def98>,\n",
       "  <matplotlib.patches.Rectangle at 0x1a234e7668>,\n",
       "  <matplotlib.patches.Rectangle at 0x1a234e7cf8>,\n",
       "  <matplotlib.patches.Rectangle at 0x1a234ef3c8>,\n",
       "  <matplotlib.patches.Rectangle at 0x1a234efa58>,\n",
       "  <matplotlib.patches.Rectangle at 0x1a234f9128>,\n",
       "  <matplotlib.patches.Rectangle at 0x1a234f97b8>,\n",
       "  <matplotlib.patches.Rectangle at 0x1a234f9e48>,\n",
       "  <matplotlib.patches.Rectangle at 0x1a23504518>])"
      ]
     },
     "execution_count": 13,
     "metadata": {},
     "output_type": "execute_result"
    },
    {
     "data": {
      "image/png": "[encoded data removed]",
      "text/plain": [
       "<Figure size 1440x720 with 1 Axes>"
      ]
     },
     "metadata": {
      "needs_background": "light"
     },
     "output_type": "display_data"
    }
   ],
   "source": [
    "ohlc =pd.DataFrame(columns=['date', 'open', 'high', 'low', 'close'])\n",
    "for index, row in filtered_data7.iterrows():\n",
    "    if int(row['offset_difference'])>0:\n",
    "        ohlc.loc[index]=[row['relative_time'], row['min_offset'], row['max_offset'], row['min_offset'],row['max_offset']]\n",
    "    else :\n",
    "        ohlc.loc[index]=[row['relative_time'], row['max_offset'], row['max_offset'], row['min_offset'],row['min_offset']]\n",
    "\n",
    "f1, ax = plt.subplots(figsize = (20,10))\n",
    "ax.set_xlabel('relative_time')\n",
    "ax.set_ylabel('scroll_offset')\n",
    "candlestick_ohlc(ax, ohlc.values, width=.6, colorup='green', colordown='red')\n",
    "\n",
    "\n",
    "\n"
   ]
  },
  {
   "cell_type": "code",
   "execution_count": 43,
   "metadata": {},
   "outputs": [
    {
     "data": {
      "text/plain": [
       "([<matplotlib.lines.Line2D at 0x1a2459bb00>,\n",
       "  <matplotlib.lines.Line2D at 0x1a245a4160>,\n",
       "  <matplotlib.lines.Line2D at 0x1a245a47f0>,\n",
       "  <matplotlib.lines.Line2D at 0x1a245a4e80>,\n",
       "  <matplotlib.lines.Line2D at 0x1a245af550>,\n",
       "  <matplotlib.lines.Line2D at 0x1a245afbe0>,\n",
       "  <matplotlib.lines.Line2D at 0x1a245b62b0>,\n",
       "  <matplotlib.lines.Line2D at 0x1a245b6940>,\n",
       "  <matplotlib.lines.Line2D at 0x1a245b6fd0>,\n",
       "  <matplotlib.lines.Line2D at 0x1a248726a0>],\n",
       " [<matplotlib.patches.Rectangle at 0x1a2459bc50>,\n",
       "  <matplotlib.patches.Rectangle at 0x1a245a4320>,\n",
       "  <matplotlib.patches.Rectangle at 0x1a245a49b0>,\n",
       "  <matplotlib.patches.Rectangle at 0x1a245af080>,\n",
       "  <matplotlib.patches.Rectangle at 0x1a245af710>,\n",
       "  <matplotlib.patches.Rectangle at 0x1a245afda0>,\n",
       "  <matplotlib.patches.Rectangle at 0x1a245b6470>,\n",
       "  <matplotlib.patches.Rectangle at 0x1a245b6b00>,\n",
       "  <matplotlib.patches.Rectangle at 0x1a248721d0>,\n",
       "  <matplotlib.patches.Rectangle at 0x1a24872860>])"
      ]
     },
     "execution_count": 43,
     "metadata": {},
     "output_type": "execute_result"
    },
    {
     "data": {
      "image/png": "[encoded data removed]",
      "text/plain": [
       "<Figure size 1440x720 with 1 Axes>"
      ]
     },
     "metadata": {
      "needs_background": "light"
     },
     "output_type": "display_data"
    }
   ],
   "source": [
    "ohlc =pd.DataFrame(columns=['date', 'open', 'high', 'low', 'close'])\n",
    "for index, row in filtered_data8.iterrows():\n",
    "    if int(row['offset_difference'])>0:\n",
    "        ohlc.loc[index]=[row['relative_time'], row['min_offset'], row['max_offset'], row['min_offset'],row['max_offset']]\n",
    "    else :\n",
    "        ohlc.loc[index]=[row['relative_time'], row['max_offset'], row['max_offset'], row['min_offset'],row['min_offset']]\n",
    "f1, ax = plt.subplots(figsize = (20,10))\n",
    "ax.set_xlabel('relative_time')\n",
    "ax.set_ylabel('scroll_offset')\n",
    "candlestick_ohlc(ax, ohlc.values, width=.6, colorup='green', colordown='red')\n",
    "\n",
    "\n",
    "\n"
   ]
  },
  {
   "cell_type": "code",
   "execution_count": null,
   "metadata": {},
   "outputs": [],
   "source": []
  },
  {
   "cell_type": "code",
   "execution_count": null,
   "metadata": {},
   "outputs": [],
   "source": []
  },
  {
   "cell_type": "code",
   "execution_count": null,
   "metadata": {},
   "outputs": [],
   "source": []
  },
  {
   "cell_type": "code",
   "execution_count": null,
   "metadata": {},
   "outputs": [],
   "source": []
  }
 ],
 "metadata": {
  "kernelspec": {
   "display_name": "Python 3",
   "language": "python",
   "name": "python3"
  },
  "language_info": {
   "codemirror_mode": {
    "name": "ipython",
    "version": 3
   },
   "file_extension": ".py",
   "mimetype": "text/x-python",
   "name": "python",
   "nbconvert_exporter": "python",
   "pygments_lexer": "ipython3",
   "version": "3.6.6"
  }
 },
 "nbformat": 4,
 "nbformat_minor": 2
}
