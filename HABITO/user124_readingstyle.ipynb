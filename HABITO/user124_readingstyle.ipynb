{
 "cells": [
  {
   "cell_type": "code",
   "execution_count": 2,
   "metadata": {},
   "outputs": [],
   "source": [
    "import numpy as np\n",
    "import pandas as pd \n",
    "import pylab as pl\n",
    "from matplotlib import pyplot as plt #画图\n",
    "from sklearn.cluster import KMeans \n",
    "plt.rcParams['figure.figsize'] = (16,9)\n",
    "plt.style.use('ggplot')\n",
    "\n",
    "from mpl_toolkits import mplot3d\n",
    "%matplotlib inline\n",
    "import numpy as np\n",
    "import matplotlib.pyplot as plt\n",
    "import pandas as pd\n",
    "# import pandas_datareader as datareader\n",
    "import matplotlib.pyplot as plt\n",
    "import datetime\n",
    "from mpl_finance import candlestick_ohlc\n",
    "# from mpl_finance import candlestick_ohlc\n",
    "import matplotlib.dates as mdates"
   ]
  },
  {
   "cell_type": "markdown",
   "metadata": {},
   "source": [
    "reading data from reading_scroll_features table and some data cleaning "
   ]
  },
  {
   "cell_type": "code",
   "execution_count": 6,
   "metadata": {},
   "outputs": [
    {
     "data": {
      "text/html": [
       "<div>\n",
       "<style scoped>\n",
       "    .dataframe tbody tr th:only-of-type {\n",
       "        vertical-align: middle;\n",
       "    }\n",
       "\n",
       "    .dataframe tbody tr th {\n",
       "        vertical-align: top;\n",
       "    }\n",
       "\n",
       "    .dataframe thead th {\n",
       "        text-align: right;\n",
       "    }\n",
       "</style>\n",
       "<table border=\"1\" class=\"dataframe\">\n",
       "  <thead>\n",
       "    <tr style=\"text-align: right;\">\n",
       "      <th></th>\n",
       "      <th>user_id</th>\n",
       "      <th>reading_session</th>\n",
       "      <th>article_id</th>\n",
       "      <th>scroll_range</th>\n",
       "      <th>max_offset</th>\n",
       "      <th>min_offset</th>\n",
       "      <th>offset_difference</th>\n",
       "      <th>relative_time</th>\n",
       "      <th>reading_duration</th>\n",
       "    </tr>\n",
       "  </thead>\n",
       "  <tbody>\n",
       "    <tr>\n",
       "      <th>0</th>\n",
       "      <td>111</td>\n",
       "      <td>00c29290-338e-42e9-8897-c475c799e1e5</td>\n",
       "      <td>30118783</td>\n",
       "      <td>7116</td>\n",
       "      <td>61</td>\n",
       "      <td>10</td>\n",
       "      <td>51</td>\n",
       "      <td>0</td>\n",
       "      <td>1</td>\n",
       "    </tr>\n",
       "    <tr>\n",
       "      <th>1</th>\n",
       "      <td>111</td>\n",
       "      <td>00c29290-338e-42e9-8897-c475c799e1e5</td>\n",
       "      <td>30118783</td>\n",
       "      <td>7116</td>\n",
       "      <td>0</td>\n",
       "      <td>0</td>\n",
       "      <td>0</td>\n",
       "      <td>1</td>\n",
       "      <td>1</td>\n",
       "    </tr>\n",
       "    <tr>\n",
       "      <th>2</th>\n",
       "      <td>111</td>\n",
       "      <td>2684b548-a936-46f8-90d7-3941bb9cd096</td>\n",
       "      <td>30345801</td>\n",
       "      <td>6830</td>\n",
       "      <td>203</td>\n",
       "      <td>5</td>\n",
       "      <td>198</td>\n",
       "      <td>0</td>\n",
       "      <td>1</td>\n",
       "    </tr>\n",
       "    <tr>\n",
       "      <th>3</th>\n",
       "      <td>111</td>\n",
       "      <td>2684b548-a936-46f8-90d7-3941bb9cd096</td>\n",
       "      <td>30345801</td>\n",
       "      <td>6830</td>\n",
       "      <td>336</td>\n",
       "      <td>0</td>\n",
       "      <td>-336</td>\n",
       "      <td>1</td>\n",
       "      <td>1</td>\n",
       "    </tr>\n",
       "    <tr>\n",
       "      <th>4</th>\n",
       "      <td>111</td>\n",
       "      <td>2684b548-a936-46f8-90d7-3941bb9cd096</td>\n",
       "      <td>30367210</td>\n",
       "      <td>5404</td>\n",
       "      <td>650</td>\n",
       "      <td>46</td>\n",
       "      <td>604</td>\n",
       "      <td>0</td>\n",
       "      <td>10</td>\n",
       "    </tr>\n",
       "  </tbody>\n",
       "</table>\n",
       "</div>"
      ],
      "text/plain": [
       "   user_id                       reading_session  article_id  scroll_range  \\\n",
       "0      111  00c29290-338e-42e9-8897-c475c799e1e5    30118783          7116   \n",
       "1      111  00c29290-338e-42e9-8897-c475c799e1e5    30118783          7116   \n",
       "2      111  2684b548-a936-46f8-90d7-3941bb9cd096    30345801          6830   \n",
       "3      111  2684b548-a936-46f8-90d7-3941bb9cd096    30345801          6830   \n",
       "4      111  2684b548-a936-46f8-90d7-3941bb9cd096    30367210          5404   \n",
       "\n",
       "   max_offset  min_offset  offset_difference  relative_time  reading_duration  \n",
       "0          61          10                 51              0                 1  \n",
       "1           0           0                  0              1                 1  \n",
       "2         203           5                198              0                 1  \n",
       "3         336           0               -336              1                 1  \n",
       "4         650          46                604              0                10  "
      ]
     },
     "execution_count": 6,
     "metadata": {},
     "output_type": "execute_result"
    }
   ],
   "source": [
    "data = pd.read_csv('data/tbl_reading_style.csv')\n",
    "data = data[data['relative_time'] < 2000]\n",
    "data.head()\n"
   ]
  },
  {
   "cell_type": "markdown",
   "metadata": {},
   "source": [
    "display how each user's reading relative time distributed. "
   ]
  },
  {
   "cell_type": "code",
   "execution_count": 7,
   "metadata": {},
   "outputs": [
    {
     "name": "stdout",
     "output_type": "stream",
     "text": [
      "(7593,)\n",
      "(7593,)\n",
      "(7593, 2)\n"
     ]
    },
    {
     "data": {
      "text/plain": [
       "<matplotlib.collections.PathCollection at 0x1a25861f28>"
      ]
     },
     "execution_count": 7,
     "metadata": {},
     "output_type": "execute_result"
    },
    {
     "data": {
      "image/png": "[encoded data removed]",
      "text/plain": [
       "<Figure size 432x288 with 1 Axes>"
      ]
     },
     "metadata": {
      "needs_background": "light"
     },
     "output_type": "display_data"
    }
   ],
   "source": [
    "f1 = data['relative_time'].values\n",
    "print(f1.shape)\n",
    "f2= data['user_id'].values\n",
    "print(f2.shape)\n",
    "x = np.array(list(zip(f1,f2)))\n",
    "print(x.shape)\n",
    "plt.scatter(f1,f2, c='black', s=7)\n",
    "#filter data 1.filtered() 2.sql \n",
    "\n"
   ]
  },
  {
   "cell_type": "markdown",
   "metadata": {},
   "source": [
    "display reading style by users"
   ]
  },
  {
   "cell_type": "code",
   "execution_count": 8,
   "metadata": {},
   "outputs": [
    {
     "data": {
      "text/html": [
       "<div>\n",
       "<style scoped>\n",
       "    .dataframe tbody tr th:only-of-type {\n",
       "        vertical-align: middle;\n",
       "    }\n",
       "\n",
       "    .dataframe tbody tr th {\n",
       "        vertical-align: top;\n",
       "    }\n",
       "\n",
       "    .dataframe thead th {\n",
       "        text-align: right;\n",
       "    }\n",
       "</style>\n",
       "<table border=\"1\" class=\"dataframe\">\n",
       "  <thead>\n",
       "    <tr style=\"text-align: right;\">\n",
       "      <th></th>\n",
       "      <th>user_id</th>\n",
       "      <th>reading_session</th>\n",
       "      <th>article_id</th>\n",
       "      <th>scroll_range</th>\n",
       "      <th>max_offset</th>\n",
       "      <th>min_offset</th>\n",
       "      <th>offset_difference</th>\n",
       "      <th>relative_time</th>\n",
       "      <th>reading_duration</th>\n",
       "    </tr>\n",
       "  </thead>\n",
       "  <tbody>\n",
       "    <tr>\n",
       "      <th>110</th>\n",
       "      <td>124</td>\n",
       "      <td>c163ec0f-3639-49ef-b926-1965202de3be</td>\n",
       "      <td>36537821</td>\n",
       "      <td>4401</td>\n",
       "      <td>417</td>\n",
       "      <td>14</td>\n",
       "      <td>403</td>\n",
       "      <td>0</td>\n",
       "      <td>14</td>\n",
       "    </tr>\n",
       "    <tr>\n",
       "      <th>111</th>\n",
       "      <td>124</td>\n",
       "      <td>c163ec0f-3639-49ef-b926-1965202de3be</td>\n",
       "      <td>36537821</td>\n",
       "      <td>4401</td>\n",
       "      <td>2239</td>\n",
       "      <td>471</td>\n",
       "      <td>1768</td>\n",
       "      <td>1</td>\n",
       "      <td>14</td>\n",
       "    </tr>\n",
       "    <tr>\n",
       "      <th>112</th>\n",
       "      <td>124</td>\n",
       "      <td>c163ec0f-3639-49ef-b926-1965202de3be</td>\n",
       "      <td>36537821</td>\n",
       "      <td>4401</td>\n",
       "      <td>2828</td>\n",
       "      <td>2263</td>\n",
       "      <td>565</td>\n",
       "      <td>2</td>\n",
       "      <td>14</td>\n",
       "    </tr>\n",
       "    <tr>\n",
       "      <th>113</th>\n",
       "      <td>124</td>\n",
       "      <td>c163ec0f-3639-49ef-b926-1965202de3be</td>\n",
       "      <td>36537821</td>\n",
       "      <td>4401</td>\n",
       "      <td>2802</td>\n",
       "      <td>1159</td>\n",
       "      <td>-1643</td>\n",
       "      <td>4</td>\n",
       "      <td>14</td>\n",
       "    </tr>\n",
       "    <tr>\n",
       "      <th>114</th>\n",
       "      <td>124</td>\n",
       "      <td>c163ec0f-3639-49ef-b926-1965202de3be</td>\n",
       "      <td>36537821</td>\n",
       "      <td>4401</td>\n",
       "      <td>1114</td>\n",
       "      <td>496</td>\n",
       "      <td>-618</td>\n",
       "      <td>5</td>\n",
       "      <td>14</td>\n",
       "    </tr>\n",
       "  </tbody>\n",
       "</table>\n",
       "</div>"
      ],
      "text/plain": [
       "     user_id                       reading_session  article_id  scroll_range  \\\n",
       "110      124  c163ec0f-3639-49ef-b926-1965202de3be    36537821          4401   \n",
       "111      124  c163ec0f-3639-49ef-b926-1965202de3be    36537821          4401   \n",
       "112      124  c163ec0f-3639-49ef-b926-1965202de3be    36537821          4401   \n",
       "113      124  c163ec0f-3639-49ef-b926-1965202de3be    36537821          4401   \n",
       "114      124  c163ec0f-3639-49ef-b926-1965202de3be    36537821          4401   \n",
       "\n",
       "     max_offset  min_offset  offset_difference  relative_time  \\\n",
       "110         417          14                403              0   \n",
       "111        2239         471               1768              1   \n",
       "112        2828        2263                565              2   \n",
       "113        2802        1159              -1643              4   \n",
       "114        1114         496               -618              5   \n",
       "\n",
       "     reading_duration  \n",
       "110                14  \n",
       "111                14  \n",
       "112                14  \n",
       "113                14  \n",
       "114                14  "
      ]
     },
     "execution_count": 8,
     "metadata": {},
     "output_type": "execute_result"
    }
   ],
   "source": [
    "pd.options.display.max_rows = 1000\n",
    "filtered_data =  data[(data['user_id'] == 124)]\n",
    "filtered_data.head()\n",
    "\n",
    "\n"
   ]
  },
  {
   "cell_type": "code",
   "execution_count": 9,
   "metadata": {},
   "outputs": [],
   "source": [
    "filtered_data1 = filtered_data[(filtered_data['article_id'] ==36537821 )]\n",
    "filtered_data2 = filtered_data[(filtered_data['article_id'] ==36551464 )]\n",
    "filtered_data3 = filtered_data[(filtered_data['article_id'] ==36573970 )]\n",
    "filtered_data4 = filtered_data[(filtered_data['article_id'] ==36575493 )]\n",
    "filtered_data5 = filtered_data[(filtered_data['article_id'] ==36575947 )]\n",
    "filtered_data6 = filtered_data[(filtered_data['article_id'] ==36598140 )]\n",
    "\n",
    "# + --------------- +\n",
    "# | article_id      |\n",
    "# + --------------- +\n",
    "# | 36537821        |\n",
    "# | 36551464        |\n",
    "# | 36573970        |\n",
    "# | 36575493        |\n",
    "# | 36575947        |\n",
    "# | 36598140        |"
   ]
  },
  {
   "cell_type": "code",
   "execution_count": 10,
   "metadata": {},
   "outputs": [
    {
     "data": {
      "text/plain": [
       "([<matplotlib.lines.Line2D at 0x1a25f03278>,\n",
       "  <matplotlib.lines.Line2D at 0x1a25f03898>,\n",
       "  <matplotlib.lines.Line2D at 0x1a25f03f28>,\n",
       "  <matplotlib.lines.Line2D at 0x1a25f0f5f8>,\n",
       "  <matplotlib.lines.Line2D at 0x1a25f0fc88>,\n",
       "  <matplotlib.lines.Line2D at 0x1a25f19358>,\n",
       "  <matplotlib.lines.Line2D at 0x1a25f199e8>,\n",
       "  <matplotlib.lines.Line2D at 0x1a25f220b8>,\n",
       "  <matplotlib.lines.Line2D at 0x1a25f22748>,\n",
       "  <matplotlib.lines.Line2D at 0x1a25f22dd8>,\n",
       "  <matplotlib.lines.Line2D at 0x1a25f2c4a8>,\n",
       "  <matplotlib.lines.Line2D at 0x1a25f2cb38>,\n",
       "  <matplotlib.lines.Line2D at 0x1a25f35208>],\n",
       " [<matplotlib.patches.Rectangle at 0x1a25f033c8>,\n",
       "  <matplotlib.patches.Rectangle at 0x1a25f03a58>,\n",
       "  <matplotlib.patches.Rectangle at 0x1a25f0f128>,\n",
       "  <matplotlib.patches.Rectangle at 0x1a25f0f7b8>,\n",
       "  <matplotlib.patches.Rectangle at 0x1a25f0fe48>,\n",
       "  <matplotlib.patches.Rectangle at 0x1a25f19518>,\n",
       "  <matplotlib.patches.Rectangle at 0x1a25f19ba8>,\n",
       "  <matplotlib.patches.Rectangle at 0x1a25f22278>,\n",
       "  <matplotlib.patches.Rectangle at 0x1a25f22908>,\n",
       "  <matplotlib.patches.Rectangle at 0x1a25f22f98>,\n",
       "  <matplotlib.patches.Rectangle at 0x1a25f2c668>,\n",
       "  <matplotlib.patches.Rectangle at 0x1a25f2ccf8>,\n",
       "  <matplotlib.patches.Rectangle at 0x1a25f353c8>])"
      ]
     },
     "execution_count": 10,
     "metadata": {},
     "output_type": "execute_result"
    },
    {
     "data": {
      "image/png": "[encoded data removed]",
      "text/plain": [
       "<Figure size 1440x720 with 1 Axes>"
      ]
     },
     "metadata": {
      "needs_background": "light"
     },
     "output_type": "display_data"
    }
   ],
   "source": [
    "#for i in filtered_data: \n",
    "  #  if filtered_data['offset_difference'] > 0:\n",
    "  ##      ohlc= filtered_data[['relative_time', 'max_offset', 'max_offset', 'min_offset','min_offset']].copy()\n",
    " #   else:\n",
    "#        ohlc= filtered_data[['relative_time',  'min_offset','min_offset','max_offset', 'max_offset']].copy()\n",
    "        \n",
    "\n",
    "ohlc =pd.DataFrame(columns=['date', 'open', 'high', 'low', 'close'])\n",
    "for index, row in filtered_data1.iterrows():\n",
    "    if int(row['offset_difference'])>0:\n",
    "        ohlc.loc[index]=[row['relative_time'], row['min_offset'], row['max_offset'], row['min_offset'],row['max_offset']]\n",
    "    else :\n",
    "        ohlc.loc[index]=[row['relative_time'], row['max_offset'], row['max_offset'], row['min_offset'],row['min_offset']]\n",
    "\n",
    "f1, ax = plt.subplots(figsize = (20,10))\n",
    "ax.set_xlabel('relative_time')\n",
    "ax.set_ylabel('scroll_offset')\n",
    "candlestick_ohlc(ax, ohlc.values, width=.6, colorup='green', colordown='red')\n",
    "\n",
    "\n"
   ]
  },
  {
   "cell_type": "code",
   "execution_count": 11,
   "metadata": {},
   "outputs": [
    {
     "data": {
      "text/plain": [
       "([<matplotlib.lines.Line2D at 0x1a258aa438>,\n",
       "  <matplotlib.lines.Line2D at 0x1a258aaa58>,\n",
       "  <matplotlib.lines.Line2D at 0x1a26388128>,\n",
       "  <matplotlib.lines.Line2D at 0x1a263887b8>,\n",
       "  <matplotlib.lines.Line2D at 0x1a26388e48>,\n",
       "  <matplotlib.lines.Line2D at 0x1a2639d518>,\n",
       "  <matplotlib.lines.Line2D at 0x1a2639dba8>,\n",
       "  <matplotlib.lines.Line2D at 0x1a263a6278>,\n",
       "  <matplotlib.lines.Line2D at 0x1a263a6908>],\n",
       " [<matplotlib.patches.Rectangle at 0x1a258aa588>,\n",
       "  <matplotlib.patches.Rectangle at 0x1a258aac18>,\n",
       "  <matplotlib.patches.Rectangle at 0x1a263882e8>,\n",
       "  <matplotlib.patches.Rectangle at 0x1a26388978>,\n",
       "  <matplotlib.patches.Rectangle at 0x1a2639d048>,\n",
       "  <matplotlib.patches.Rectangle at 0x1a2639d6d8>,\n",
       "  <matplotlib.patches.Rectangle at 0x1a2639dd68>,\n",
       "  <matplotlib.patches.Rectangle at 0x1a263a6438>,\n",
       "  <matplotlib.patches.Rectangle at 0x1a263a6ac8>])"
      ]
     },
     "execution_count": 11,
     "metadata": {},
     "output_type": "execute_result"
    },
    {
     "data": {
      "image/png": "[encoded data removed]",
      "text/plain": [
       "<Figure size 1440x720 with 1 Axes>"
      ]
     },
     "metadata": {
      "needs_background": "light"
     },
     "output_type": "display_data"
    }
   ],
   "source": [
    "#for i in filtered_data: \n",
    "  #  if filtered_data['offset_difference'] > 0:\n",
    "  ##      ohlc= filtered_data[['relative_time', 'max_offset', 'max_offset', 'min_offset','min_offset']].copy()\n",
    " #   else:\n",
    "#        ohlc= filtered_data[['relative_time',  'min_offset','min_offset','max_offset', 'max_offset']].copy()\n",
    "        \n",
    "\n",
    "ohlc =pd.DataFrame(columns=['date', 'open', 'high', 'low', 'close'])\n",
    "for index, row in filtered_data3.iterrows():\n",
    "    if int(row['offset_difference'])>0:\n",
    "        ohlc.loc[index]=[row['relative_time'], row['min_offset'], row['max_offset'], row['min_offset'],row['max_offset']]\n",
    "    else :\n",
    "        ohlc.loc[index]=[row['relative_time'], row['max_offset'], row['max_offset'], row['min_offset'],row['min_offset']]\n",
    "\n",
    "f1, ax = plt.subplots(figsize = (20,10))\n",
    "ax.set_xlabel('relative_time')\n",
    "ax.set_ylabel('scroll_offset')\n",
    "candlestick_ohlc(ax, ohlc.values, width=.6, colorup='green', colordown='red')\n",
    "\n",
    "\n",
    "\n"
   ]
  },
  {
   "cell_type": "code",
   "execution_count": 12,
   "metadata": {},
   "outputs": [
    {
     "data": {
      "text/plain": [
       "([<matplotlib.lines.Line2D at 0x1a264113c8>,\n",
       "  <matplotlib.lines.Line2D at 0x1a264119e8>,\n",
       "  <matplotlib.lines.Line2D at 0x1a2641b0b8>,\n",
       "  <matplotlib.lines.Line2D at 0x1a2641b748>,\n",
       "  <matplotlib.lines.Line2D at 0x1a2641bdd8>,\n",
       "  <matplotlib.lines.Line2D at 0x1a264234a8>,\n",
       "  <matplotlib.lines.Line2D at 0x1a26423b38>,\n",
       "  <matplotlib.lines.Line2D at 0x1a2642d208>,\n",
       "  <matplotlib.lines.Line2D at 0x1a2642d898>,\n",
       "  <matplotlib.lines.Line2D at 0x1a2642df28>,\n",
       "  <matplotlib.lines.Line2D at 0x1a264385f8>,\n",
       "  <matplotlib.lines.Line2D at 0x1a26438c88>,\n",
       "  <matplotlib.lines.Line2D at 0x1a26441358>,\n",
       "  <matplotlib.lines.Line2D at 0x1a264419e8>],\n",
       " [<matplotlib.patches.Rectangle at 0x1a26411518>,\n",
       "  <matplotlib.patches.Rectangle at 0x1a26411ba8>,\n",
       "  <matplotlib.patches.Rectangle at 0x1a2641b278>,\n",
       "  <matplotlib.patches.Rectangle at 0x1a2641b908>,\n",
       "  <matplotlib.patches.Rectangle at 0x1a2641bf98>,\n",
       "  <matplotlib.patches.Rectangle at 0x1a26423668>,\n",
       "  <matplotlib.patches.Rectangle at 0x1a26423cf8>,\n",
       "  <matplotlib.patches.Rectangle at 0x1a2642d3c8>,\n",
       "  <matplotlib.patches.Rectangle at 0x1a2642da58>,\n",
       "  <matplotlib.patches.Rectangle at 0x1a26438128>,\n",
       "  <matplotlib.patches.Rectangle at 0x1a264387b8>,\n",
       "  <matplotlib.patches.Rectangle at 0x1a26438e48>,\n",
       "  <matplotlib.patches.Rectangle at 0x1a26441518>,\n",
       "  <matplotlib.patches.Rectangle at 0x1a26441ba8>])"
      ]
     },
     "execution_count": 12,
     "metadata": {},
     "output_type": "execute_result"
    },
    {
     "data": {
      "image/png": "[encoded data removed]",
      "text/plain": [
       "<Figure size 1440x720 with 1 Axes>"
      ]
     },
     "metadata": {
      "needs_background": "light"
     },
     "output_type": "display_data"
    }
   ],
   "source": [
    "#for i in filtered_data: \n",
    "  #  if filtered_data['offset_difference'] > 0:\n",
    "  ##      ohlc= filtered_data[['relative_time', 'max_offset', 'max_offset', 'min_offset','min_offset']].copy()\n",
    " #   else:\n",
    "#        ohlc= filtered_data[['relative_time',  'min_offset','min_offset','max_offset', 'max_offset']].copy()\n",
    "        \n",
    "\n",
    "ohlc =pd.DataFrame(columns=['date', 'open', 'high', 'low', 'close'])\n",
    "for index, row in filtered_data4.iterrows():\n",
    "    \n",
    "    if int(row['offset_difference'])>0:\n",
    "        ohlc.loc[index]=[row['relative_time'], row['min_offset'], row['max_offset'], row['min_offset'],row['max_offset']]\n",
    "    else :\n",
    "        ohlc.loc[index]=[row['relative_time'], row['max_offset'], row['max_offset'], row['min_offset'],row['min_offset']]\n",
    "\n",
    "f1, ax = plt.subplots(figsize = (20,10))\n",
    "ax.set_xlabel('relative_time')\n",
    "ax.set_ylabel('scroll_offset')\n",
    "candlestick_ohlc(ax, ohlc.values, width=.6, colorup='green', colordown='red')\n",
    "\n",
    "\n",
    "\n"
   ]
  },
  {
   "cell_type": "code",
   "execution_count": null,
   "metadata": {},
   "outputs": [],
   "source": []
  },
  {
   "cell_type": "code",
   "execution_count": null,
   "metadata": {},
   "outputs": [],
   "source": []
  },
  {
   "cell_type": "code",
   "execution_count": null,
   "metadata": {},
   "outputs": [],
   "source": []
  },
  {
   "cell_type": "code",
   "execution_count": null,
   "metadata": {},
   "outputs": [],
   "source": []
  }
 ],
 "metadata": {
  "kernelspec": {
   "display_name": "Python 3",
   "language": "python",
   "name": "python3"
  },
  "language_info": {
   "codemirror_mode": {
    "name": "ipython",
    "version": 3
   },
   "file_extension": ".py",
   "mimetype": "text/x-python",
   "name": "python",
   "nbconvert_exporter": "python",
   "pygments_lexer": "ipython3",
   "version": "3.6.6"
  }
 },
 "nbformat": 4,
 "nbformat_minor": 2
}
